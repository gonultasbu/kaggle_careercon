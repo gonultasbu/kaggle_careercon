{
 "cells": [
  {
   "cell_type": "code",
   "execution_count": 13,
   "metadata": {},
   "outputs": [],
   "source": [
    "import os\n",
    "import time\n",
    "import numpy as np\n",
    "import pandas as pd\n",
    "import seaborn as sns\n",
    "from seaborn import countplot,lineplot, barplot\n",
    "import matplotlib.pyplot as plt\n",
    "from sklearn.preprocessing import LabelEncoder\n",
    "from sklearn.model_selection import KFold\n",
    "from bayes_opt import BayesianOptimization\n",
    "import lightgbm as lgb\n",
    "import xgboost as xgb\n",
    "import catboost as cb\n",
    "from xgboost import XGBClassifier\n",
    "from lightgbm import LGBMClassifier\n",
    "from sklearn.metrics import accuracy_score, confusion_matrix\n",
    "from sklearn.ensemble import RandomForestClassifier\n",
    "from sklearn.model_selection import KFold, StratifiedKFold, GroupKFold, GroupShuffleSplit\n",
    "from sklearn.tree import DecisionTreeClassifier\n",
    "from skopt import BayesSearchCV\n",
    "import math\n",
    "from itertools import chain\n"
   ]
  },
  {
   "cell_type": "code",
   "execution_count": 4,
   "metadata": {},
   "outputs": [
    {
     "data": {
      "image/png": "[encoded data removed]",
      "text/plain": [
       "<Figure size 432x288 with 1 Axes>"
      ]
     },
     "metadata": {
      "needs_background": "light"
     },
     "output_type": "display_data"
    }
   ],
   "source": [
    "def quaternion_to_euler(x, y, z, w):\n",
    "\n",
    "    t0 = +2.0 * (w * x + y * z)\n",
    "    t1 = +1.0 - 2.0 * (x * x + y * y)\n",
    "    X = math.atan2(t0, t1)\n",
    "\n",
    "    t2 = +2.0 * (w * y - z * x)\n",
    "    t2 = +1.0 if t2 > +1.0 else t2\n",
    "    t2 = -1.0 if t2 < -1.0 else t2\n",
    "    Y = math.asin(t2)\n",
    "\n",
    "    t3 = +2.0 * (w * z + x * y)\n",
    "    t4 = +1.0 - 2.0 * (y * y + z * z)\n",
    "    Z = math.atan2(t3, t4)\n",
    "\n",
    "    return X, Y, Z\n",
    "\n",
    "def fe(actual):\n",
    "    new = pd.DataFrame()\n",
    "    actual['total_angular_velocity'] = np.sqrt(np.square(actual['angular_velocity_X']) + \n",
    "                                        np.square(actual['angular_velocity_Y']) + \n",
    "                                        np.square(actual['angular_velocity_Z']))\n",
    "    actual['total_linear_acceleration'] = np.sqrt(np.square(actual['linear_acceleration_X']) + \n",
    "                                            np.square(actual['linear_acceleration_Y']) + \n",
    "                                            np.square(actual['linear_acceleration_Z']))\n",
    "    \n",
    "    actual['acc_vs_vel'] = actual['total_linear_acceleration'] / actual['total_angular_velocity']\n",
    "    \n",
    "    x, y, z, w = actual['orientation_X'].tolist(), actual['orientation_Y'].tolist(), actual['orientation_Z'].tolist(), actual['orientation_W'].tolist()\n",
    "    nx, ny, nz = [], [], []\n",
    "    for i in range(len(x)):\n",
    "        xx, yy, zz = quaternion_to_euler(x[i], y[i], z[i], w[i])\n",
    "        nx.append(xx)\n",
    "        ny.append(yy)\n",
    "        nz.append(zz)\n",
    "    \n",
    "    actual['euler_x'] = nx\n",
    "    actual['euler_y'] = ny\n",
    "    actual['euler_z'] = nz\n",
    "    \n",
    "    def f1(x):\n",
    "        return np.mean(np.diff(np.abs(np.diff(x))))\n",
    "    \n",
    "    def f2(x):\n",
    "        return np.mean(np.abs(np.diff(x)))\n",
    "    \n",
    "    for col in actual.columns:\n",
    "        if col in ['row_id', 'series_id', 'measurement_number']:\n",
    "            continue\n",
    "        new[col + '_mean'] = actual.groupby(['series_id'])[col].mean()\n",
    "        new[col + '_min'] = actual.groupby(['series_id'])[col].min()\n",
    "        new[col + '_max'] = actual.groupby(['series_id'])[col].max()\n",
    "        new[col + '_std'] = actual.groupby(['series_id'])[col].std()\n",
    "        new[col + '_max_to_min'] = new[col + '_max'] / new[col + '_min']\n",
    "        \n",
    "        # Change. 1st order.\n",
    "        new[col + '_mean_abs_change'] = actual.groupby('series_id')[col].apply(f2)\n",
    "        \n",
    "        # Change of Change. 2nd order.\n",
    "        new[col + '_mean_change_of_abs_change'] = actual.groupby('series_id')[col].apply(f1)\n",
    "        \n",
    "        new[col + '_abs_max'] = actual.groupby('series_id')[col].apply(lambda x: np.max(np.abs(x)))\n",
    "        new[col + '_abs_min'] = actual.groupby('series_id')[col].apply(lambda x: np.min(np.abs(x)))\n",
    "\n",
    "    return new\n",
    "\n",
    "\n",
    "X_train = pd.read_csv('X_train.csv')\n",
    "X_test = pd.read_csv('X_test.csv')\n",
    "y_train = pd.read_csv('y_train.csv')\n",
    "SS = pd.read_csv('sample_submission.csv')\n",
    "\n",
    "X_train.head()\n",
    "countplot(y = 'surface', data = y_train)\n",
    "plt.show()"
   ]
  },
  {
   "cell_type": "code",
   "execution_count": 5,
   "metadata": {},
   "outputs": [],
   "source": [
    "# Augment hard tiles. \n",
    "# print((y_train['surface'] == 'hard_tiles'))"
   ]
  },
  {
   "cell_type": "code",
   "execution_count": 6,
   "metadata": {
    "scrolled": true
   },
   "outputs": [
    {
     "data": {
      "text/html": [
       "<div>\n",
       "<style scoped>\n",
       "    .dataframe tbody tr th:only-of-type {\n",
       "        vertical-align: middle;\n",
       "    }\n",
       "\n",
       "    .dataframe tbody tr th {\n",
       "        vertical-align: top;\n",
       "    }\n",
       "\n",
       "    .dataframe thead th {\n",
       "        text-align: right;\n",
       "    }\n",
       "</style>\n",
       "<table border=\"1\" class=\"dataframe\">\n",
       "  <thead>\n",
       "    <tr style=\"text-align: right;\">\n",
       "      <th></th>\n",
       "      <th>orientation_X_mean</th>\n",
       "      <th>orientation_X_min</th>\n",
       "      <th>orientation_X_max</th>\n",
       "      <th>orientation_X_std</th>\n",
       "      <th>orientation_X_max_to_min</th>\n",
       "      <th>orientation_X_mean_abs_change</th>\n",
       "      <th>orientation_X_mean_change_of_abs_change</th>\n",
       "      <th>orientation_X_abs_max</th>\n",
       "      <th>orientation_X_abs_min</th>\n",
       "      <th>orientation_Y_mean</th>\n",
       "      <th>...</th>\n",
       "      <th>euler_y_abs_min</th>\n",
       "      <th>euler_z_mean</th>\n",
       "      <th>euler_z_min</th>\n",
       "      <th>euler_z_max</th>\n",
       "      <th>euler_z_std</th>\n",
       "      <th>euler_z_max_to_min</th>\n",
       "      <th>euler_z_mean_abs_change</th>\n",
       "      <th>euler_z_mean_change_of_abs_change</th>\n",
       "      <th>euler_z_abs_max</th>\n",
       "      <th>euler_z_abs_min</th>\n",
       "    </tr>\n",
       "    <tr>\n",
       "      <th>series_id</th>\n",
       "      <th></th>\n",
       "      <th></th>\n",
       "      <th></th>\n",
       "      <th></th>\n",
       "      <th></th>\n",
       "      <th></th>\n",
       "      <th></th>\n",
       "      <th></th>\n",
       "      <th></th>\n",
       "      <th></th>\n",
       "      <th></th>\n",
       "      <th></th>\n",
       "      <th></th>\n",
       "      <th></th>\n",
       "      <th></th>\n",
       "      <th></th>\n",
       "      <th></th>\n",
       "      <th></th>\n",
       "      <th></th>\n",
       "      <th></th>\n",
       "      <th></th>\n",
       "    </tr>\n",
       "  </thead>\n",
       "  <tbody>\n",
       "    <tr>\n",
       "      <th>0</th>\n",
       "      <td>-0.758666</td>\n",
       "      <td>-0.75953</td>\n",
       "      <td>-0.75822</td>\n",
       "      <td>0.000363</td>\n",
       "      <td>0.998275</td>\n",
       "      <td>0.000015</td>\n",
       "      <td>2.380952e-07</td>\n",
       "      <td>0.75953</td>\n",
       "      <td>0.75822</td>\n",
       "      <td>-0.634008</td>\n",
       "      <td>...</td>\n",
       "      <td>0.023562</td>\n",
       "      <td>1.396035</td>\n",
       "      <td>1.393233</td>\n",
       "      <td>1.397402</td>\n",
       "      <td>0.001221</td>\n",
       "      <td>1.002992</td>\n",
       "      <td>0.000051</td>\n",
       "      <td>1.602451e-07</td>\n",
       "      <td>1.397402</td>\n",
       "      <td>1.393233</td>\n",
       "    </tr>\n",
       "    <tr>\n",
       "      <th>1</th>\n",
       "      <td>-0.958606</td>\n",
       "      <td>-0.95896</td>\n",
       "      <td>-0.95837</td>\n",
       "      <td>0.000151</td>\n",
       "      <td>0.999385</td>\n",
       "      <td>0.000023</td>\n",
       "      <td>-4.761905e-07</td>\n",
       "      <td>0.95896</td>\n",
       "      <td>0.95837</td>\n",
       "      <td>0.241867</td>\n",
       "      <td>...</td>\n",
       "      <td>0.009109</td>\n",
       "      <td>-0.492731</td>\n",
       "      <td>-0.494641</td>\n",
       "      <td>-0.490164</td>\n",
       "      <td>0.001131</td>\n",
       "      <td>0.990949</td>\n",
       "      <td>0.000147</td>\n",
       "      <td>1.303804e-07</td>\n",
       "      <td>0.494641</td>\n",
       "      <td>0.490164</td>\n",
       "    </tr>\n",
       "    <tr>\n",
       "      <th>2</th>\n",
       "      <td>-0.512057</td>\n",
       "      <td>-0.51434</td>\n",
       "      <td>-0.50944</td>\n",
       "      <td>0.001377</td>\n",
       "      <td>0.990473</td>\n",
       "      <td>0.000041</td>\n",
       "      <td>0.000000e+00</td>\n",
       "      <td>0.51434</td>\n",
       "      <td>0.50944</td>\n",
       "      <td>-0.846171</td>\n",
       "      <td>...</td>\n",
       "      <td>0.011795</td>\n",
       "      <td>2.055021</td>\n",
       "      <td>2.049684</td>\n",
       "      <td>2.061288</td>\n",
       "      <td>0.003219</td>\n",
       "      <td>1.005661</td>\n",
       "      <td>0.000097</td>\n",
       "      <td>-8.169853e-07</td>\n",
       "      <td>2.061288</td>\n",
       "      <td>2.049684</td>\n",
       "    </tr>\n",
       "    <tr>\n",
       "      <th>3</th>\n",
       "      <td>-0.939169</td>\n",
       "      <td>-0.93968</td>\n",
       "      <td>-0.93884</td>\n",
       "      <td>0.000227</td>\n",
       "      <td>0.999106</td>\n",
       "      <td>0.000026</td>\n",
       "      <td>-6.349206e-07</td>\n",
       "      <td>0.93968</td>\n",
       "      <td>0.93884</td>\n",
       "      <td>0.310140</td>\n",
       "      <td>...</td>\n",
       "      <td>0.014645</td>\n",
       "      <td>-0.635656</td>\n",
       "      <td>-0.638340</td>\n",
       "      <td>-0.634294</td>\n",
       "      <td>0.000931</td>\n",
       "      <td>0.993661</td>\n",
       "      <td>0.000071</td>\n",
       "      <td>9.790398e-08</td>\n",
       "      <td>0.638340</td>\n",
       "      <td>0.634294</td>\n",
       "    </tr>\n",
       "    <tr>\n",
       "      <th>4</th>\n",
       "      <td>-0.891301</td>\n",
       "      <td>-0.89689</td>\n",
       "      <td>-0.88673</td>\n",
       "      <td>0.002955</td>\n",
       "      <td>0.988672</td>\n",
       "      <td>0.000080</td>\n",
       "      <td>7.936508e-08</td>\n",
       "      <td>0.89689</td>\n",
       "      <td>0.88673</td>\n",
       "      <td>0.428144</td>\n",
       "      <td>...</td>\n",
       "      <td>0.009358</td>\n",
       "      <td>-0.894147</td>\n",
       "      <td>-0.915040</td>\n",
       "      <td>-0.867983</td>\n",
       "      <td>0.013836</td>\n",
       "      <td>0.948575</td>\n",
       "      <td>0.000371</td>\n",
       "      <td>4.805791e-07</td>\n",
       "      <td>0.915040</td>\n",
       "      <td>0.867983</td>\n",
       "    </tr>\n",
       "  </tbody>\n",
       "</table>\n",
       "<p>5 rows × 144 columns</p>\n",
       "</div>"
      ],
      "text/plain": [
       "           orientation_X_mean  orientation_X_min  orientation_X_max  \\\n",
       "series_id                                                             \n",
       "0                   -0.758666           -0.75953           -0.75822   \n",
       "1                   -0.958606           -0.95896           -0.95837   \n",
       "2                   -0.512057           -0.51434           -0.50944   \n",
       "3                   -0.939169           -0.93968           -0.93884   \n",
       "4                   -0.891301           -0.89689           -0.88673   \n",
       "\n",
       "           orientation_X_std  orientation_X_max_to_min  \\\n",
       "series_id                                                \n",
       "0                   0.000363                  0.998275   \n",
       "1                   0.000151                  0.999385   \n",
       "2                   0.001377                  0.990473   \n",
       "3                   0.000227                  0.999106   \n",
       "4                   0.002955                  0.988672   \n",
       "\n",
       "           orientation_X_mean_abs_change  \\\n",
       "series_id                                  \n",
       "0                               0.000015   \n",
       "1                               0.000023   \n",
       "2                               0.000041   \n",
       "3                               0.000026   \n",
       "4                               0.000080   \n",
       "\n",
       "           orientation_X_mean_change_of_abs_change  orientation_X_abs_max  \\\n",
       "series_id                                                                   \n",
       "0                                     2.380952e-07                0.75953   \n",
       "1                                    -4.761905e-07                0.95896   \n",
       "2                                     0.000000e+00                0.51434   \n",
       "3                                    -6.349206e-07                0.93968   \n",
       "4                                     7.936508e-08                0.89689   \n",
       "\n",
       "           orientation_X_abs_min  orientation_Y_mean  ...  euler_y_abs_min  \\\n",
       "series_id                                             ...                    \n",
       "0                        0.75822           -0.634008  ...         0.023562   \n",
       "1                        0.95837            0.241867  ...         0.009109   \n",
       "2                        0.50944           -0.846171  ...         0.011795   \n",
       "3                        0.93884            0.310140  ...         0.014645   \n",
       "4                        0.88673            0.428144  ...         0.009358   \n",
       "\n",
       "           euler_z_mean  euler_z_min  euler_z_max  euler_z_std  \\\n",
       "series_id                                                        \n",
       "0              1.396035     1.393233     1.397402     0.001221   \n",
       "1             -0.492731    -0.494641    -0.490164     0.001131   \n",
       "2              2.055021     2.049684     2.061288     0.003219   \n",
       "3             -0.635656    -0.638340    -0.634294     0.000931   \n",
       "4             -0.894147    -0.915040    -0.867983     0.013836   \n",
       "\n",
       "           euler_z_max_to_min  euler_z_mean_abs_change  \\\n",
       "series_id                                                \n",
       "0                    1.002992                 0.000051   \n",
       "1                    0.990949                 0.000147   \n",
       "2                    1.005661                 0.000097   \n",
       "3                    0.993661                 0.000071   \n",
       "4                    0.948575                 0.000371   \n",
       "\n",
       "           euler_z_mean_change_of_abs_change  euler_z_abs_max  euler_z_abs_min  \n",
       "series_id                                                                       \n",
       "0                               1.602451e-07         1.397402         1.393233  \n",
       "1                               1.303804e-07         0.494641         0.490164  \n",
       "2                              -8.169853e-07         2.061288         2.049684  \n",
       "3                               9.790398e-08         0.638340         0.634294  \n",
       "4                               4.805791e-07         0.915040         0.867983  \n",
       "\n",
       "[5 rows x 144 columns]"
      ]
     },
     "execution_count": 6,
     "metadata": {},
     "output_type": "execute_result"
    }
   ],
   "source": [
    "le = LabelEncoder()\n",
    "y_train['surface'] = le.fit_transform(y_train['surface'])\n",
    "\n",
    "X_train = fe(X_train)\n",
    "X_test = fe(X_test)\n",
    "\n",
    "# Imputation   \n",
    "X_train.fillna(0, inplace = True)\n",
    "X_test.fillna(0, inplace = True)\n",
    "\n",
    "X_train.replace(-np.inf, 0, inplace = True)\n",
    "X_train.replace(np.inf, 0, inplace = True)\n",
    "X_test.replace(-np.inf, 0, inplace = True)\n",
    "X_test.replace(np.inf, 0, inplace = True)\n",
    "X_train.head()"
   ]
  },
  {
   "cell_type": "code",
   "execution_count": 18,
   "metadata": {},
   "outputs": [
    {
     "name": "stdout",
     "output_type": "stream",
     "text": [
      "Fitting 3 folds for each of 1 candidates, totalling 3 fits\n"
     ]
    },
    {
     "name": "stderr",
     "output_type": "stream",
     "text": [
      "[Parallel(n_jobs=-1)]: Using backend LokyBackend with 8 concurrent workers.\n",
      "[Parallel(n_jobs=-1)]: Done   3 out of   3 | elapsed:    2.0s finished\n",
      "[Parallel(n_jobs=-1)]: Using backend LokyBackend with 8 concurrent workers.\n"
     ]
    },
    {
     "name": "stdout",
     "output_type": "stream",
     "text": [
      "Model #1\n",
      "Best Accuracy: 0.4987\n",
      "Best params: {'max_depth': 184, 'min_impurity_decrease': 1.0315876040865526e-08, 'min_samples_leaf': 6, 'min_samples_split': 9, 'min_weight_fraction_leaf': 0.14874969276049518, 'n_estimators': 157}\n",
      "\n",
      "Fitting 3 folds for each of 1 candidates, totalling 3 fits\n"
     ]
    },
    {
     "name": "stderr",
     "output_type": "stream",
     "text": [
      "[Parallel(n_jobs=-1)]: Done   3 out of   3 | elapsed:    2.3s finished\n",
      "[Parallel(n_jobs=-1)]: Using backend LokyBackend with 8 concurrent workers.\n"
     ]
    },
    {
     "name": "stdout",
     "output_type": "stream",
     "text": [
      "Model #2\n",
      "Best Accuracy: 0.5824\n",
      "Best params: {'max_depth': 117, 'min_impurity_decrease': 9.805747241311439e-08, 'min_samples_leaf': 9, 'min_samples_split': 4, 'min_weight_fraction_leaf': 0.0823322302472, 'n_estimators': 215}\n",
      "\n",
      "Fitting 3 folds for each of 1 candidates, totalling 3 fits\n"
     ]
    },
    {
     "name": "stderr",
     "output_type": "stream",
     "text": [
      "[Parallel(n_jobs=-1)]: Done   3 out of   3 | elapsed:    0.9s finished\n",
      "[Parallel(n_jobs=-1)]: Using backend LokyBackend with 8 concurrent workers.\n"
     ]
    },
    {
     "name": "stdout",
     "output_type": "stream",
     "text": [
      "Model #3\n",
      "Best Accuracy: 0.5824\n",
      "Best params: {'max_depth': 117, 'min_impurity_decrease': 9.805747241311439e-08, 'min_samples_leaf': 9, 'min_samples_split': 4, 'min_weight_fraction_leaf': 0.0823322302472, 'n_estimators': 215}\n",
      "\n",
      "Fitting 3 folds for each of 1 candidates, totalling 3 fits\n"
     ]
    },
    {
     "name": "stderr",
     "output_type": "stream",
     "text": [
      "[Parallel(n_jobs=-1)]: Done   3 out of   3 | elapsed:    1.5s finished\n",
      "[Parallel(n_jobs=-1)]: Using backend LokyBackend with 8 concurrent workers.\n"
     ]
    },
    {
     "name": "stdout",
     "output_type": "stream",
     "text": [
      "Model #4\n",
      "Best Accuracy: 0.5906\n",
      "Best params: {'max_depth': 57, 'min_impurity_decrease': 4.6489517374313345e-08, 'min_samples_leaf': 1, 'min_samples_split': 3, 'min_weight_fraction_leaf': 0.07235027939907236, 'n_estimators': 183}\n",
      "\n",
      "Fitting 3 folds for each of 1 candidates, totalling 3 fits\n"
     ]
    },
    {
     "name": "stderr",
     "output_type": "stream",
     "text": [
      "[Parallel(n_jobs=-1)]: Done   3 out of   3 | elapsed:    0.5s finished\n",
      "[Parallel(n_jobs=-1)]: Using backend LokyBackend with 8 concurrent workers.\n"
     ]
    },
    {
     "name": "stdout",
     "output_type": "stream",
     "text": [
      "Model #5\n",
      "Best Accuracy: 0.5906\n",
      "Best params: {'max_depth': 57, 'min_impurity_decrease': 4.6489517374313345e-08, 'min_samples_leaf': 1, 'min_samples_split': 3, 'min_weight_fraction_leaf': 0.07235027939907236, 'n_estimators': 183}\n",
      "\n",
      "Fitting 3 folds for each of 1 candidates, totalling 3 fits\n"
     ]
    },
    {
     "name": "stderr",
     "output_type": "stream",
     "text": [
      "[Parallel(n_jobs=-1)]: Done   3 out of   3 | elapsed:    1.7s finished\n",
      "[Parallel(n_jobs=-1)]: Using backend LokyBackend with 8 concurrent workers.\n"
     ]
    },
    {
     "name": "stdout",
     "output_type": "stream",
     "text": [
      "Model #6\n",
      "Best Accuracy: 0.5906\n",
      "Best params: {'max_depth': 57, 'min_impurity_decrease': 4.6489517374313345e-08, 'min_samples_leaf': 1, 'min_samples_split': 3, 'min_weight_fraction_leaf': 0.07235027939907236, 'n_estimators': 183}\n",
      "\n",
      "Fitting 3 folds for each of 1 candidates, totalling 3 fits\n"
     ]
    },
    {
     "name": "stderr",
     "output_type": "stream",
     "text": [
      "[Parallel(n_jobs=-1)]: Done   3 out of   3 | elapsed:    0.5s finished\n",
      "[Parallel(n_jobs=-1)]: Using backend LokyBackend with 8 concurrent workers.\n",
      "[Parallel(n_jobs=-1)]: Done   3 out of   3 | elapsed:    0.1s finished\n",
      "[Parallel(n_jobs=-1)]: Using backend LokyBackend with 8 concurrent workers.\n"
     ]
    },
    {
     "name": "stdout",
     "output_type": "stream",
     "text": [
      "Model #7\n",
      "Best Accuracy: 0.5906\n",
      "Best params: {'max_depth': 57, 'min_impurity_decrease': 4.6489517374313345e-08, 'min_samples_leaf': 1, 'min_samples_split': 3, 'min_weight_fraction_leaf': 0.07235027939907236, 'n_estimators': 183}\n",
      "\n",
      "Fitting 3 folds for each of 1 candidates, totalling 3 fits\n",
      "Model #8\n",
      "Best Accuracy: 0.5906\n",
      "Best params: {'max_depth': 57, 'min_impurity_decrease': 4.6489517374313345e-08, 'min_samples_leaf': 1, 'min_samples_split': 3, 'min_weight_fraction_leaf': 0.07235027939907236, 'n_estimators': 183}\n",
      "\n",
      "Fitting 3 folds for each of 1 candidates, totalling 3 fits\n"
     ]
    },
    {
     "name": "stderr",
     "output_type": "stream",
     "text": [
      "[Parallel(n_jobs=-1)]: Done   3 out of   3 | elapsed:    0.2s finished\n"
     ]
    },
    {
     "name": "stdout",
     "output_type": "stream",
     "text": [
      "Model #9\n",
      "Best Accuracy: 0.5906\n",
      "Best params: {'max_depth': 57, 'min_impurity_decrease': 4.6489517374313345e-08, 'min_samples_leaf': 1, 'min_samples_split': 3, 'min_weight_fraction_leaf': 0.07235027939907236, 'n_estimators': 183}\n",
      "\n",
      "Fitting 3 folds for each of 1 candidates, totalling 3 fits\n"
     ]
    },
    {
     "name": "stderr",
     "output_type": "stream",
     "text": [
      "[Parallel(n_jobs=-1)]: Using backend LokyBackend with 8 concurrent workers.\n",
      "[Parallel(n_jobs=-1)]: Done   3 out of   3 | elapsed:    0.1s finished\n"
     ]
    },
    {
     "name": "stdout",
     "output_type": "stream",
     "text": [
      "Model #10\n",
      "Best Accuracy: 0.5906\n",
      "Best params: {'max_depth': 57, 'min_impurity_decrease': 4.6489517374313345e-08, 'min_samples_leaf': 1, 'min_samples_split': 3, 'min_weight_fraction_leaf': 0.07235027939907236, 'n_estimators': 183}\n",
      "\n",
      "Fitting 3 folds for each of 1 candidates, totalling 3 fits\n"
     ]
    },
    {
     "name": "stderr",
     "output_type": "stream",
     "text": [
      "[Parallel(n_jobs=-1)]: Using backend LokyBackend with 8 concurrent workers.\n",
      "[Parallel(n_jobs=-1)]: Done   3 out of   3 | elapsed:    5.0s finished\n"
     ]
    },
    {
     "name": "stdout",
     "output_type": "stream",
     "text": [
      "Model #11\n",
      "Best Accuracy: 0.8281\n",
      "Best params: {'max_depth': 200, 'min_impurity_decrease': 1e-07, 'min_samples_leaf': 10, 'min_samples_split': 20, 'min_weight_fraction_leaf': 0.0, 'n_estimators': 300}\n",
      "\n",
      "Fitting 3 folds for each of 1 candidates, totalling 3 fits\n"
     ]
    },
    {
     "name": "stderr",
     "output_type": "stream",
     "text": [
      "[Parallel(n_jobs=-1)]: Using backend LokyBackend with 8 concurrent workers.\n",
      "[Parallel(n_jobs=-1)]: Done   3 out of   3 | elapsed:    0.0s finished\n"
     ]
    },
    {
     "name": "stdout",
     "output_type": "stream",
     "text": [
      "Model #12\n",
      "Best Accuracy: 0.8281\n",
      "Best params: {'max_depth': 200, 'min_impurity_decrease': 1e-07, 'min_samples_leaf': 10, 'min_samples_split': 20, 'min_weight_fraction_leaf': 0.0, 'n_estimators': 300}\n",
      "\n",
      "Fitting 3 folds for each of 1 candidates, totalling 3 fits\n"
     ]
    },
    {
     "name": "stderr",
     "output_type": "stream",
     "text": [
      "[Parallel(n_jobs=-1)]: Using backend LokyBackend with 8 concurrent workers.\n",
      "[Parallel(n_jobs=-1)]: Done   3 out of   3 | elapsed:    0.9s finished\n"
     ]
    },
    {
     "name": "stdout",
     "output_type": "stream",
     "text": [
      "Model #13\n",
      "Best Accuracy: 0.8281\n",
      "Best params: {'max_depth': 200, 'min_impurity_decrease': 1e-07, 'min_samples_leaf': 10, 'min_samples_split': 20, 'min_weight_fraction_leaf': 0.0, 'n_estimators': 300}\n",
      "\n",
      "Fitting 3 folds for each of 1 candidates, totalling 3 fits\n"
     ]
    },
    {
     "name": "stderr",
     "output_type": "stream",
     "text": [
      "[Parallel(n_jobs=-1)]: Using backend LokyBackend with 8 concurrent workers.\n",
      "[Parallel(n_jobs=-1)]: Done   3 out of   3 | elapsed:    0.8s finished\n"
     ]
    },
    {
     "name": "stdout",
     "output_type": "stream",
     "text": [
      "Model #14\n",
      "Best Accuracy: 0.8606\n",
      "Best params: {'max_depth': 29, 'min_impurity_decrease': 8.463152931984377e-08, 'min_samples_leaf': 1, 'min_samples_split': 20, 'min_weight_fraction_leaf': 0.0, 'n_estimators': 46}\n",
      "\n",
      "Fitting 3 folds for each of 1 candidates, totalling 3 fits\n"
     ]
    },
    {
     "name": "stderr",
     "output_type": "stream",
     "text": [
      "[Parallel(n_jobs=-1)]: Using backend LokyBackend with 8 concurrent workers.\n",
      "[Parallel(n_jobs=-1)]: Done   3 out of   3 | elapsed:    4.9s finished\n"
     ]
    },
    {
     "name": "stdout",
     "output_type": "stream",
     "text": [
      "Model #15\n",
      "Best Accuracy: 0.8606\n",
      "Best params: {'max_depth': 29, 'min_impurity_decrease': 8.463152931984377e-08, 'min_samples_leaf': 1, 'min_samples_split': 20, 'min_weight_fraction_leaf': 0.0, 'n_estimators': 46}\n",
      "\n",
      "Fitting 3 folds for each of 1 candidates, totalling 3 fits\n"
     ]
    },
    {
     "name": "stderr",
     "output_type": "stream",
     "text": [
      "[Parallel(n_jobs=-1)]: Using backend LokyBackend with 8 concurrent workers.\n",
      "[Parallel(n_jobs=-1)]: Done   3 out of   3 | elapsed:    0.3s finished\n"
     ]
    },
    {
     "name": "stdout",
     "output_type": "stream",
     "text": [
      "Model #16\n",
      "Best Accuracy: 0.8606\n",
      "Best params: {'max_depth': 29, 'min_impurity_decrease': 8.463152931984377e-08, 'min_samples_leaf': 1, 'min_samples_split': 20, 'min_weight_fraction_leaf': 0.0, 'n_estimators': 46}\n",
      "\n",
      "Fitting 3 folds for each of 1 candidates, totalling 3 fits\n"
     ]
    },
    {
     "name": "stderr",
     "output_type": "stream",
     "text": [
      "[Parallel(n_jobs=-1)]: Using backend LokyBackend with 8 concurrent workers.\n",
      "[Parallel(n_jobs=-1)]: Done   3 out of   3 | elapsed:    6.0s finished\n"
     ]
    },
    {
     "name": "stdout",
     "output_type": "stream",
     "text": [
      "Model #17\n",
      "Best Accuracy: 0.8609\n",
      "Best params: {'max_depth': 182, 'min_impurity_decrease': 7.557948828978844e-08, 'min_samples_leaf': 1, 'min_samples_split': 20, 'min_weight_fraction_leaf': 0.0, 'n_estimators': 300}\n",
      "\n",
      "Fitting 3 folds for each of 1 candidates, totalling 3 fits\n"
     ]
    },
    {
     "name": "stderr",
     "output_type": "stream",
     "text": [
      "[Parallel(n_jobs=-1)]: Using backend LokyBackend with 8 concurrent workers.\n",
      "[Parallel(n_jobs=-1)]: Done   3 out of   3 | elapsed:    0.5s finished\n"
     ]
    },
    {
     "name": "stdout",
     "output_type": "stream",
     "text": [
      "Model #18\n",
      "Best Accuracy: 0.8609\n",
      "Best params: {'max_depth': 182, 'min_impurity_decrease': 7.557948828978844e-08, 'min_samples_leaf': 1, 'min_samples_split': 20, 'min_weight_fraction_leaf': 0.0, 'n_estimators': 300}\n",
      "\n",
      "Fitting 3 folds for each of 1 candidates, totalling 3 fits\n"
     ]
    },
    {
     "name": "stderr",
     "output_type": "stream",
     "text": [
      "[Parallel(n_jobs=-1)]: Using backend LokyBackend with 8 concurrent workers.\n",
      "[Parallel(n_jobs=-1)]: Done   3 out of   3 | elapsed:    0.3s finished\n"
     ]
    },
    {
     "name": "stdout",
     "output_type": "stream",
     "text": [
      "Model #19\n",
      "Best Accuracy: 0.8609\n",
      "Best params: {'max_depth': 182, 'min_impurity_decrease': 7.557948828978844e-08, 'min_samples_leaf': 1, 'min_samples_split': 20, 'min_weight_fraction_leaf': 0.0, 'n_estimators': 300}\n",
      "\n",
      "Fitting 3 folds for each of 1 candidates, totalling 3 fits\n"
     ]
    },
    {
     "name": "stderr",
     "output_type": "stream",
     "text": [
      "[Parallel(n_jobs=-1)]: Using backend LokyBackend with 8 concurrent workers.\n",
      "[Parallel(n_jobs=-1)]: Done   3 out of   3 | elapsed:    0.9s finished\n"
     ]
    },
    {
     "name": "stdout",
     "output_type": "stream",
     "text": [
      "Model #20\n",
      "Best Accuracy: 0.8609\n",
      "Best params: {'max_depth': 182, 'min_impurity_decrease': 7.557948828978844e-08, 'min_samples_leaf': 1, 'min_samples_split': 20, 'min_weight_fraction_leaf': 0.0, 'n_estimators': 300}\n",
      "\n",
      "Fitting 3 folds for each of 1 candidates, totalling 3 fits\n"
     ]
    },
    {
     "name": "stderr",
     "output_type": "stream",
     "text": [
      "[Parallel(n_jobs=-1)]: Using backend LokyBackend with 8 concurrent workers.\n",
      "[Parallel(n_jobs=-1)]: Done   3 out of   3 | elapsed:    5.1s finished\n"
     ]
    },
    {
     "name": "stdout",
     "output_type": "stream",
     "text": [
      "Model #21\n",
      "Best Accuracy: 0.8609\n",
      "Best params: {'max_depth': 182, 'min_impurity_decrease': 7.557948828978844e-08, 'min_samples_leaf': 1, 'min_samples_split': 20, 'min_weight_fraction_leaf': 0.0, 'n_estimators': 300}\n",
      "\n",
      "Fitting 3 folds for each of 1 candidates, totalling 3 fits\n"
     ]
    },
    {
     "name": "stderr",
     "output_type": "stream",
     "text": [
      "[Parallel(n_jobs=-1)]: Using backend LokyBackend with 8 concurrent workers.\n",
      "[Parallel(n_jobs=-1)]: Done   3 out of   3 | elapsed:    0.4s finished\n"
     ]
    },
    {
     "name": "stdout",
     "output_type": "stream",
     "text": [
      "Model #22\n",
      "Best Accuracy: 0.8609\n",
      "Best params: {'max_depth': 182, 'min_impurity_decrease': 7.557948828978844e-08, 'min_samples_leaf': 1, 'min_samples_split': 20, 'min_weight_fraction_leaf': 0.0, 'n_estimators': 300}\n",
      "\n",
      "Fitting 3 folds for each of 1 candidates, totalling 3 fits\n"
     ]
    },
    {
     "name": "stderr",
     "output_type": "stream",
     "text": [
      "[Parallel(n_jobs=-1)]: Using backend LokyBackend with 8 concurrent workers.\n",
      "[Parallel(n_jobs=-1)]: Done   3 out of   3 | elapsed:    0.9s finished\n"
     ]
    },
    {
     "name": "stdout",
     "output_type": "stream",
     "text": [
      "Model #23\n",
      "Best Accuracy: 0.8609\n",
      "Best params: {'max_depth': 182, 'min_impurity_decrease': 7.557948828978844e-08, 'min_samples_leaf': 1, 'min_samples_split': 20, 'min_weight_fraction_leaf': 0.0, 'n_estimators': 300}\n",
      "\n",
      "Fitting 3 folds for each of 1 candidates, totalling 3 fits\n"
     ]
    },
    {
     "name": "stderr",
     "output_type": "stream",
     "text": [
      "[Parallel(n_jobs=-1)]: Using backend LokyBackend with 8 concurrent workers.\n",
      "[Parallel(n_jobs=-1)]: Done   3 out of   3 | elapsed:    6.3s finished\n"
     ]
    },
    {
     "name": "stdout",
     "output_type": "stream",
     "text": [
      "Model #24\n",
      "Best Accuracy: 0.8714\n",
      "Best params: {'max_depth': 191, 'min_impurity_decrease': 1.2296118985194008e-08, 'min_samples_leaf': 1, 'min_samples_split': 15, 'min_weight_fraction_leaf': 0.0, 'n_estimators': 300}\n",
      "\n",
      "Fitting 3 folds for each of 1 candidates, totalling 3 fits\n"
     ]
    },
    {
     "name": "stderr",
     "output_type": "stream",
     "text": [
      "[Parallel(n_jobs=-1)]: Using backend LokyBackend with 8 concurrent workers.\n",
      "[Parallel(n_jobs=-1)]: Done   3 out of   3 | elapsed:    6.2s finished\n"
     ]
    },
    {
     "name": "stdout",
     "output_type": "stream",
     "text": [
      "Model #25\n",
      "Best Accuracy: 0.8714\n",
      "Best params: {'max_depth': 191, 'min_impurity_decrease': 1.2296118985194008e-08, 'min_samples_leaf': 1, 'min_samples_split': 15, 'min_weight_fraction_leaf': 0.0, 'n_estimators': 300}\n",
      "\n",
      "Fitting 3 folds for each of 1 candidates, totalling 3 fits\n"
     ]
    },
    {
     "name": "stderr",
     "output_type": "stream",
     "text": [
      "[Parallel(n_jobs=-1)]: Using backend LokyBackend with 8 concurrent workers.\n",
      "[Parallel(n_jobs=-1)]: Done   3 out of   3 | elapsed:    6.4s finished\n"
     ]
    },
    {
     "name": "stdout",
     "output_type": "stream",
     "text": [
      "Model #26\n",
      "Best Accuracy: 0.879\n",
      "Best params: {'max_depth': 161, 'min_impurity_decrease': 7.514587062580427e-08, 'min_samples_leaf': 1, 'min_samples_split': 12, 'min_weight_fraction_leaf': 0.0, 'n_estimators': 300}\n",
      "\n",
      "Fitting 3 folds for each of 1 candidates, totalling 3 fits\n"
     ]
    },
    {
     "name": "stderr",
     "output_type": "stream",
     "text": [
      "[Parallel(n_jobs=-1)]: Using backend LokyBackend with 8 concurrent workers.\n",
      "[Parallel(n_jobs=-1)]: Done   3 out of   3 | elapsed:    0.5s finished\n"
     ]
    },
    {
     "name": "stdout",
     "output_type": "stream",
     "text": [
      "Model #27\n",
      "Best Accuracy: 0.8801\n",
      "Best params: {'max_depth': 112, 'min_impurity_decrease': 0.0, 'min_samples_leaf': 1, 'min_samples_split': 4, 'min_weight_fraction_leaf': 0.0, 'n_estimators': 20}\n",
      "\n",
      "Fitting 3 folds for each of 1 candidates, totalling 3 fits\n"
     ]
    },
    {
     "name": "stderr",
     "output_type": "stream",
     "text": [
      "[Parallel(n_jobs=-1)]: Using backend LokyBackend with 8 concurrent workers.\n",
      "[Parallel(n_jobs=-1)]: Done   3 out of   3 | elapsed:    6.4s finished\n"
     ]
    },
    {
     "name": "stdout",
     "output_type": "stream",
     "text": [
      "Model #28\n",
      "Best Accuracy: 0.8801\n",
      "Best params: {'max_depth': 112, 'min_impurity_decrease': 0.0, 'min_samples_leaf': 1, 'min_samples_split': 4, 'min_weight_fraction_leaf': 0.0, 'n_estimators': 20}\n",
      "\n",
      "Fitting 3 folds for each of 1 candidates, totalling 3 fits\n"
     ]
    },
    {
     "name": "stderr",
     "output_type": "stream",
     "text": [
      "[Parallel(n_jobs=-1)]: Using backend LokyBackend with 8 concurrent workers.\n",
      "[Parallel(n_jobs=-1)]: Done   3 out of   3 | elapsed:    4.9s finished\n"
     ]
    },
    {
     "name": "stdout",
     "output_type": "stream",
     "text": [
      "Model #29\n",
      "Best Accuracy: 0.8801\n",
      "Best params: {'max_depth': 112, 'min_impurity_decrease': 0.0, 'min_samples_leaf': 1, 'min_samples_split': 4, 'min_weight_fraction_leaf': 0.0, 'n_estimators': 20}\n",
      "\n",
      "Fitting 3 folds for each of 1 candidates, totalling 3 fits\n"
     ]
    },
    {
     "name": "stderr",
     "output_type": "stream",
     "text": [
      "[Parallel(n_jobs=-1)]: Using backend LokyBackend with 8 concurrent workers.\n",
      "[Parallel(n_jobs=-1)]: Done   3 out of   3 | elapsed:    0.3s finished\n"
     ]
    },
    {
     "name": "stdout",
     "output_type": "stream",
     "text": [
      "Model #30\n",
      "Best Accuracy: 0.8801\n",
      "Best params: {'max_depth': 112, 'min_impurity_decrease': 0.0, 'min_samples_leaf': 1, 'min_samples_split': 4, 'min_weight_fraction_leaf': 0.0, 'n_estimators': 20}\n",
      "\n",
      "Fitting 3 folds for each of 1 candidates, totalling 3 fits\n"
     ]
    },
    {
     "name": "stderr",
     "output_type": "stream",
     "text": [
      "[Parallel(n_jobs=-1)]: Using backend LokyBackend with 8 concurrent workers.\n",
      "[Parallel(n_jobs=-1)]: Done   3 out of   3 | elapsed:    0.1s finished\n"
     ]
    },
    {
     "name": "stdout",
     "output_type": "stream",
     "text": [
      "Model #31\n",
      "Best Accuracy: 0.8801\n",
      "Best params: {'max_depth': 112, 'min_impurity_decrease': 0.0, 'min_samples_leaf': 1, 'min_samples_split': 4, 'min_weight_fraction_leaf': 0.0, 'n_estimators': 20}\n",
      "\n",
      "Fitting 3 folds for each of 1 candidates, totalling 3 fits\n"
     ]
    },
    {
     "name": "stderr",
     "output_type": "stream",
     "text": [
      "[Parallel(n_jobs=-1)]: Using backend LokyBackend with 8 concurrent workers.\n",
      "[Parallel(n_jobs=-1)]: Done   3 out of   3 | elapsed:    0.4s finished\n"
     ]
    },
    {
     "name": "stdout",
     "output_type": "stream",
     "text": [
      "Model #32\n",
      "Best Accuracy: 0.8811\n",
      "Best params: {'max_depth': 104, 'min_impurity_decrease': 1e-07, 'min_samples_leaf': 1, 'min_samples_split': 2, 'min_weight_fraction_leaf': 0.0, 'n_estimators': 20}\n",
      "\n",
      "Fitting 3 folds for each of 1 candidates, totalling 3 fits\n"
     ]
    },
    {
     "name": "stderr",
     "output_type": "stream",
     "text": [
      "[Parallel(n_jobs=-1)]: Using backend LokyBackend with 8 concurrent workers.\n",
      "[Parallel(n_jobs=-1)]: Done   3 out of   3 | elapsed:    0.8s finished\n"
     ]
    },
    {
     "name": "stdout",
     "output_type": "stream",
     "text": [
      "Model #33\n",
      "Best Accuracy: 0.8811\n",
      "Best params: {'max_depth': 104, 'min_impurity_decrease': 1e-07, 'min_samples_leaf': 1, 'min_samples_split': 2, 'min_weight_fraction_leaf': 0.0, 'n_estimators': 20}\n",
      "\n",
      "Fitting 3 folds for each of 1 candidates, totalling 3 fits\n"
     ]
    },
    {
     "name": "stderr",
     "output_type": "stream",
     "text": [
      "[Parallel(n_jobs=-1)]: Using backend LokyBackend with 8 concurrent workers.\n",
      "[Parallel(n_jobs=-1)]: Done   3 out of   3 | elapsed:    6.4s finished\n"
     ]
    },
    {
     "name": "stdout",
     "output_type": "stream",
     "text": [
      "Model #34\n",
      "Best Accuracy: 0.8971\n",
      "Best params: {'max_depth': 76, 'min_impurity_decrease': 1e-07, 'min_samples_leaf': 1, 'min_samples_split': 4, 'min_weight_fraction_leaf': 0.0, 'n_estimators': 300}\n",
      "\n",
      "Fitting 3 folds for each of 1 candidates, totalling 3 fits\n"
     ]
    },
    {
     "name": "stderr",
     "output_type": "stream",
     "text": [
      "[Parallel(n_jobs=-1)]: Using backend LokyBackend with 8 concurrent workers.\n",
      "[Parallel(n_jobs=-1)]: Done   3 out of   3 | elapsed:    0.4s finished\n"
     ]
    },
    {
     "name": "stdout",
     "output_type": "stream",
     "text": [
      "Model #35\n",
      "Best Accuracy: 0.8971\n",
      "Best params: {'max_depth': 76, 'min_impurity_decrease': 1e-07, 'min_samples_leaf': 1, 'min_samples_split': 4, 'min_weight_fraction_leaf': 0.0, 'n_estimators': 300}\n",
      "\n",
      "Fitting 3 folds for each of 1 candidates, totalling 3 fits\n"
     ]
    },
    {
     "name": "stderr",
     "output_type": "stream",
     "text": [
      "[Parallel(n_jobs=-1)]: Using backend LokyBackend with 8 concurrent workers.\n",
      "[Parallel(n_jobs=-1)]: Done   3 out of   3 | elapsed:    6.4s finished\n"
     ]
    },
    {
     "name": "stdout",
     "output_type": "stream",
     "text": [
      "Model #36\n",
      "Best Accuracy: 0.9003\n",
      "Best params: {'max_depth': 65, 'min_impurity_decrease': 9.756650941323682e-08, 'min_samples_leaf': 1, 'min_samples_split': 3, 'min_weight_fraction_leaf': 0.0, 'n_estimators': 300}\n",
      "\n",
      "Fitting 3 folds for each of 1 candidates, totalling 3 fits\n"
     ]
    },
    {
     "name": "stderr",
     "output_type": "stream",
     "text": [
      "[Parallel(n_jobs=-1)]: Using backend LokyBackend with 8 concurrent workers.\n",
      "[Parallel(n_jobs=-1)]: Done   3 out of   3 | elapsed:    6.5s finished\n"
     ]
    },
    {
     "name": "stdout",
     "output_type": "stream",
     "text": [
      "Model #37\n",
      "Best Accuracy: 0.9003\n",
      "Best params: {'max_depth': 65, 'min_impurity_decrease': 9.756650941323682e-08, 'min_samples_leaf': 1, 'min_samples_split': 3, 'min_weight_fraction_leaf': 0.0, 'n_estimators': 300}\n",
      "\n",
      "Fitting 3 folds for each of 1 candidates, totalling 3 fits\n"
     ]
    },
    {
     "name": "stderr",
     "output_type": "stream",
     "text": [
      "[Parallel(n_jobs=-1)]: Using backend LokyBackend with 8 concurrent workers.\n",
      "[Parallel(n_jobs=-1)]: Done   3 out of   3 | elapsed:    6.6s finished\n"
     ]
    },
    {
     "name": "stdout",
     "output_type": "stream",
     "text": [
      "Model #38\n",
      "Best Accuracy: 0.9003\n",
      "Best params: {'max_depth': 65, 'min_impurity_decrease': 9.756650941323682e-08, 'min_samples_leaf': 1, 'min_samples_split': 3, 'min_weight_fraction_leaf': 0.0, 'n_estimators': 300}\n",
      "\n",
      "Fitting 3 folds for each of 1 candidates, totalling 3 fits\n"
     ]
    },
    {
     "name": "stderr",
     "output_type": "stream",
     "text": [
      "[Parallel(n_jobs=-1)]: Using backend LokyBackend with 8 concurrent workers.\n",
      "[Parallel(n_jobs=-1)]: Done   3 out of   3 | elapsed:    0.6s finished\n"
     ]
    },
    {
     "name": "stdout",
     "output_type": "stream",
     "text": [
      "Model #39\n",
      "Best Accuracy: 0.9003\n",
      "Best params: {'max_depth': 65, 'min_impurity_decrease': 9.756650941323682e-08, 'min_samples_leaf': 1, 'min_samples_split': 3, 'min_weight_fraction_leaf': 0.0, 'n_estimators': 300}\n",
      "\n",
      "Fitting 3 folds for each of 1 candidates, totalling 3 fits\n"
     ]
    },
    {
     "name": "stderr",
     "output_type": "stream",
     "text": [
      "[Parallel(n_jobs=-1)]: Using backend LokyBackend with 8 concurrent workers.\n",
      "[Parallel(n_jobs=-1)]: Done   3 out of   3 | elapsed:    6.8s finished\n"
     ]
    },
    {
     "name": "stdout",
     "output_type": "stream",
     "text": [
      "Model #40\n",
      "Best Accuracy: 0.9003\n",
      "Best params: {'max_depth': 65, 'min_impurity_decrease': 9.756650941323682e-08, 'min_samples_leaf': 1, 'min_samples_split': 3, 'min_weight_fraction_leaf': 0.0, 'n_estimators': 300}\n",
      "\n"
     ]
    },
    {
     "name": "stderr",
     "output_type": "stream",
     "text": [
      "[Parallel(n_jobs=1)]: Using backend SequentialBackend with 1 concurrent workers.\n",
      "[Parallel(n_jobs=1)]: Done 300 out of 300 | elapsed:    9.0s finished\n"
     ]
    }
   ],
   "source": [
    "\n",
    "def status_print(optim_result):\n",
    "    \"\"\"Status callback durring bayesian hyperparameter search\"\"\"\n",
    "    \n",
    "    # Get all the models tested so far in DataFrame format\n",
    "    all_models = pd.DataFrame(bayes_cv_tuner.cv_results_)    \n",
    "    \n",
    "    # Get current parameters and the best parameters    \n",
    "    best_params = pd.Series(bayes_cv_tuner.best_params_)\n",
    "    print('Model #{}\\nBest Accuracy: {}\\nBest params: {}\\n'.format(\n",
    "        len(all_models),\n",
    "        np.round(bayes_cv_tuner.best_score_, 4),\n",
    "        bayes_cv_tuner.best_params_\n",
    "    ))\n",
    "\n",
    "# Classifier\n",
    "bayes_cv_tuner = BayesSearchCV(\n",
    "    estimator = RandomForestClassifier(\n",
    "        criterion='gini',\n",
    "        verbose=1,\n",
    "        max_features='auto',\n",
    "        max_leaf_nodes=None,\n",
    "        random_state = 1337\n",
    "        \n",
    "    ),\n",
    "    search_spaces = { \n",
    "        'max_depth': (1, 200),\n",
    "        'n_estimators': (20, 300),\n",
    "        'min_samples_split': (2,20),\n",
    "        'min_samples_leaf': (1,10),\n",
    "        'min_weight_fraction_leaf': (0.0,0.5),\n",
    "        'min_impurity_decrease': (0,1E-7),\n",
    "        \n",
    "        \n",
    "    },    \n",
    "    cv = StratifiedKFold(n_splits=split_count, shuffle=True, random_state=546789),\n",
    "    n_jobs = -1,\n",
    "    n_iter = 40,   \n",
    "    verbose = 1,\n",
    "    refit = True,\n",
    "    \n",
    ")\n",
    "\n",
    "# Fit the model\n",
    "result = bayes_cv_tuner.fit(X_train, y_train['surface'], groups=y_train['group_id'], callback=status_print)\n"
   ]
  },
  {
   "cell_type": "code",
   "execution_count": 22,
   "metadata": {},
   "outputs": [
    {
     "name": "stdout",
     "output_type": "stream",
     "text": [
      "____________________ 0 ____________________\n",
      "train_score  1.0\n",
      "cv_score  0.8930817610062893\n",
      "____________________ 1 ____________________\n",
      "train_score  1.0\n",
      "cv_score  0.8944881889763779\n",
      "____________________ 2 ____________________\n",
      "train_score  1.0\n",
      "cv_score  0.8927444794952681\n",
      "____________________ 3 ____________________\n",
      "train_score  1.0\n",
      "cv_score  0.518796992481203\n",
      "____________________ 4 ____________________\n",
      "train_score  1.0\n",
      "cv_score  0.5294117647058824\n",
      "____________________ 5 ____________________\n",
      "train_score  1.0\n",
      "cv_score  0.4297423887587822\n",
      "________________________________________\n",
      "Avg CV Accuracy 0.6930442625706338\n",
      "\n",
      " ____________CV CONF MATS____________\n"
     ]
    },
    {
     "data": {
      "image/png": "[encoded data removed]",
      "text/plain": [
       "<Figure size 432x288 with 2 Axes>"
      ]
     },
     "metadata": {
      "needs_background": "light"
     },
     "output_type": "display_data"
    },
    {
     "data": {
      "image/png": "[encoded data removed]",
      "text/plain": [
       "<Figure size 432x288 with 2 Axes>"
      ]
     },
     "metadata": {
      "needs_background": "light"
     },
     "output_type": "display_data"
    },
    {
     "data": {
      "image/png": "[encoded data removed]",
      "text/plain": [
       "<Figure size 432x288 with 2 Axes>"
      ]
     },
     "metadata": {
      "needs_background": "light"
     },
     "output_type": "display_data"
    },
    {
     "data": {
      "image/png": "[encoded data removed]",
      "text/plain": [
       "<Figure size 432x288 with 2 Axes>"
      ]
     },
     "metadata": {
      "needs_background": "light"
     },
     "output_type": "display_data"
    },
    {
     "data": {
      "image/png": "[encoded data removed]",
      "text/plain": [
       "<Figure size 432x288 with 2 Axes>"
      ]
     },
     "metadata": {
      "needs_background": "light"
     },
     "output_type": "display_data"
    },
    {
     "data": {
      "image/png": "[encoded data removed]",
      "text/plain": [
       "<Figure size 432x288 with 2 Axes>"
      ]
     },
     "metadata": {
      "needs_background": "light"
     },
     "output_type": "display_data"
    }
   ],
   "source": [
    "split_count = 3\n",
    "folds = StratifiedKFold(n_splits=split_count, shuffle=True, random_state=1337)\n",
    "folds_2 = GroupShuffleSplit(n_splits=split_count, random_state=1337)\n",
    "sub_preds = np.zeros((X_test.shape[0], 9))\n",
    "score_sum = 0\n",
    "'''\n",
    "clf = LGBMClassifier(colsample_bytree=0.03581900508076567, learning_rate=0.09308743154192588, \n",
    "                     max_bin=471, max_depth=-1, min_child_samples=50, min_child_weight=10, \n",
    "                     n_estimators=51, num_leaves=82, reg_alpha=2.0036361362515476e-07, reg_lambda=0.2069846982564452,\n",
    "                     scale_pos_weight=9.05248363351552, subsample=0.9056112605172989, subsample_for_bin=368683, \n",
    "                     subsample_freq=9)\n",
    "'''\n",
    "\n",
    "\n",
    "\n",
    "#clf = RandomForestClassifier(max_depth=77, min_impurity_decrease=8.435373293206687e-08, \n",
    "#                            min_samples_leaf=10, min_samples_split=4, min_weight_fraction_leaf=0.0, n_estimators=170, random_state=1337, class_weight = 'balanced')\n",
    "\n",
    "clf = RandomForestClassifier(max_depth=65, min_impurity_decrease=9.756650941323682e-08, min_samples_leaf=1, min_samples_split=3,\n",
    "                              min_weight_fraction_leaf=0.0, n_estimators=300)\n",
    "\n",
    "\n",
    "'''\n",
    "clf = RandomForestClassifier(n_estimators = 200, n_jobs =- 1, class_weight ={0: 3810.0/189.0}, {1: 3810.0/732.0},\n",
    "                            {2: 3810.0/779.0}, {3: 3810.0/21.0}, {4: 3810.0/308.0}, {5: 3810.0/363.0}, {6: 3810.0/297.0}, \n",
    "                            {7: 3810.0/514.0}, {8: 3810.0/607.0})\n",
    "'''\n",
    "# clf = RandomForestClassifier(n_estimators = 200, n_jobs =- 1, class_weight='balanced_subsample')\n",
    "\n",
    "for i, (train_index, test_index) in enumerate(chain(folds.split(X_train, y_train['surface']),folds_2.split(X_train, y_train['surface'],\n",
    "                                                groups=y_train['group_id']))):\n",
    "\n",
    "    print('_'*20, i, '_'*20)\n",
    "    clf.fit(X_train.iloc[train_index], y_train['surface'][train_index])\n",
    "    score_sum += clf.score(X_train.iloc[test_index], y_train['surface'][test_index])\n",
    "    print('train_score ', clf.score(X_train.iloc[train_index], y_train['surface'][train_index]))\n",
    "    print('cv_score ', clf.score(X_train.iloc[test_index], y_train['surface'][test_index]))\n",
    "    plt.figure()\n",
    "    cm = confusion_matrix(clf.predict(X_train.iloc[test_index]), y_train['surface'].iloc[test_index])\n",
    "    sns.heatmap(cm, annot=True, cmap=\"YlOrBr\")\n",
    "    importances = clf.feature_importances_\n",
    "    indices = np.argsort(importances)\n",
    "    features = X_train.columns\n",
    "    \n",
    "    '''\n",
    "    hm = 30\n",
    "    plt.figure(figsize=(7, 10))\n",
    "    plt.title('Feature Importances')\n",
    "    plt.barh(range(len(indices[:hm])), importances[indices][:hm], color='b', align='center')\n",
    "    plt.yticks(range(len(indices[:hm])), [features[i] for i in indices])\n",
    "    plt.xlabel('Relative Importance')\n",
    "    plt.show()\n",
    "    '''\n",
    "    \n",
    "\n",
    "print('_'*40)\n",
    "mean_cv_acc = score_sum / (split_count*2)\n",
    "print('Avg CV Accuracy', mean_cv_acc)\n",
    "clf.fit(X_train, y_train['surface'])\n",
    "sub_preds = clf.predict_proba(X_test)\n",
    "print(\"\\n ____________CV CONF MATS____________\")\n",
    "SS['surface'] = le.inverse_transform(sub_preds.argmax(axis=1))\n",
    "SS.to_csv('rf.csv', index=False)"
   ]
  },
  {
   "cell_type": "code",
   "execution_count": 9,
   "metadata": {},
   "outputs": [
    {
     "data": {
      "text/plain": [
       "<matplotlib.axes._subplots.AxesSubplot at 0x17f806be5c0>"
      ]
     },
     "execution_count": 9,
     "metadata": {},
     "output_type": "execute_result"
    },
    {
     "data": {
      "image/png": "[encoded data removed]",
      "text/plain": [
       "<Figure size 432x288 with 2 Axes>"
      ]
     },
     "metadata": {
      "needs_background": "light"
     },
     "output_type": "display_data"
    }
   ],
   "source": [
    "import matplotlib.pyplot as plt\n",
    "import seaborn as sns\n",
    "cm = confusion_matrix(clf.predict(X_train), y_train['surface'])\n",
    "sns.heatmap(cm, annot=True, cmap=\"YlGnBu\")"
   ]
  },
  {
   "cell_type": "code",
   "execution_count": null,
   "metadata": {},
   "outputs": [],
   "source": [
    "print(y_train['surface'].value_counts())"
   ]
  },
  {
   "cell_type": "code",
   "execution_count": 10,
   "metadata": {},
   "outputs": [
    {
     "name": "stdout",
     "output_type": "stream",
     "text": [
      "['fine_concrete' 'concrete' 'soft_tiles' 'tiled' 'soft_pvc'\n",
      " 'hard_tiles_large_space' 'carpet' 'hard_tiles' 'wood']\n",
      "[2 1 6 7 5 4 0 3 8]\n"
     ]
    }
   ],
   "source": [
    "print(le.inverse_transform(y_train['surface'].unique()))\n",
    "print(y_train['surface'].unique())"
   ]
  },
  {
   "cell_type": "code",
   "execution_count": null,
   "metadata": {},
   "outputs": [],
   "source": [
    "print(\"Training group id occurances and conf mat.\")    \n",
    "for i, (train_index, test_index) in enumerate(folds.split(X_train, y_train['surface'],\n",
    "                                                groups=y_train['group_id'])):\n",
    "    print((y_train['group_id'].iloc[test_index]).value_counts())"
   ]
  },
  {
   "cell_type": "code",
   "execution_count": null,
   "metadata": {},
   "outputs": [],
   "source": [
    "print(\"\\n\\nCV group id counts.\")    \n",
    "for i, (train_index, test_index) in enumerate(folds.split(X_train, y_train['surface'],\n",
    "                                                groups=y_train['group_id'])):    \n",
    "    print((y_train['group_id'].iloc[test_index]).value_counts())\n",
    "    \n",
    "print(\"\\n\\nTraining label counts.\")    \n",
    "for i, (train_index, test_index) in enumerate(folds.split(X_train, y_train['surface'],\n",
    "                                                groups=y_train['group_id'])):\n",
    "    print((y_train['surface'].iloc[train_index]).value_counts())\n",
    "    \n",
    "print(\"\\n\\nCV label counts.\")    \n",
    "for i, (train_index, test_index) in enumerate(folds.split(X_train, y_train['surface'],\n",
    "                                                groups=y_train['group_id'])):    \n",
    "    print((y_train['surface'].iloc[test_index]).value_counts())"
   ]
  },
  {
   "cell_type": "code",
   "execution_count": null,
   "metadata": {},
   "outputs": [],
   "source": []
  }
 ],
 "metadata": {
  "kernelspec": {
   "display_name": "Python 3",
   "language": "python",
   "name": "python3"
  },
  "language_info": {
   "codemirror_mode": {
    "name": "ipython",
    "version": 3
   },
   "file_extension": ".py",
   "mimetype": "text/x-python",
   "name": "python",
   "nbconvert_exporter": "python",
   "pygments_lexer": "ipython3",
   "version": "3.7.2"
  }
 },
 "nbformat": 4,
 "nbformat_minor": 2
}
