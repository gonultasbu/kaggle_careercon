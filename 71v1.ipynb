{
 "cells": [
  {
   "cell_type": "code",
   "execution_count": 1,
   "metadata": {},
   "outputs": [
    {
     "data": {
      "text/html": [
       "<div>\n",
       "<style scoped>\n",
       "    .dataframe tbody tr th:only-of-type {\n",
       "        vertical-align: middle;\n",
       "    }\n",
       "\n",
       "    .dataframe tbody tr th {\n",
       "        vertical-align: top;\n",
       "    }\n",
       "\n",
       "    .dataframe thead th {\n",
       "        text-align: right;\n",
       "    }\n",
       "</style>\n",
       "<table border=\"1\" class=\"dataframe\">\n",
       "  <thead>\n",
       "    <tr style=\"text-align: right;\">\n",
       "      <th></th>\n",
       "      <th>row_id</th>\n",
       "      <th>series_id</th>\n",
       "      <th>measurement_number</th>\n",
       "      <th>orientation_X</th>\n",
       "      <th>orientation_Y</th>\n",
       "      <th>orientation_Z</th>\n",
       "      <th>orientation_W</th>\n",
       "      <th>angular_velocity_X</th>\n",
       "      <th>angular_velocity_Y</th>\n",
       "      <th>angular_velocity_Z</th>\n",
       "      <th>linear_acceleration_X</th>\n",
       "      <th>linear_acceleration_Y</th>\n",
       "      <th>linear_acceleration_Z</th>\n",
       "    </tr>\n",
       "  </thead>\n",
       "  <tbody>\n",
       "    <tr>\n",
       "      <th>0</th>\n",
       "      <td>0_0</td>\n",
       "      <td>0</td>\n",
       "      <td>0</td>\n",
       "      <td>-0.75853</td>\n",
       "      <td>-0.63435</td>\n",
       "      <td>-0.10488</td>\n",
       "      <td>-0.10597</td>\n",
       "      <td>0.107650</td>\n",
       "      <td>0.017561</td>\n",
       "      <td>0.000767</td>\n",
       "      <td>-0.74857</td>\n",
       "      <td>2.1030</td>\n",
       "      <td>-9.7532</td>\n",
       "    </tr>\n",
       "    <tr>\n",
       "      <th>1</th>\n",
       "      <td>0_1</td>\n",
       "      <td>0</td>\n",
       "      <td>1</td>\n",
       "      <td>-0.75853</td>\n",
       "      <td>-0.63434</td>\n",
       "      <td>-0.10490</td>\n",
       "      <td>-0.10600</td>\n",
       "      <td>0.067851</td>\n",
       "      <td>0.029939</td>\n",
       "      <td>0.003385</td>\n",
       "      <td>0.33995</td>\n",
       "      <td>1.5064</td>\n",
       "      <td>-9.4128</td>\n",
       "    </tr>\n",
       "    <tr>\n",
       "      <th>2</th>\n",
       "      <td>0_2</td>\n",
       "      <td>0</td>\n",
       "      <td>2</td>\n",
       "      <td>-0.75853</td>\n",
       "      <td>-0.63435</td>\n",
       "      <td>-0.10492</td>\n",
       "      <td>-0.10597</td>\n",
       "      <td>0.007275</td>\n",
       "      <td>0.028934</td>\n",
       "      <td>-0.005978</td>\n",
       "      <td>-0.26429</td>\n",
       "      <td>1.5922</td>\n",
       "      <td>-8.7267</td>\n",
       "    </tr>\n",
       "    <tr>\n",
       "      <th>3</th>\n",
       "      <td>0_3</td>\n",
       "      <td>0</td>\n",
       "      <td>3</td>\n",
       "      <td>-0.75852</td>\n",
       "      <td>-0.63436</td>\n",
       "      <td>-0.10495</td>\n",
       "      <td>-0.10597</td>\n",
       "      <td>-0.013053</td>\n",
       "      <td>0.019448</td>\n",
       "      <td>-0.008974</td>\n",
       "      <td>0.42684</td>\n",
       "      <td>1.0993</td>\n",
       "      <td>-10.0960</td>\n",
       "    </tr>\n",
       "    <tr>\n",
       "      <th>4</th>\n",
       "      <td>0_4</td>\n",
       "      <td>0</td>\n",
       "      <td>4</td>\n",
       "      <td>-0.75852</td>\n",
       "      <td>-0.63435</td>\n",
       "      <td>-0.10495</td>\n",
       "      <td>-0.10596</td>\n",
       "      <td>0.005135</td>\n",
       "      <td>0.007652</td>\n",
       "      <td>0.005245</td>\n",
       "      <td>-0.50969</td>\n",
       "      <td>1.4689</td>\n",
       "      <td>-10.4410</td>\n",
       "    </tr>\n",
       "  </tbody>\n",
       "</table>\n",
       "</div>"
      ],
      "text/plain": [
       "  row_id  series_id  measurement_number  orientation_X  orientation_Y  \\\n",
       "0    0_0          0                   0       -0.75853       -0.63435   \n",
       "1    0_1          0                   1       -0.75853       -0.63434   \n",
       "2    0_2          0                   2       -0.75853       -0.63435   \n",
       "3    0_3          0                   3       -0.75852       -0.63436   \n",
       "4    0_4          0                   4       -0.75852       -0.63435   \n",
       "\n",
       "   orientation_Z  orientation_W  angular_velocity_X  angular_velocity_Y  \\\n",
       "0       -0.10488       -0.10597            0.107650            0.017561   \n",
       "1       -0.10490       -0.10600            0.067851            0.029939   \n",
       "2       -0.10492       -0.10597            0.007275            0.028934   \n",
       "3       -0.10495       -0.10597           -0.013053            0.019448   \n",
       "4       -0.10495       -0.10596            0.005135            0.007652   \n",
       "\n",
       "   angular_velocity_Z  linear_acceleration_X  linear_acceleration_Y  \\\n",
       "0            0.000767               -0.74857                 2.1030   \n",
       "1            0.003385                0.33995                 1.5064   \n",
       "2           -0.005978               -0.26429                 1.5922   \n",
       "3           -0.008974                0.42684                 1.0993   \n",
       "4            0.005245               -0.50969                 1.4689   \n",
       "\n",
       "   linear_acceleration_Z  \n",
       "0                -9.7532  \n",
       "1                -9.4128  \n",
       "2                -8.7267  \n",
       "3               -10.0960  \n",
       "4               -10.4410  "
      ]
     },
     "execution_count": 1,
     "metadata": {},
     "output_type": "execute_result"
    }
   ],
   "source": [
    "import os\n",
    "import time\n",
    "import numpy as np\n",
    "import pandas as pd\n",
    "from seaborn import countplot,lineplot, barplot\n",
    "import matplotlib.pyplot as plt\n",
    "from sklearn.preprocessing import LabelEncoder\n",
    "from sklearn.model_selection import KFold\n",
    "from bayes_opt import BayesianOptimization\n",
    "import lightgbm as lgb\n",
    "import xgboost as xgb\n",
    "import catboost as cb\n",
    "from xgboost import XGBClassifier\n",
    "from lightgbm import LGBMClassifier\n",
    "from sklearn.metrics import accuracy_score, confusion_matrix\n",
    "from sklearn.ensemble import RandomForestClassifier\n",
    "from sklearn.model_selection import KFold, StratifiedKFold, GroupKFold, GroupShuffleSplit\n",
    "from sklearn.tree import DecisionTreeClassifier\n",
    "from skopt import BayesSearchCV\n",
    "import math\n",
    "\n",
    "def quaternion_to_euler(x, y, z, w):\n",
    "\n",
    "    t0 = +2.0 * (w * x + y * z)\n",
    "    t1 = +1.0 - 2.0 * (x * x + y * y)\n",
    "    X = math.atan2(t0, t1)\n",
    "\n",
    "    t2 = +2.0 * (w * y - z * x)\n",
    "    t2 = +1.0 if t2 > +1.0 else t2\n",
    "    t2 = -1.0 if t2 < -1.0 else t2\n",
    "    Y = math.asin(t2)\n",
    "\n",
    "    t3 = +2.0 * (w * z + x * y)\n",
    "    t4 = +1.0 - 2.0 * (y * y + z * z)\n",
    "    Z = math.atan2(t3, t4)\n",
    "\n",
    "    return X, Y, Z\n",
    "\n",
    "def fe(actual):\n",
    "    new = pd.DataFrame()\n",
    "    actual['total_angular_velocity'] = np.sqrt(np.square(actual['angular_velocity_X']) + \n",
    "                                        np.square(actual['angular_velocity_Y']) + \n",
    "                                        np.square(actual['angular_velocity_Z']))\n",
    "    actual['total_linear_acceleration'] = np.sqrt(np.square(actual['linear_acceleration_X']) + \n",
    "                                            np.square(actual['linear_acceleration_Y']) + \n",
    "                                            np.square(actual['linear_acceleration_Z']))\n",
    "    \n",
    "    actual['acc_vs_vel'] = actual['total_linear_acceleration'] / actual['total_angular_velocity']\n",
    "    \n",
    "    x, y, z, w = actual['orientation_X'].tolist(), actual['orientation_Y'].tolist(), actual['orientation_Z'].tolist(), actual['orientation_W'].tolist()\n",
    "    nx, ny, nz = [], [], []\n",
    "    for i in range(len(x)):\n",
    "        xx, yy, zz = quaternion_to_euler(x[i], y[i], z[i], w[i])\n",
    "        nx.append(xx)\n",
    "        ny.append(yy)\n",
    "        nz.append(zz)\n",
    "    \n",
    "    actual['euler_x'] = nx\n",
    "    actual['euler_y'] = ny\n",
    "    actual['euler_z'] = nz\n",
    "    \n",
    "    def f1(x):\n",
    "        return np.mean(np.diff(np.abs(np.diff(x))))\n",
    "    \n",
    "    def f2(x):\n",
    "        return np.mean(np.abs(np.diff(x)))\n",
    "    \n",
    "    for col in actual.columns:\n",
    "        if col in ['row_id', 'series_id', 'measurement_number']:\n",
    "            continue\n",
    "        new[col + '_mean'] = actual.groupby(['series_id'])[col].mean()\n",
    "        new[col + '_min'] = actual.groupby(['series_id'])[col].min()\n",
    "        new[col + '_max'] = actual.groupby(['series_id'])[col].max()\n",
    "        new[col + '_std'] = actual.groupby(['series_id'])[col].std()\n",
    "        new[col + '_max_to_min'] = new[col + '_max'] / new[col + '_min']\n",
    "        \n",
    "        # Change. 1st order.\n",
    "        new[col + '_mean_abs_change'] = actual.groupby('series_id')[col].apply(f2)\n",
    "        \n",
    "        # Change of Change. 2nd order.\n",
    "        new[col + '_mean_change_of_abs_change'] = actual.groupby('series_id')[col].apply(f1)\n",
    "        \n",
    "        new[col + '_abs_max'] = actual.groupby('series_id')[col].apply(lambda x: np.max(np.abs(x)))\n",
    "        new[col + '_abs_min'] = actual.groupby('series_id')[col].apply(lambda x: np.min(np.abs(x)))\n",
    "\n",
    "    return new\n",
    "\n",
    "\n",
    "X_train = pd.read_csv('X_train.csv')\n",
    "X_test = pd.read_csv('X_test.csv')\n",
    "y_train = pd.read_csv('y_train.csv')\n",
    "SS = pd.read_csv('sample_submission.csv')\n",
    "\n",
    "X_train.head()"
   ]
  },
  {
   "cell_type": "code",
   "execution_count": 2,
   "metadata": {
    "scrolled": true
   },
   "outputs": [
    {
     "data": {
      "text/html": [
       "<div>\n",
       "<style scoped>\n",
       "    .dataframe tbody tr th:only-of-type {\n",
       "        vertical-align: middle;\n",
       "    }\n",
       "\n",
       "    .dataframe tbody tr th {\n",
       "        vertical-align: top;\n",
       "    }\n",
       "\n",
       "    .dataframe thead th {\n",
       "        text-align: right;\n",
       "    }\n",
       "</style>\n",
       "<table border=\"1\" class=\"dataframe\">\n",
       "  <thead>\n",
       "    <tr style=\"text-align: right;\">\n",
       "      <th></th>\n",
       "      <th>orientation_X_mean</th>\n",
       "      <th>orientation_X_min</th>\n",
       "      <th>orientation_X_max</th>\n",
       "      <th>orientation_X_std</th>\n",
       "      <th>orientation_X_max_to_min</th>\n",
       "      <th>orientation_X_mean_abs_change</th>\n",
       "      <th>orientation_X_mean_change_of_abs_change</th>\n",
       "      <th>orientation_X_abs_max</th>\n",
       "      <th>orientation_X_abs_min</th>\n",
       "      <th>orientation_Y_mean</th>\n",
       "      <th>...</th>\n",
       "      <th>euler_y_abs_min</th>\n",
       "      <th>euler_z_mean</th>\n",
       "      <th>euler_z_min</th>\n",
       "      <th>euler_z_max</th>\n",
       "      <th>euler_z_std</th>\n",
       "      <th>euler_z_max_to_min</th>\n",
       "      <th>euler_z_mean_abs_change</th>\n",
       "      <th>euler_z_mean_change_of_abs_change</th>\n",
       "      <th>euler_z_abs_max</th>\n",
       "      <th>euler_z_abs_min</th>\n",
       "    </tr>\n",
       "    <tr>\n",
       "      <th>series_id</th>\n",
       "      <th></th>\n",
       "      <th></th>\n",
       "      <th></th>\n",
       "      <th></th>\n",
       "      <th></th>\n",
       "      <th></th>\n",
       "      <th></th>\n",
       "      <th></th>\n",
       "      <th></th>\n",
       "      <th></th>\n",
       "      <th></th>\n",
       "      <th></th>\n",
       "      <th></th>\n",
       "      <th></th>\n",
       "      <th></th>\n",
       "      <th></th>\n",
       "      <th></th>\n",
       "      <th></th>\n",
       "      <th></th>\n",
       "      <th></th>\n",
       "      <th></th>\n",
       "    </tr>\n",
       "  </thead>\n",
       "  <tbody>\n",
       "    <tr>\n",
       "      <th>0</th>\n",
       "      <td>-0.758666</td>\n",
       "      <td>-0.75953</td>\n",
       "      <td>-0.75822</td>\n",
       "      <td>0.000363</td>\n",
       "      <td>0.998275</td>\n",
       "      <td>0.000015</td>\n",
       "      <td>2.380952e-07</td>\n",
       "      <td>0.75953</td>\n",
       "      <td>0.75822</td>\n",
       "      <td>-0.634008</td>\n",
       "      <td>...</td>\n",
       "      <td>0.023562</td>\n",
       "      <td>1.396035</td>\n",
       "      <td>1.393233</td>\n",
       "      <td>1.397402</td>\n",
       "      <td>0.001221</td>\n",
       "      <td>1.002992</td>\n",
       "      <td>0.000051</td>\n",
       "      <td>1.602451e-07</td>\n",
       "      <td>1.397402</td>\n",
       "      <td>1.393233</td>\n",
       "    </tr>\n",
       "    <tr>\n",
       "      <th>1</th>\n",
       "      <td>-0.958606</td>\n",
       "      <td>-0.95896</td>\n",
       "      <td>-0.95837</td>\n",
       "      <td>0.000151</td>\n",
       "      <td>0.999385</td>\n",
       "      <td>0.000023</td>\n",
       "      <td>-4.761905e-07</td>\n",
       "      <td>0.95896</td>\n",
       "      <td>0.95837</td>\n",
       "      <td>0.241867</td>\n",
       "      <td>...</td>\n",
       "      <td>0.009109</td>\n",
       "      <td>-0.492731</td>\n",
       "      <td>-0.494641</td>\n",
       "      <td>-0.490164</td>\n",
       "      <td>0.001131</td>\n",
       "      <td>0.990949</td>\n",
       "      <td>0.000147</td>\n",
       "      <td>1.303804e-07</td>\n",
       "      <td>0.494641</td>\n",
       "      <td>0.490164</td>\n",
       "    </tr>\n",
       "    <tr>\n",
       "      <th>2</th>\n",
       "      <td>-0.512057</td>\n",
       "      <td>-0.51434</td>\n",
       "      <td>-0.50944</td>\n",
       "      <td>0.001377</td>\n",
       "      <td>0.990473</td>\n",
       "      <td>0.000041</td>\n",
       "      <td>0.000000e+00</td>\n",
       "      <td>0.51434</td>\n",
       "      <td>0.50944</td>\n",
       "      <td>-0.846171</td>\n",
       "      <td>...</td>\n",
       "      <td>0.011795</td>\n",
       "      <td>2.055021</td>\n",
       "      <td>2.049684</td>\n",
       "      <td>2.061288</td>\n",
       "      <td>0.003219</td>\n",
       "      <td>1.005661</td>\n",
       "      <td>0.000097</td>\n",
       "      <td>-8.169853e-07</td>\n",
       "      <td>2.061288</td>\n",
       "      <td>2.049684</td>\n",
       "    </tr>\n",
       "    <tr>\n",
       "      <th>3</th>\n",
       "      <td>-0.939169</td>\n",
       "      <td>-0.93968</td>\n",
       "      <td>-0.93884</td>\n",
       "      <td>0.000227</td>\n",
       "      <td>0.999106</td>\n",
       "      <td>0.000026</td>\n",
       "      <td>-6.349206e-07</td>\n",
       "      <td>0.93968</td>\n",
       "      <td>0.93884</td>\n",
       "      <td>0.310140</td>\n",
       "      <td>...</td>\n",
       "      <td>0.014645</td>\n",
       "      <td>-0.635656</td>\n",
       "      <td>-0.638340</td>\n",
       "      <td>-0.634294</td>\n",
       "      <td>0.000931</td>\n",
       "      <td>0.993661</td>\n",
       "      <td>0.000071</td>\n",
       "      <td>9.790398e-08</td>\n",
       "      <td>0.638340</td>\n",
       "      <td>0.634294</td>\n",
       "    </tr>\n",
       "    <tr>\n",
       "      <th>4</th>\n",
       "      <td>-0.891301</td>\n",
       "      <td>-0.89689</td>\n",
       "      <td>-0.88673</td>\n",
       "      <td>0.002955</td>\n",
       "      <td>0.988672</td>\n",
       "      <td>0.000080</td>\n",
       "      <td>7.936508e-08</td>\n",
       "      <td>0.89689</td>\n",
       "      <td>0.88673</td>\n",
       "      <td>0.428144</td>\n",
       "      <td>...</td>\n",
       "      <td>0.009358</td>\n",
       "      <td>-0.894147</td>\n",
       "      <td>-0.915040</td>\n",
       "      <td>-0.867983</td>\n",
       "      <td>0.013836</td>\n",
       "      <td>0.948575</td>\n",
       "      <td>0.000371</td>\n",
       "      <td>4.805791e-07</td>\n",
       "      <td>0.915040</td>\n",
       "      <td>0.867983</td>\n",
       "    </tr>\n",
       "  </tbody>\n",
       "</table>\n",
       "<p>5 rows × 144 columns</p>\n",
       "</div>"
      ],
      "text/plain": [
       "           orientation_X_mean  orientation_X_min  orientation_X_max  \\\n",
       "series_id                                                             \n",
       "0                   -0.758666           -0.75953           -0.75822   \n",
       "1                   -0.958606           -0.95896           -0.95837   \n",
       "2                   -0.512057           -0.51434           -0.50944   \n",
       "3                   -0.939169           -0.93968           -0.93884   \n",
       "4                   -0.891301           -0.89689           -0.88673   \n",
       "\n",
       "           orientation_X_std  orientation_X_max_to_min  \\\n",
       "series_id                                                \n",
       "0                   0.000363                  0.998275   \n",
       "1                   0.000151                  0.999385   \n",
       "2                   0.001377                  0.990473   \n",
       "3                   0.000227                  0.999106   \n",
       "4                   0.002955                  0.988672   \n",
       "\n",
       "           orientation_X_mean_abs_change  \\\n",
       "series_id                                  \n",
       "0                               0.000015   \n",
       "1                               0.000023   \n",
       "2                               0.000041   \n",
       "3                               0.000026   \n",
       "4                               0.000080   \n",
       "\n",
       "           orientation_X_mean_change_of_abs_change  orientation_X_abs_max  \\\n",
       "series_id                                                                   \n",
       "0                                     2.380952e-07                0.75953   \n",
       "1                                    -4.761905e-07                0.95896   \n",
       "2                                     0.000000e+00                0.51434   \n",
       "3                                    -6.349206e-07                0.93968   \n",
       "4                                     7.936508e-08                0.89689   \n",
       "\n",
       "           orientation_X_abs_min  orientation_Y_mean  ...  euler_y_abs_min  \\\n",
       "series_id                                             ...                    \n",
       "0                        0.75822           -0.634008  ...         0.023562   \n",
       "1                        0.95837            0.241867  ...         0.009109   \n",
       "2                        0.50944           -0.846171  ...         0.011795   \n",
       "3                        0.93884            0.310140  ...         0.014645   \n",
       "4                        0.88673            0.428144  ...         0.009358   \n",
       "\n",
       "           euler_z_mean  euler_z_min  euler_z_max  euler_z_std  \\\n",
       "series_id                                                        \n",
       "0              1.396035     1.393233     1.397402     0.001221   \n",
       "1             -0.492731    -0.494641    -0.490164     0.001131   \n",
       "2              2.055021     2.049684     2.061288     0.003219   \n",
       "3             -0.635656    -0.638340    -0.634294     0.000931   \n",
       "4             -0.894147    -0.915040    -0.867983     0.013836   \n",
       "\n",
       "           euler_z_max_to_min  euler_z_mean_abs_change  \\\n",
       "series_id                                                \n",
       "0                    1.002992                 0.000051   \n",
       "1                    0.990949                 0.000147   \n",
       "2                    1.005661                 0.000097   \n",
       "3                    0.993661                 0.000071   \n",
       "4                    0.948575                 0.000371   \n",
       "\n",
       "           euler_z_mean_change_of_abs_change  euler_z_abs_max  euler_z_abs_min  \n",
       "series_id                                                                       \n",
       "0                               1.602451e-07         1.397402         1.393233  \n",
       "1                               1.303804e-07         0.494641         0.490164  \n",
       "2                              -8.169853e-07         2.061288         2.049684  \n",
       "3                               9.790398e-08         0.638340         0.634294  \n",
       "4                               4.805791e-07         0.915040         0.867983  \n",
       "\n",
       "[5 rows x 144 columns]"
      ]
     },
     "execution_count": 2,
     "metadata": {},
     "output_type": "execute_result"
    }
   ],
   "source": [
    "le = LabelEncoder()\n",
    "y_train['surface'] = le.fit_transform(y_train['surface'])\n",
    "\n",
    "X_train = fe(X_train)\n",
    "X_test = fe(X_test)\n",
    "\n",
    "# Imputation   \n",
    "X_train.fillna(0, inplace = True)\n",
    "X_test.fillna(0, inplace = True)\n",
    "\n",
    "X_train.replace(-np.inf, 0, inplace = True)\n",
    "X_train.replace(np.inf, 0, inplace = True)\n",
    "X_test.replace(-np.inf, 0, inplace = True)\n",
    "X_test.replace(np.inf, 0, inplace = True)\n",
    "X_train.head()"
   ]
  },
  {
   "cell_type": "code",
   "execution_count": 3,
   "metadata": {},
   "outputs": [
    {
     "name": "stdout",
     "output_type": "stream",
     "text": [
      "Fitting 5 folds for each of 1 candidates, totalling 5 fits\n"
     ]
    },
    {
     "name": "stderr",
     "output_type": "stream",
     "text": [
      "[Parallel(n_jobs=-1)]: Using backend LokyBackend with 8 concurrent workers.\n",
      "[Parallel(n_jobs=-1)]: Done   2 out of   5 | elapsed:    2.0s remaining:    3.0s\n",
      "[Parallel(n_jobs=-1)]: Done   5 out of   5 | elapsed:    2.0s finished\n",
      "[Parallel(n_jobs=-1)]: Using backend LokyBackend with 8 concurrent workers.\n"
     ]
    },
    {
     "name": "stdout",
     "output_type": "stream",
     "text": [
      "Model #1\n",
      "Best Accuracy: 0.372\n",
      "Best params: {'max_depth': 17, 'min_impurity_decrease': 8.358798660377378e-08, 'min_samples_leaf': 8, 'min_samples_split': 3, 'min_weight_fraction_leaf': 0.4330963281329311, 'n_estimators': 166}\n",
      "\n",
      "Fitting 5 folds for each of 1 candidates, totalling 5 fits\n"
     ]
    },
    {
     "name": "stderr",
     "output_type": "stream",
     "text": [
      "[Parallel(n_jobs=-1)]: Done   2 out of   5 | elapsed:    0.2s remaining:    0.4s\n",
      "[Parallel(n_jobs=-1)]: Done   5 out of   5 | elapsed:    0.9s finished\n",
      "[Parallel(n_jobs=-1)]: Using backend LokyBackend with 8 concurrent workers.\n"
     ]
    },
    {
     "name": "stdout",
     "output_type": "stream",
     "text": [
      "Model #2\n",
      "Best Accuracy: 0.3723\n",
      "Best params: {'max_depth': 41, 'min_impurity_decrease': 6.367575944513938e-08, 'min_samples_leaf': 2, 'min_samples_split': 14, 'min_weight_fraction_leaf': 0.35145356433327507, 'n_estimators': 61}\n",
      "\n",
      "Fitting 5 folds for each of 1 candidates, totalling 5 fits\n"
     ]
    },
    {
     "name": "stderr",
     "output_type": "stream",
     "text": [
      "[Parallel(n_jobs=-1)]: Done   2 out of   5 | elapsed:    1.0s remaining:    1.5s\n",
      "[Parallel(n_jobs=-1)]: Done   5 out of   5 | elapsed:    1.0s finished\n",
      "[Parallel(n_jobs=-1)]: Using backend LokyBackend with 8 concurrent workers.\n"
     ]
    },
    {
     "name": "stdout",
     "output_type": "stream",
     "text": [
      "Model #3\n",
      "Best Accuracy: 0.3723\n",
      "Best params: {'max_depth': 41, 'min_impurity_decrease': 6.367575944513938e-08, 'min_samples_leaf': 2, 'min_samples_split': 14, 'min_weight_fraction_leaf': 0.35145356433327507, 'n_estimators': 61}\n",
      "\n",
      "Fitting 5 folds for each of 1 candidates, totalling 5 fits\n"
     ]
    },
    {
     "name": "stderr",
     "output_type": "stream",
     "text": [
      "[Parallel(n_jobs=-1)]: Done   2 out of   5 | elapsed:    4.9s remaining:    7.4s\n",
      "[Parallel(n_jobs=-1)]: Done   5 out of   5 | elapsed:    5.1s finished\n"
     ]
    },
    {
     "name": "stdout",
     "output_type": "stream",
     "text": [
      "Model #4\n",
      "Best Accuracy: 0.5026\n",
      "Best params: {'max_depth': 152, 'min_impurity_decrease': 5.826604178183534e-08, 'min_samples_leaf': 2, 'min_samples_split': 6, 'min_weight_fraction_leaf': 0.020309698287030168, 'n_estimators': 283}\n",
      "\n",
      "Fitting 5 folds for each of 1 candidates, totalling 5 fits\n"
     ]
    },
    {
     "name": "stderr",
     "output_type": "stream",
     "text": [
      "[Parallel(n_jobs=-1)]: Using backend LokyBackend with 8 concurrent workers.\n",
      "[Parallel(n_jobs=-1)]: Done   2 out of   5 | elapsed:    0.5s remaining:    0.8s\n",
      "[Parallel(n_jobs=-1)]: Done   5 out of   5 | elapsed:    0.5s finished\n",
      "[Parallel(n_jobs=-1)]: Using backend LokyBackend with 8 concurrent workers.\n"
     ]
    },
    {
     "name": "stdout",
     "output_type": "stream",
     "text": [
      "Model #5\n",
      "Best Accuracy: 0.5026\n",
      "Best params: {'max_depth': 152, 'min_impurity_decrease': 5.826604178183534e-08, 'min_samples_leaf': 2, 'min_samples_split': 6, 'min_weight_fraction_leaf': 0.020309698287030168, 'n_estimators': 283}\n",
      "\n",
      "Fitting 5 folds for each of 1 candidates, totalling 5 fits\n"
     ]
    },
    {
     "name": "stderr",
     "output_type": "stream",
     "text": [
      "[Parallel(n_jobs=-1)]: Done   2 out of   5 | elapsed:    0.8s remaining:    1.3s\n",
      "[Parallel(n_jobs=-1)]: Done   5 out of   5 | elapsed:    0.8s finished\n",
      "[Parallel(n_jobs=-1)]: Using backend LokyBackend with 8 concurrent workers.\n"
     ]
    },
    {
     "name": "stdout",
     "output_type": "stream",
     "text": [
      "Model #6\n",
      "Best Accuracy: 0.5026\n",
      "Best params: {'max_depth': 152, 'min_impurity_decrease': 5.826604178183534e-08, 'min_samples_leaf': 2, 'min_samples_split': 6, 'min_weight_fraction_leaf': 0.020309698287030168, 'n_estimators': 283}\n",
      "\n",
      "Fitting 5 folds for each of 1 candidates, totalling 5 fits\n"
     ]
    },
    {
     "name": "stderr",
     "output_type": "stream",
     "text": [
      "[Parallel(n_jobs=-1)]: Done   2 out of   5 | elapsed:    0.4s remaining:    0.7s\n",
      "[Parallel(n_jobs=-1)]: Done   5 out of   5 | elapsed:    0.5s finished\n",
      "[Parallel(n_jobs=-1)]: Using backend LokyBackend with 8 concurrent workers.\n"
     ]
    },
    {
     "name": "stdout",
     "output_type": "stream",
     "text": [
      "Model #7\n",
      "Best Accuracy: 0.5026\n",
      "Best params: {'max_depth': 152, 'min_impurity_decrease': 5.826604178183534e-08, 'min_samples_leaf': 2, 'min_samples_split': 6, 'min_weight_fraction_leaf': 0.020309698287030168, 'n_estimators': 283}\n",
      "\n",
      "Fitting 5 folds for each of 1 candidates, totalling 5 fits\n"
     ]
    },
    {
     "name": "stderr",
     "output_type": "stream",
     "text": [
      "[Parallel(n_jobs=-1)]: Done   2 out of   5 | elapsed:    0.5s remaining:    0.9s\n",
      "[Parallel(n_jobs=-1)]: Done   5 out of   5 | elapsed:    0.5s finished\n",
      "[Parallel(n_jobs=-1)]: Using backend LokyBackend with 8 concurrent workers.\n"
     ]
    },
    {
     "name": "stdout",
     "output_type": "stream",
     "text": [
      "Model #8\n",
      "Best Accuracy: 0.5026\n",
      "Best params: {'max_depth': 152, 'min_impurity_decrease': 5.826604178183534e-08, 'min_samples_leaf': 2, 'min_samples_split': 6, 'min_weight_fraction_leaf': 0.020309698287030168, 'n_estimators': 283}\n",
      "\n",
      "Fitting 5 folds for each of 1 candidates, totalling 5 fits\n"
     ]
    },
    {
     "name": "stderr",
     "output_type": "stream",
     "text": [
      "[Parallel(n_jobs=-1)]: Done   2 out of   5 | elapsed:    1.5s remaining:    2.3s\n",
      "[Parallel(n_jobs=-1)]: Done   5 out of   5 | elapsed:    1.5s finished\n"
     ]
    },
    {
     "name": "stdout",
     "output_type": "stream",
     "text": [
      "Model #9\n",
      "Best Accuracy: 0.5026\n",
      "Best params: {'max_depth': 152, 'min_impurity_decrease': 5.826604178183534e-08, 'min_samples_leaf': 2, 'min_samples_split': 6, 'min_weight_fraction_leaf': 0.020309698287030168, 'n_estimators': 283}\n",
      "\n",
      "Fitting 5 folds for each of 1 candidates, totalling 5 fits\n"
     ]
    },
    {
     "name": "stderr",
     "output_type": "stream",
     "text": [
      "[Parallel(n_jobs=-1)]: Using backend LokyBackend with 8 concurrent workers.\n",
      "[Parallel(n_jobs=-1)]: Done   2 out of   5 | elapsed:    1.1s remaining:    1.7s\n",
      "[Parallel(n_jobs=-1)]: Done   5 out of   5 | elapsed:    1.2s finished\n"
     ]
    },
    {
     "name": "stdout",
     "output_type": "stream",
     "text": [
      "Model #10\n",
      "Best Accuracy: 0.5026\n",
      "Best params: {'max_depth': 152, 'min_impurity_decrease': 5.826604178183534e-08, 'min_samples_leaf': 2, 'min_samples_split': 6, 'min_weight_fraction_leaf': 0.020309698287030168, 'n_estimators': 283}\n",
      "\n",
      "Fitting 5 folds for each of 1 candidates, totalling 5 fits\n"
     ]
    },
    {
     "name": "stderr",
     "output_type": "stream",
     "text": [
      "[Parallel(n_jobs=-1)]: Using backend LokyBackend with 8 concurrent workers.\n",
      "[Parallel(n_jobs=-1)]: Done   2 out of   5 | elapsed:    8.6s remaining:   13.0s\n",
      "[Parallel(n_jobs=-1)]: Done   5 out of   5 | elapsed:    9.3s finished\n"
     ]
    },
    {
     "name": "stdout",
     "output_type": "stream",
     "text": [
      "Model #11\n",
      "Best Accuracy: 0.5047\n",
      "Best params: {'max_depth': 200, 'min_impurity_decrease': 0.0, 'min_samples_leaf': 1, 'min_samples_split': 2, 'min_weight_fraction_leaf': 0.0, 'n_estimators': 300}\n",
      "\n",
      "Fitting 5 folds for each of 1 candidates, totalling 5 fits\n"
     ]
    },
    {
     "name": "stderr",
     "output_type": "stream",
     "text": [
      "[Parallel(n_jobs=-1)]: Using backend LokyBackend with 8 concurrent workers.\n",
      "[Parallel(n_jobs=-1)]: Done   2 out of   5 | elapsed:    0.8s remaining:    1.2s\n",
      "[Parallel(n_jobs=-1)]: Done   5 out of   5 | elapsed:    0.9s finished\n"
     ]
    },
    {
     "name": "stdout",
     "output_type": "stream",
     "text": [
      "Model #12\n",
      "Best Accuracy: 0.5091\n",
      "Best params: {'max_depth': 137, 'min_impurity_decrease': 8.95323400200393e-08, 'min_samples_leaf': 10, 'min_samples_split': 15, 'min_weight_fraction_leaf': 0.0, 'n_estimators': 35}\n",
      "\n",
      "Fitting 5 folds for each of 1 candidates, totalling 5 fits\n"
     ]
    },
    {
     "name": "stderr",
     "output_type": "stream",
     "text": [
      "[Parallel(n_jobs=-1)]: Using backend LokyBackend with 8 concurrent workers.\n",
      "[Parallel(n_jobs=-1)]: Done   2 out of   5 | elapsed:    4.1s remaining:    6.1s\n",
      "[Parallel(n_jobs=-1)]: Done   5 out of   5 | elapsed:    4.3s finished\n"
     ]
    },
    {
     "name": "stdout",
     "output_type": "stream",
     "text": [
      "Model #13\n",
      "Best Accuracy: 0.5182\n",
      "Best params: {'max_depth': 16, 'min_impurity_decrease': 4.356924164818867e-09, 'min_samples_leaf': 9, 'min_samples_split': 17, 'min_weight_fraction_leaf': 0.0, 'n_estimators': 170}\n",
      "\n",
      "Fitting 5 folds for each of 1 candidates, totalling 5 fits\n"
     ]
    },
    {
     "name": "stderr",
     "output_type": "stream",
     "text": [
      "[Parallel(n_jobs=-1)]: Using backend LokyBackend with 8 concurrent workers.\n",
      "[Parallel(n_jobs=-1)]: Done   2 out of   5 | elapsed:    2.6s remaining:    4.0s\n",
      "[Parallel(n_jobs=-1)]: Done   5 out of   5 | elapsed:    2.7s finished\n"
     ]
    },
    {
     "name": "stdout",
     "output_type": "stream",
     "text": [
      "Model #14\n",
      "Best Accuracy: 0.5182\n",
      "Best params: {'max_depth': 16, 'min_impurity_decrease': 4.356924164818867e-09, 'min_samples_leaf': 9, 'min_samples_split': 17, 'min_weight_fraction_leaf': 0.0, 'n_estimators': 170}\n",
      "\n",
      "Fitting 5 folds for each of 1 candidates, totalling 5 fits\n"
     ]
    },
    {
     "name": "stderr",
     "output_type": "stream",
     "text": [
      "[Parallel(n_jobs=-1)]: Using backend LokyBackend with 8 concurrent workers.\n",
      "[Parallel(n_jobs=-1)]: Done   2 out of   5 | elapsed:    1.3s remaining:    2.0s\n",
      "[Parallel(n_jobs=-1)]: Done   5 out of   5 | elapsed:    1.3s finished\n"
     ]
    },
    {
     "name": "stdout",
     "output_type": "stream",
     "text": [
      "Model #15\n",
      "Best Accuracy: 0.5182\n",
      "Best params: {'max_depth': 16, 'min_impurity_decrease': 4.356924164818867e-09, 'min_samples_leaf': 9, 'min_samples_split': 17, 'min_weight_fraction_leaf': 0.0, 'n_estimators': 170}\n",
      "\n",
      "Fitting 5 folds for each of 1 candidates, totalling 5 fits\n"
     ]
    },
    {
     "name": "stderr",
     "output_type": "stream",
     "text": [
      "[Parallel(n_jobs=-1)]: Using backend LokyBackend with 8 concurrent workers.\n",
      "[Parallel(n_jobs=-1)]: Done   2 out of   5 | elapsed:    5.0s remaining:    7.6s\n",
      "[Parallel(n_jobs=-1)]: Done   5 out of   5 | elapsed:    5.4s finished\n"
     ]
    },
    {
     "name": "stdout",
     "output_type": "stream",
     "text": [
      "Model #16\n",
      "Best Accuracy: 0.5185\n",
      "Best params: {'max_depth': 194, 'min_impurity_decrease': 2.2948068489142796e-08, 'min_samples_leaf': 8, 'min_samples_split': 6, 'min_weight_fraction_leaf': 0.0, 'n_estimators': 210}\n",
      "\n",
      "Fitting 5 folds for each of 1 candidates, totalling 5 fits\n"
     ]
    },
    {
     "name": "stderr",
     "output_type": "stream",
     "text": [
      "[Parallel(n_jobs=-1)]: Using backend LokyBackend with 8 concurrent workers.\n",
      "[Parallel(n_jobs=-1)]: Done   2 out of   5 | elapsed:    0.4s remaining:    0.7s\n",
      "[Parallel(n_jobs=-1)]: Done   5 out of   5 | elapsed:    0.4s finished\n"
     ]
    },
    {
     "name": "stdout",
     "output_type": "stream",
     "text": [
      "Model #17\n",
      "Best Accuracy: 0.5185\n",
      "Best params: {'max_depth': 194, 'min_impurity_decrease': 2.2948068489142796e-08, 'min_samples_leaf': 8, 'min_samples_split': 6, 'min_weight_fraction_leaf': 0.0, 'n_estimators': 210}\n",
      "\n",
      "Fitting 5 folds for each of 1 candidates, totalling 5 fits\n"
     ]
    },
    {
     "name": "stderr",
     "output_type": "stream",
     "text": [
      "[Parallel(n_jobs=-1)]: Using backend LokyBackend with 8 concurrent workers.\n",
      "[Parallel(n_jobs=-1)]: Done   2 out of   5 | elapsed:    7.1s remaining:   10.7s\n",
      "[Parallel(n_jobs=-1)]: Done   5 out of   5 | elapsed:    7.5s finished\n"
     ]
    },
    {
     "name": "stdout",
     "output_type": "stream",
     "text": [
      "Model #18\n",
      "Best Accuracy: 0.5185\n",
      "Best params: {'max_depth': 194, 'min_impurity_decrease': 2.2948068489142796e-08, 'min_samples_leaf': 8, 'min_samples_split': 6, 'min_weight_fraction_leaf': 0.0, 'n_estimators': 210}\n",
      "\n",
      "Fitting 5 folds for each of 1 candidates, totalling 5 fits\n"
     ]
    },
    {
     "name": "stderr",
     "output_type": "stream",
     "text": [
      "[Parallel(n_jobs=-1)]: Using backend LokyBackend with 8 concurrent workers.\n",
      "[Parallel(n_jobs=-1)]: Done   2 out of   5 | elapsed:    0.5s remaining:    0.9s\n",
      "[Parallel(n_jobs=-1)]: Done   5 out of   5 | elapsed:    0.6s finished\n"
     ]
    },
    {
     "name": "stdout",
     "output_type": "stream",
     "text": [
      "Model #19\n",
      "Best Accuracy: 0.5185\n",
      "Best params: {'max_depth': 194, 'min_impurity_decrease': 2.2948068489142796e-08, 'min_samples_leaf': 8, 'min_samples_split': 6, 'min_weight_fraction_leaf': 0.0, 'n_estimators': 210}\n",
      "\n",
      "Fitting 5 folds for each of 1 candidates, totalling 5 fits\n"
     ]
    },
    {
     "name": "stderr",
     "output_type": "stream",
     "text": [
      "[Parallel(n_jobs=-1)]: Using backend LokyBackend with 8 concurrent workers.\n",
      "[Parallel(n_jobs=-1)]: Done   2 out of   5 | elapsed:    9.2s remaining:   13.8s\n",
      "[Parallel(n_jobs=-1)]: Done   5 out of   5 | elapsed:    9.8s finished\n"
     ]
    },
    {
     "name": "stdout",
     "output_type": "stream",
     "text": [
      "Model #20\n",
      "Best Accuracy: 0.5185\n",
      "Best params: {'max_depth': 194, 'min_impurity_decrease': 2.2948068489142796e-08, 'min_samples_leaf': 8, 'min_samples_split': 6, 'min_weight_fraction_leaf': 0.0, 'n_estimators': 210}\n",
      "\n",
      "Fitting 5 folds for each of 1 candidates, totalling 5 fits\n"
     ]
    },
    {
     "name": "stderr",
     "output_type": "stream",
     "text": [
      "[Parallel(n_jobs=-1)]: Using backend LokyBackend with 8 concurrent workers.\n",
      "[Parallel(n_jobs=-1)]: Done   2 out of   5 | elapsed:    0.4s remaining:    0.6s\n",
      "[Parallel(n_jobs=-1)]: Done   5 out of   5 | elapsed:    0.4s finished\n"
     ]
    },
    {
     "name": "stdout",
     "output_type": "stream",
     "text": [
      "Model #21\n",
      "Best Accuracy: 0.5185\n",
      "Best params: {'max_depth': 194, 'min_impurity_decrease': 2.2948068489142796e-08, 'min_samples_leaf': 8, 'min_samples_split': 6, 'min_weight_fraction_leaf': 0.0, 'n_estimators': 210}\n",
      "\n",
      "Fitting 5 folds for each of 1 candidates, totalling 5 fits\n"
     ]
    },
    {
     "name": "stderr",
     "output_type": "stream",
     "text": [
      "[Parallel(n_jobs=-1)]: Using backend LokyBackend with 8 concurrent workers.\n",
      "[Parallel(n_jobs=-1)]: Done   2 out of   5 | elapsed:    1.2s remaining:    1.9s\n",
      "[Parallel(n_jobs=-1)]: Done   5 out of   5 | elapsed:    1.3s finished\n"
     ]
    },
    {
     "name": "stdout",
     "output_type": "stream",
     "text": [
      "Model #22\n",
      "Best Accuracy: 0.5185\n",
      "Best params: {'max_depth': 194, 'min_impurity_decrease': 2.2948068489142796e-08, 'min_samples_leaf': 8, 'min_samples_split': 6, 'min_weight_fraction_leaf': 0.0, 'n_estimators': 210}\n",
      "\n",
      "Fitting 5 folds for each of 1 candidates, totalling 5 fits\n"
     ]
    },
    {
     "name": "stderr",
     "output_type": "stream",
     "text": [
      "[Parallel(n_jobs=-1)]: Using backend LokyBackend with 8 concurrent workers.\n",
      "[Parallel(n_jobs=-1)]: Done   2 out of   5 | elapsed:    1.1s remaining:    1.7s\n",
      "[Parallel(n_jobs=-1)]: Done   5 out of   5 | elapsed:    1.1s finished\n"
     ]
    },
    {
     "name": "stdout",
     "output_type": "stream",
     "text": [
      "Model #23\n",
      "Best Accuracy: 0.5185\n",
      "Best params: {'max_depth': 194, 'min_impurity_decrease': 2.2948068489142796e-08, 'min_samples_leaf': 8, 'min_samples_split': 6, 'min_weight_fraction_leaf': 0.0, 'n_estimators': 210}\n",
      "\n",
      "Fitting 5 folds for each of 1 candidates, totalling 5 fits\n"
     ]
    },
    {
     "name": "stderr",
     "output_type": "stream",
     "text": [
      "[Parallel(n_jobs=-1)]: Using backend LokyBackend with 8 concurrent workers.\n",
      "[Parallel(n_jobs=-1)]: Done   2 out of   5 | elapsed:    0.2s remaining:    0.3s\n",
      "[Parallel(n_jobs=-1)]: Done   5 out of   5 | elapsed:    0.2s finished\n"
     ]
    },
    {
     "name": "stdout",
     "output_type": "stream",
     "text": [
      "Model #24\n",
      "Best Accuracy: 0.5185\n",
      "Best params: {'max_depth': 194, 'min_impurity_decrease': 2.2948068489142796e-08, 'min_samples_leaf': 8, 'min_samples_split': 6, 'min_weight_fraction_leaf': 0.0, 'n_estimators': 210}\n",
      "\n",
      "Fitting 5 folds for each of 1 candidates, totalling 5 fits\n"
     ]
    },
    {
     "name": "stderr",
     "output_type": "stream",
     "text": [
      "[Parallel(n_jobs=-1)]: Using backend LokyBackend with 8 concurrent workers.\n",
      "[Parallel(n_jobs=-1)]: Done   2 out of   5 | elapsed:    4.0s remaining:    6.0s\n",
      "[Parallel(n_jobs=-1)]: Done   5 out of   5 | elapsed:    4.2s finished\n"
     ]
    },
    {
     "name": "stdout",
     "output_type": "stream",
     "text": [
      "Model #25\n",
      "Best Accuracy: 0.5185\n",
      "Best params: {'max_depth': 194, 'min_impurity_decrease': 2.2948068489142796e-08, 'min_samples_leaf': 8, 'min_samples_split': 6, 'min_weight_fraction_leaf': 0.0, 'n_estimators': 210}\n",
      "\n",
      "Fitting 5 folds for each of 1 candidates, totalling 5 fits\n"
     ]
    },
    {
     "name": "stderr",
     "output_type": "stream",
     "text": [
      "[Parallel(n_jobs=-1)]: Using backend LokyBackend with 8 concurrent workers.\n",
      "[Parallel(n_jobs=-1)]: Done   2 out of   5 | elapsed:    1.1s remaining:    1.6s\n",
      "[Parallel(n_jobs=-1)]: Done   5 out of   5 | elapsed:    1.1s finished\n"
     ]
    },
    {
     "name": "stdout",
     "output_type": "stream",
     "text": [
      "Model #26\n",
      "Best Accuracy: 0.5185\n",
      "Best params: {'max_depth': 194, 'min_impurity_decrease': 2.2948068489142796e-08, 'min_samples_leaf': 8, 'min_samples_split': 6, 'min_weight_fraction_leaf': 0.0, 'n_estimators': 210}\n",
      "\n",
      "Fitting 5 folds for each of 1 candidates, totalling 5 fits\n"
     ]
    },
    {
     "name": "stderr",
     "output_type": "stream",
     "text": [
      "[Parallel(n_jobs=-1)]: Using backend LokyBackend with 8 concurrent workers.\n",
      "[Parallel(n_jobs=-1)]: Done   2 out of   5 | elapsed:    1.6s remaining:    2.5s\n",
      "[Parallel(n_jobs=-1)]: Done   5 out of   5 | elapsed:    1.9s finished\n"
     ]
    },
    {
     "name": "stdout",
     "output_type": "stream",
     "text": [
      "Model #27\n",
      "Best Accuracy: 0.5185\n",
      "Best params: {'max_depth': 194, 'min_impurity_decrease': 2.2948068489142796e-08, 'min_samples_leaf': 8, 'min_samples_split': 6, 'min_weight_fraction_leaf': 0.0, 'n_estimators': 210}\n",
      "\n",
      "Fitting 5 folds for each of 1 candidates, totalling 5 fits\n"
     ]
    },
    {
     "name": "stderr",
     "output_type": "stream",
     "text": [
      "[Parallel(n_jobs=-1)]: Using backend LokyBackend with 8 concurrent workers.\n",
      "[Parallel(n_jobs=-1)]: Done   2 out of   5 | elapsed:    0.4s remaining:    0.7s\n",
      "[Parallel(n_jobs=-1)]: Done   5 out of   5 | elapsed:    0.4s finished\n"
     ]
    },
    {
     "name": "stdout",
     "output_type": "stream",
     "text": [
      "Model #28\n",
      "Best Accuracy: 0.5185\n",
      "Best params: {'max_depth': 194, 'min_impurity_decrease': 2.2948068489142796e-08, 'min_samples_leaf': 8, 'min_samples_split': 6, 'min_weight_fraction_leaf': 0.0, 'n_estimators': 210}\n",
      "\n",
      "Fitting 5 folds for each of 1 candidates, totalling 5 fits\n"
     ]
    },
    {
     "name": "stderr",
     "output_type": "stream",
     "text": [
      "[Parallel(n_jobs=-1)]: Using backend LokyBackend with 8 concurrent workers.\n",
      "[Parallel(n_jobs=-1)]: Done   2 out of   5 | elapsed:    3.8s remaining:    5.8s\n",
      "[Parallel(n_jobs=-1)]: Done   5 out of   5 | elapsed:    4.1s finished\n"
     ]
    },
    {
     "name": "stdout",
     "output_type": "stream",
     "text": [
      "Model #29\n",
      "Best Accuracy: 0.5185\n",
      "Best params: {'max_depth': 194, 'min_impurity_decrease': 2.2948068489142796e-08, 'min_samples_leaf': 8, 'min_samples_split': 6, 'min_weight_fraction_leaf': 0.0, 'n_estimators': 210}\n",
      "\n",
      "Fitting 5 folds for each of 1 candidates, totalling 5 fits\n"
     ]
    },
    {
     "name": "stderr",
     "output_type": "stream",
     "text": [
      "[Parallel(n_jobs=-1)]: Using backend LokyBackend with 8 concurrent workers.\n",
      "[Parallel(n_jobs=-1)]: Done   2 out of   5 | elapsed:    7.1s remaining:   10.7s\n",
      "[Parallel(n_jobs=-1)]: Done   5 out of   5 | elapsed:    7.4s finished\n"
     ]
    },
    {
     "name": "stdout",
     "output_type": "stream",
     "text": [
      "Model #30\n",
      "Best Accuracy: 0.5185\n",
      "Best params: {'max_depth': 194, 'min_impurity_decrease': 2.2948068489142796e-08, 'min_samples_leaf': 8, 'min_samples_split': 6, 'min_weight_fraction_leaf': 0.0, 'n_estimators': 210}\n",
      "\n",
      "Fitting 5 folds for each of 1 candidates, totalling 5 fits\n"
     ]
    },
    {
     "name": "stderr",
     "output_type": "stream",
     "text": [
      "[Parallel(n_jobs=-1)]: Using backend LokyBackend with 8 concurrent workers.\n",
      "[Parallel(n_jobs=-1)]: Done   2 out of   5 | elapsed:    0.1s remaining:    0.2s\n",
      "[Parallel(n_jobs=-1)]: Done   5 out of   5 | elapsed:    0.1s finished\n"
     ]
    },
    {
     "name": "stdout",
     "output_type": "stream",
     "text": [
      "Model #31\n",
      "Best Accuracy: 0.5185\n",
      "Best params: {'max_depth': 194, 'min_impurity_decrease': 2.2948068489142796e-08, 'min_samples_leaf': 8, 'min_samples_split': 6, 'min_weight_fraction_leaf': 0.0, 'n_estimators': 210}\n",
      "\n",
      "Fitting 5 folds for each of 1 candidates, totalling 5 fits\n"
     ]
    },
    {
     "name": "stderr",
     "output_type": "stream",
     "text": [
      "[Parallel(n_jobs=-1)]: Using backend LokyBackend with 8 concurrent workers.\n",
      "[Parallel(n_jobs=-1)]: Done   2 out of   5 | elapsed:    6.9s remaining:   10.3s\n",
      "[Parallel(n_jobs=-1)]: Done   5 out of   5 | elapsed:    7.1s finished\n"
     ]
    },
    {
     "name": "stdout",
     "output_type": "stream",
     "text": [
      "Model #32\n",
      "Best Accuracy: 0.5185\n",
      "Best params: {'max_depth': 194, 'min_impurity_decrease': 2.2948068489142796e-08, 'min_samples_leaf': 8, 'min_samples_split': 6, 'min_weight_fraction_leaf': 0.0, 'n_estimators': 210}\n",
      "\n",
      "Fitting 5 folds for each of 1 candidates, totalling 5 fits\n"
     ]
    },
    {
     "name": "stderr",
     "output_type": "stream",
     "text": [
      "[Parallel(n_jobs=-1)]: Using backend LokyBackend with 8 concurrent workers.\n",
      "[Parallel(n_jobs=-1)]: Done   2 out of   5 | elapsed:    4.3s remaining:    6.4s\n",
      "[Parallel(n_jobs=-1)]: Done   5 out of   5 | elapsed:    4.5s finished\n"
     ]
    },
    {
     "name": "stdout",
     "output_type": "stream",
     "text": [
      "Model #33\n",
      "Best Accuracy: 0.5185\n",
      "Best params: {'max_depth': 194, 'min_impurity_decrease': 2.2948068489142796e-08, 'min_samples_leaf': 8, 'min_samples_split': 6, 'min_weight_fraction_leaf': 0.0, 'n_estimators': 210}\n",
      "\n",
      "Fitting 5 folds for each of 1 candidates, totalling 5 fits\n"
     ]
    },
    {
     "name": "stderr",
     "output_type": "stream",
     "text": [
      "[Parallel(n_jobs=-1)]: Using backend LokyBackend with 8 concurrent workers.\n",
      "[Parallel(n_jobs=-1)]: Done   2 out of   5 | elapsed:    7.1s remaining:   10.7s\n",
      "[Parallel(n_jobs=-1)]: Done   5 out of   5 | elapsed:    7.4s finished\n"
     ]
    },
    {
     "name": "stdout",
     "output_type": "stream",
     "text": [
      "Model #34\n",
      "Best Accuracy: 0.5185\n",
      "Best params: {'max_depth': 194, 'min_impurity_decrease': 2.2948068489142796e-08, 'min_samples_leaf': 8, 'min_samples_split': 6, 'min_weight_fraction_leaf': 0.0, 'n_estimators': 210}\n",
      "\n",
      "Fitting 5 folds for each of 1 candidates, totalling 5 fits\n"
     ]
    },
    {
     "name": "stderr",
     "output_type": "stream",
     "text": [
      "[Parallel(n_jobs=-1)]: Using backend LokyBackend with 8 concurrent workers.\n",
      "[Parallel(n_jobs=-1)]: Done   2 out of   5 | elapsed:    4.6s remaining:    6.9s\n",
      "[Parallel(n_jobs=-1)]: Done   5 out of   5 | elapsed:    4.9s finished\n"
     ]
    },
    {
     "name": "stdout",
     "output_type": "stream",
     "text": [
      "Model #35\n",
      "Best Accuracy: 0.5185\n",
      "Best params: {'max_depth': 194, 'min_impurity_decrease': 2.2948068489142796e-08, 'min_samples_leaf': 8, 'min_samples_split': 6, 'min_weight_fraction_leaf': 0.0, 'n_estimators': 210}\n",
      "\n",
      "Fitting 5 folds for each of 1 candidates, totalling 5 fits\n"
     ]
    },
    {
     "name": "stderr",
     "output_type": "stream",
     "text": [
      "[Parallel(n_jobs=-1)]: Using backend LokyBackend with 8 concurrent workers.\n",
      "[Parallel(n_jobs=-1)]: Done   2 out of   5 | elapsed:    7.0s remaining:   10.5s\n",
      "[Parallel(n_jobs=-1)]: Done   5 out of   5 | elapsed:    7.4s finished\n"
     ]
    },
    {
     "name": "stdout",
     "output_type": "stream",
     "text": [
      "Model #36\n",
      "Best Accuracy: 0.5185\n",
      "Best params: {'max_depth': 194, 'min_impurity_decrease': 2.2948068489142796e-08, 'min_samples_leaf': 8, 'min_samples_split': 6, 'min_weight_fraction_leaf': 0.0, 'n_estimators': 210}\n",
      "\n",
      "Fitting 5 folds for each of 1 candidates, totalling 5 fits\n"
     ]
    },
    {
     "name": "stderr",
     "output_type": "stream",
     "text": [
      "[Parallel(n_jobs=-1)]: Using backend LokyBackend with 8 concurrent workers.\n",
      "[Parallel(n_jobs=-1)]: Done   2 out of   5 | elapsed:    6.9s remaining:   10.4s\n",
      "[Parallel(n_jobs=-1)]: Done   5 out of   5 | elapsed:    7.2s finished\n"
     ]
    },
    {
     "name": "stdout",
     "output_type": "stream",
     "text": [
      "Model #37\n",
      "Best Accuracy: 0.5185\n",
      "Best params: {'max_depth': 194, 'min_impurity_decrease': 2.2948068489142796e-08, 'min_samples_leaf': 8, 'min_samples_split': 6, 'min_weight_fraction_leaf': 0.0, 'n_estimators': 210}\n",
      "\n",
      "Fitting 5 folds for each of 1 candidates, totalling 5 fits\n"
     ]
    },
    {
     "name": "stderr",
     "output_type": "stream",
     "text": [
      "[Parallel(n_jobs=-1)]: Using backend LokyBackend with 8 concurrent workers.\n",
      "[Parallel(n_jobs=-1)]: Done   2 out of   5 | elapsed:    7.5s remaining:   11.2s\n",
      "[Parallel(n_jobs=-1)]: Done   5 out of   5 | elapsed:    7.5s finished\n"
     ]
    },
    {
     "name": "stdout",
     "output_type": "stream",
     "text": [
      "Model #38\n",
      "Best Accuracy: 0.5185\n",
      "Best params: {'max_depth': 194, 'min_impurity_decrease': 2.2948068489142796e-08, 'min_samples_leaf': 8, 'min_samples_split': 6, 'min_weight_fraction_leaf': 0.0, 'n_estimators': 210}\n",
      "\n",
      "Fitting 5 folds for each of 1 candidates, totalling 5 fits\n"
     ]
    },
    {
     "name": "stderr",
     "output_type": "stream",
     "text": [
      "[Parallel(n_jobs=-1)]: Using backend LokyBackend with 8 concurrent workers.\n",
      "[Parallel(n_jobs=-1)]: Done   2 out of   5 | elapsed:    9.0s remaining:   13.6s\n",
      "[Parallel(n_jobs=-1)]: Done   5 out of   5 | elapsed:    9.5s finished\n"
     ]
    },
    {
     "name": "stdout",
     "output_type": "stream",
     "text": [
      "Model #39\n",
      "Best Accuracy: 0.5185\n",
      "Best params: {'max_depth': 194, 'min_impurity_decrease': 2.2948068489142796e-08, 'min_samples_leaf': 8, 'min_samples_split': 6, 'min_weight_fraction_leaf': 0.0, 'n_estimators': 210}\n",
      "\n",
      "Fitting 5 folds for each of 1 candidates, totalling 5 fits\n"
     ]
    },
    {
     "name": "stderr",
     "output_type": "stream",
     "text": [
      "[Parallel(n_jobs=-1)]: Using backend LokyBackend with 8 concurrent workers.\n",
      "[Parallel(n_jobs=-1)]: Done   2 out of   5 | elapsed:    1.3s remaining:    1.9s\n",
      "[Parallel(n_jobs=-1)]: Done   5 out of   5 | elapsed:    1.3s finished\n"
     ]
    },
    {
     "name": "stdout",
     "output_type": "stream",
     "text": [
      "Model #40\n",
      "Best Accuracy: 0.5185\n",
      "Best params: {'max_depth': 194, 'min_impurity_decrease': 2.2948068489142796e-08, 'min_samples_leaf': 8, 'min_samples_split': 6, 'min_weight_fraction_leaf': 0.0, 'n_estimators': 210}\n",
      "\n"
     ]
    },
    {
     "name": "stderr",
     "output_type": "stream",
     "text": [
      "[Parallel(n_jobs=1)]: Using backend SequentialBackend with 1 concurrent workers.\n",
      "[Parallel(n_jobs=1)]: Done 210 out of 210 | elapsed:    5.3s finished\n"
     ]
    }
   ],
   "source": [
    "'''\n",
    "def status_print(optim_result):\n",
    "    \"\"\"Status callback durring bayesian hyperparameter search\"\"\"\n",
    "    \n",
    "    # Get all the models tested so far in DataFrame format\n",
    "    all_models = pd.DataFrame(bayes_cv_tuner.cv_results_)    \n",
    "    \n",
    "    # Get current parameters and the best parameters    \n",
    "    best_params = pd.Series(bayes_cv_tuner.best_params_)\n",
    "    print('Model #{}\\nBest Accuracy: {}\\nBest params: {}\\n'.format(\n",
    "        len(all_models),\n",
    "        np.round(bayes_cv_tuner.best_score_, 4),\n",
    "        bayes_cv_tuner.best_params_\n",
    "    ))\n",
    "\n",
    "# Classifier\n",
    "bayes_cv_tuner = BayesSearchCV(\n",
    "    estimator = RandomForestClassifier(\n",
    "        criterion='gini',\n",
    "        verbose=1,\n",
    "        max_features='auto',\n",
    "        max_leaf_nodes=None,\n",
    "        random_state = 1337\n",
    "        \n",
    "    ),\n",
    "    search_spaces = { \n",
    "        'max_depth': (1, 200),\n",
    "        'n_estimators': (20, 300),\n",
    "        'min_samples_split': (2,20),\n",
    "        'min_samples_leaf': (1,10),\n",
    "        'min_weight_fraction_leaf': (0.0,0.5),\n",
    "        'min_impurity_decrease': (0,1E-7),\n",
    "        \n",
    "        \n",
    "    },    \n",
    "    cv = GroupShuffleSplit(n_splits=5, random_state = 1337),\n",
    "    n_jobs = -1,\n",
    "    n_iter = 40,   \n",
    "    verbose = 1,\n",
    "    refit = True,\n",
    "    \n",
    ")\n",
    "\n",
    "# Fit the model\n",
    "result = bayes_cv_tuner.fit(X_train, y_train['surface'], groups=y_train['group_id'], callback=status_print)\n",
    "'''"
   ]
  },
  {
   "cell_type": "code",
   "execution_count": 4,
   "metadata": {},
   "outputs": [
    {
     "name": "stdout",
     "output_type": "stream",
     "text": [
      "____________________ 0 ____________________\n",
      "train_score  0.9195548489666137\n",
      "cv_score  0.518796992481203\n",
      "____________________ 1 ____________________\n",
      "train_score  0.9294578706727629\n",
      "cv_score  0.5762032085561497\n",
      "____________________ 2 ____________________\n",
      "train_score  0.9161028416779432\n",
      "cv_score  0.42857142857142855\n",
      "________________________________________\n",
      "Avg CV Accuracy 0.5078572098695938\n"
     ]
    }
   ],
   "source": [
    "folds = GroupShuffleSplit(n_splits=3, random_state=1337)\n",
    "sub_preds = np.zeros((X_test.shape[0], 9))\n",
    "score_sum = 0\n",
    "'''\n",
    "clf = LGBMClassifier(colsample_bytree=0.03581900508076567, learning_rate=0.09308743154192588, \n",
    "                     max_bin=471, max_depth=-1, min_child_samples=50, min_child_weight=10, \n",
    "                     n_estimators=51, num_leaves=82, reg_alpha=2.0036361362515476e-07, reg_lambda=0.2069846982564452,\n",
    "                     scale_pos_weight=9.05248363351552, subsample=0.9056112605172989, subsample_for_bin=368683, \n",
    "                     subsample_freq=9)\n",
    "'''\n",
    "# clf = XGBClassifier() \n",
    "'''\n",
    "clf = RandomForestClassifier(max_depth=77, min_impurity_decrease=8.435373293206687e-08, \n",
    "                             min_samples_leaf=10, min_samples_split=4, min_weight_fraction_leaf=0.0, n_estimators=170, random_state=1337)\n",
    "'''\n",
    "for i, (train_index, test_index) in enumerate(folds.split(X_train, y_train['surface'],\n",
    "                                                groups=y_train['group_id'])):\n",
    "\n",
    "    print('_'*20, i, '_'*20)\n",
    "    clf.fit(X_train.iloc[train_index], y_train['surface'][train_index])\n",
    "    score_sum += clf.score(X_train.iloc[test_index], y_train['surface'][test_index])\n",
    "    print('train_score ', clf.score(X_train.iloc[train_index], y_train['surface'][train_index]))\n",
    "    print('cv_score ', clf.score(X_train.iloc[test_index], y_train['surface'][test_index]))\n",
    "    importances = clf.feature_importances_\n",
    "    indices = np.argsort(importances)\n",
    "    features = X_train.columns\n",
    "    \n",
    "    '''\n",
    "    hm = 30\n",
    "    plt.figure(figsize=(7, 10))\n",
    "    plt.title('Feature Importances')\n",
    "    plt.barh(range(len(indices[:hm])), importances[indices][:hm], color='b', align='center')\n",
    "    plt.yticks(range(len(indices[:hm])), [features[i] for i in indices])\n",
    "    plt.xlabel('Relative Importance')\n",
    "    plt.show()\n",
    "    '''\n",
    "    \n",
    "\n",
    "print('_'*40)\n",
    "mean_cv_acc = score_sum / folds.n_splits\n",
    "print('Avg CV Accuracy', mean_cv_acc)\n",
    "clf.fit(X_train, y_train['surface'])\n",
    "sub_preds = clf.predict_proba(X_test)\n",
    "SS['surface'] = le.inverse_transform(sub_preds.argmax(axis=1))\n",
    "SS.to_csv('rf.csv', index=False)"
   ]
  },
  {
   "cell_type": "code",
   "execution_count": 5,
   "metadata": {},
   "outputs": [
    {
     "data": {
      "text/plain": [
       "<matplotlib.axes._subplots.AxesSubplot at 0x222e296aa90>"
      ]
     },
     "execution_count": 5,
     "metadata": {},
     "output_type": "execute_result"
    },
    {
     "data": {
      "image/png": "[encoded data removed]",
      "text/plain": [
       "<Figure size 432x288 with 2 Axes>"
      ]
     },
     "metadata": {
      "needs_background": "light"
     },
     "output_type": "display_data"
    }
   ],
   "source": [
    "import matplotlib.pyplot as plt\n",
    "import seaborn as sns\n",
    "cm = confusion_matrix(clf.predict(X_train), y_train['surface'])\n",
    "sns.heatmap(cm, annot=True, cmap=\"YlGnBu\")"
   ]
  },
  {
   "cell_type": "code",
   "execution_count": 6,
   "metadata": {},
   "outputs": [
    {
     "data": {
      "image/png": "[encoded data removed]",
      "text/plain": [
       "<Figure size 432x288 with 1 Axes>"
      ]
     },
     "metadata": {
      "needs_background": "light"
     },
     "output_type": "display_data"
    }
   ],
   "source": [
    "countplot(y = 'surface', data = y_train)\n",
    "plt.show()"
   ]
  },
  {
   "cell_type": "code",
   "execution_count": 7,
   "metadata": {},
   "outputs": [
    {
     "name": "stdout",
     "output_type": "stream",
     "text": [
      "1    779\n",
      "5    732\n",
      "8    607\n",
      "7    514\n",
      "2    363\n",
      "4    308\n",
      "6    297\n",
      "0    189\n",
      "3     21\n",
      "Name: surface, dtype: int64\n"
     ]
    }
   ],
   "source": [
    "print(y_train['surface'].value_counts())"
   ]
  },
  {
   "cell_type": "code",
   "execution_count": 8,
   "metadata": {},
   "outputs": [
    {
     "name": "stdout",
     "output_type": "stream",
     "text": [
      "['fine_concrete' 'concrete' 'soft_tiles' 'tiled' 'soft_pvc'\n",
      " 'hard_tiles_large_space' 'carpet' 'hard_tiles' 'wood']\n",
      "[2 1 6 7 5 4 0 3 8]\n"
     ]
    }
   ],
   "source": [
    "print(le.inverse_transform(y_train['surface'].unique()))\n",
    "print(y_train['surface'].unique())"
   ]
  },
  {
   "cell_type": "code",
   "execution_count": 9,
   "metadata": {},
   "outputs": [
    {
     "name": "stdout",
     "output_type": "stream",
     "text": [
      "Training group id counts.\n",
      "70    71\n",
      "60    71\n",
      "53    71\n",
      "44    71\n",
      "40    71\n",
      "71    70\n",
      "69    70\n",
      "68    70\n",
      "62    70\n",
      "54    70\n",
      "48    70\n",
      "46    70\n",
      "42    70\n",
      "38    70\n",
      "39    70\n",
      "41    70\n",
      "43    70\n",
      "45    70\n",
      "47    70\n",
      "55    70\n",
      "61    70\n",
      "65    70\n",
      "72    70\n",
      "59    64\n",
      "34    57\n",
      "12    57\n",
      "18    57\n",
      "26    57\n",
      "15    57\n",
      "3     57\n",
      "8     57\n",
      "4     57\n",
      "35    57\n",
      "33    57\n",
      "29    57\n",
      "20    57\n",
      "19    57\n",
      "22    57\n",
      "9     57\n",
      "23    56\n",
      "14    56\n",
      "7     56\n",
      "10    56\n",
      "11    56\n",
      "31    54\n",
      "25    51\n",
      "6     48\n",
      "57    41\n",
      "1     38\n",
      "27    21\n",
      "2     18\n",
      "63    17\n",
      "17    12\n",
      "50    10\n",
      "58     7\n",
      "67     6\n",
      "24     5\n",
      "30     3\n",
      "Name: group_id, dtype: int64\n",
      "70    71\n",
      "60    71\n",
      "44    71\n",
      "40    71\n",
      "71    70\n",
      "41    70\n",
      "48    70\n",
      "46    70\n",
      "42    70\n",
      "38    70\n",
      "69    70\n",
      "72    70\n",
      "43    70\n",
      "45    70\n",
      "55    70\n",
      "61    70\n",
      "65    70\n",
      "59    64\n",
      "66    64\n",
      "49    60\n",
      "51    60\n",
      "18    57\n",
      "22    57\n",
      "26    57\n",
      "34    57\n",
      "12    57\n",
      "4     57\n",
      "20    57\n",
      "0     57\n",
      "3     57\n",
      "9     57\n",
      "35    57\n",
      "33    57\n",
      "15    57\n",
      "29    57\n",
      "19    57\n",
      "23    56\n",
      "7     56\n",
      "11    56\n",
      "10    56\n",
      "31    54\n",
      "64    53\n",
      "25    51\n",
      "6     48\n",
      "16    45\n",
      "57    41\n",
      "1     38\n",
      "36    36\n",
      "28    36\n",
      "37    34\n",
      "56    29\n",
      "27    21\n",
      "17    12\n",
      "52    11\n",
      "50    10\n",
      "5      9\n",
      "58     7\n",
      "67     6\n",
      "Name: group_id, dtype: int64\n",
      "70    71\n",
      "44    71\n",
      "53    71\n",
      "71    70\n",
      "45    70\n",
      "68    70\n",
      "62    70\n",
      "54    70\n",
      "48    70\n",
      "46    70\n",
      "42    70\n",
      "69    70\n",
      "41    70\n",
      "47    70\n",
      "55    70\n",
      "61    70\n",
      "65    70\n",
      "72    70\n",
      "59    64\n",
      "49    60\n",
      "51    60\n",
      "20    57\n",
      "22    57\n",
      "26    57\n",
      "34    57\n",
      "12    57\n",
      "8     57\n",
      "4     57\n",
      "0     57\n",
      "3     57\n",
      "29    57\n",
      "9     57\n",
      "13    57\n",
      "15    57\n",
      "19    57\n",
      "21    57\n",
      "7     56\n",
      "14    56\n",
      "23    56\n",
      "31    54\n",
      "64    53\n",
      "6     48\n",
      "16    45\n",
      "57    41\n",
      "1     38\n",
      "36    36\n",
      "37    34\n",
      "56    29\n",
      "27    21\n",
      "2     18\n",
      "63    17\n",
      "17    12\n",
      "50    10\n",
      "5      9\n",
      "58     7\n",
      "67     6\n",
      "24     5\n",
      "30     3\n",
      "Name: group_id, dtype: int64\n",
      "\n",
      "\n",
      "CV group id counts.\n",
      "66    64\n",
      "51    60\n",
      "49    60\n",
      "32    57\n",
      "21    57\n",
      "13    57\n",
      "0     57\n",
      "64    53\n",
      "16    45\n",
      "36    36\n",
      "28    36\n",
      "37    34\n",
      "56    29\n",
      "52    11\n",
      "5      9\n",
      "Name: group_id, dtype: int64\n",
      "53    71\n",
      "68    70\n",
      "62    70\n",
      "54    70\n",
      "47    70\n",
      "39    70\n",
      "32    57\n",
      "21    57\n",
      "13    57\n",
      "8     57\n",
      "14    56\n",
      "2     18\n",
      "63    17\n",
      "24     5\n",
      "30     3\n",
      "Name: group_id, dtype: int64\n",
      "60    71\n",
      "40    71\n",
      "43    70\n",
      "39    70\n",
      "38    70\n",
      "66    64\n",
      "35    57\n",
      "33    57\n",
      "32    57\n",
      "18    57\n",
      "11    56\n",
      "10    56\n",
      "25    51\n",
      "28    36\n",
      "52    11\n",
      "Name: group_id, dtype: int64\n",
      "\n",
      "\n",
      "Training label counts.\n",
      "1    656\n",
      "5    609\n",
      "8    547\n",
      "7    361\n",
      "2    270\n",
      "4    263\n",
      "6    240\n",
      "0    178\n",
      "3     21\n",
      "Name: surface, dtype: int64\n",
      "5    661\n",
      "8    528\n",
      "1    495\n",
      "7    387\n",
      "4    308\n",
      "6    240\n",
      "2    233\n",
      "0    189\n",
      "3     21\n",
      "Name: surface, dtype: int64\n",
      "5    675\n",
      "1    652\n",
      "8    411\n",
      "7    358\n",
      "2    306\n",
      "6    297\n",
      "4    180\n",
      "0     56\n",
      "3     21\n",
      "Name: surface, dtype: int64\n",
      "\n",
      "\n",
      "CV label counts.\n",
      "7    153\n",
      "5    123\n",
      "1    123\n",
      "2     93\n",
      "8     60\n",
      "6     57\n",
      "4     45\n",
      "0     11\n",
      "Name: surface, dtype: int64\n",
      "1    284\n",
      "2    130\n",
      "7    127\n",
      "8     79\n",
      "5     71\n",
      "6     57\n",
      "Name: surface, dtype: int64\n",
      "8    196\n",
      "7    156\n",
      "0    133\n",
      "4    128\n",
      "1    127\n",
      "5     57\n",
      "2     57\n",
      "Name: surface, dtype: int64\n"
     ]
    }
   ],
   "source": [
    "print(\"Training group id counts.\")    \n",
    "for i, (train_index, test_index) in enumerate(folds.split(X_train, y_train['surface'],\n",
    "                                                groups=y_train['group_id'])):\n",
    "    print((y_train['group_id'].iloc[train_index]).value_counts())\n",
    "    \n",
    "print(\"\\n\\nCV group id counts.\")    \n",
    "for i, (train_index, test_index) in enumerate(folds.split(X_train, y_train['surface'],\n",
    "                                                groups=y_train['group_id'])):    \n",
    "    print((y_train['group_id'].iloc[test_index]).value_counts())\n",
    "    \n",
    "print(\"\\n\\nTraining label counts.\")    \n",
    "for i, (train_index, test_index) in enumerate(folds.split(X_train, y_train['surface'],\n",
    "                                                groups=y_train['group_id'])):\n",
    "    print((y_train['surface'].iloc[train_index]).value_counts())\n",
    "    \n",
    "print(\"\\n\\nCV label counts.\")    \n",
    "for i, (train_index, test_index) in enumerate(folds.split(X_train, y_train['surface'],\n",
    "                                                groups=y_train['group_id'])):    \n",
    "    print((y_train['surface'].iloc[test_index]).value_counts())"
   ]
  },
  {
   "cell_type": "code",
   "execution_count": null,
   "metadata": {},
   "outputs": [],
   "source": []
  }
 ],
 "metadata": {
  "kernelspec": {
   "display_name": "Python 3",
   "language": "python",
   "name": "python3"
  },
  "language_info": {
   "codemirror_mode": {
    "name": "ipython",
    "version": 3
   },
   "file_extension": ".py",
   "mimetype": "text/x-python",
   "name": "python",
   "nbconvert_exporter": "python",
   "pygments_lexer": "ipython3",
   "version": "3.7.2"
  }
 },
 "nbformat": 4,
 "nbformat_minor": 2
}
