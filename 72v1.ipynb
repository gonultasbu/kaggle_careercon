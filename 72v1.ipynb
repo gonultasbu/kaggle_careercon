{
  "cells": [
    {
      "metadata": {
        "_uuid": "8f2839f25d086af736a60e9eeb907d3b93b6e0e5",
        "_cell_guid": "b1076dfc-b9ad-4769-8c92-a6c4dae69d19",
        "trusted": true
      },
      "cell_type": "code",
      "source": "import numpy as np # linear algebra\nimport pandas as pd # data processing, CSV file I/O (e.g. pd.read_csv)\nimport os\nprint(os.listdir(\"../input\"))\nfrom sklearn import preprocessing\nfrom sklearn.metrics import accuracy_score\nimport matplotlib.pyplot as plt\nimport seaborn as sns\nfrom scipy import stats\nfrom scipy.stats import norm\nfrom sklearn.preprocessing import StandardScaler\nfrom matplotlib import rcParams\n%matplotlib inline\nle = preprocessing.LabelEncoder()\nimport re\nimport warnings\nfrom sklearn.metrics import accuracy_score, confusion_matrix\nwarnings.filterwarnings('ignore')",
      "execution_count": 24,
      "outputs": [
        {
          "output_type": "stream",
          "text": "['y_train.csv', 'sample_submission.csv', 'X_test.csv', 'X_train.csv']\n",
          "name": "stdout"
        }
      ]
    },
    {
      "metadata": {
        "trusted": true,
        "_uuid": "f9d2f8541d8a53344730cadb5a2b9752559d17fc"
      },
      "cell_type": "code",
      "source": "def balanced_cv(conf_mat):\n    assert len(conf_mat.shape) == 2\n    rows, columns = conf_mat.shape\n    intra_class_scores = np.zeros((1, columns))\n    column_sums = np.sum(conf_mat, axis=0)\n    for c in range(columns):\n        intra_class_scores[0][c] = float(conf_mat[c][c])/column_sums[c]\n        \n    balanced_score = np.mean(intra_class_scores)\n    return balanced_score",
      "execution_count": 2,
      "outputs": []
    },
    {
      "metadata": {
        "_cell_guid": "79c7e3d0-c299-4dcb-8224-4455121ee9b0",
        "_uuid": "d629ff2d2480ee46fbb7e2d37f6b5fab8052498a",
        "trusted": true
      },
      "cell_type": "code",
      "source": "data = pd.read_csv('../input/X_train.csv')\nsampl = pd.read_csv('../input/sample_submission.csv')\ntest = pd.read_csv('../input/X_test.csv')\ntarget = pd.read_csv('../input/y_train.csv')",
      "execution_count": 3,
      "outputs": []
    },
    {
      "metadata": {
        "trusted": true,
        "_uuid": "b09576a89afcccb0ace8841e1b4a14142054ed1b"
      },
      "cell_type": "code",
      "source": "data.head()",
      "execution_count": 4,
      "outputs": [
        {
          "output_type": "execute_result",
          "execution_count": 4,
          "data": {
            "text/plain": "  row_id          ...            linear_acceleration_Z\n0    0_0          ...                          -9.7532\n1    0_1          ...                          -9.4128\n2    0_2          ...                          -8.7267\n3    0_3          ...                         -10.0960\n4    0_4          ...                         -10.4410\n\n[5 rows x 13 columns]",
            "text/html": "<div>\n<style scoped>\n    .dataframe tbody tr th:only-of-type {\n        vertical-align: middle;\n    }\n\n    .dataframe tbody tr th {\n        vertical-align: top;\n    }\n\n    .dataframe thead th {\n        text-align: right;\n    }\n</style>\n<table border=\"1\" class=\"dataframe\">\n  <thead>\n    <tr style=\"text-align: right;\">\n      <th></th>\n      <th>row_id</th>\n      <th>series_id</th>\n      <th>measurement_number</th>\n      <th>orientation_X</th>\n      <th>orientation_Y</th>\n      <th>orientation_Z</th>\n      <th>orientation_W</th>\n      <th>angular_velocity_X</th>\n      <th>angular_velocity_Y</th>\n      <th>angular_velocity_Z</th>\n      <th>linear_acceleration_X</th>\n      <th>linear_acceleration_Y</th>\n      <th>linear_acceleration_Z</th>\n    </tr>\n  </thead>\n  <tbody>\n    <tr>\n      <th>0</th>\n      <td>0_0</td>\n      <td>0</td>\n      <td>0</td>\n      <td>-0.75853</td>\n      <td>-0.63435</td>\n      <td>-0.10488</td>\n      <td>-0.10597</td>\n      <td>0.107650</td>\n      <td>0.017561</td>\n      <td>0.000767</td>\n      <td>-0.74857</td>\n      <td>2.1030</td>\n      <td>-9.7532</td>\n    </tr>\n    <tr>\n      <th>1</th>\n      <td>0_1</td>\n      <td>0</td>\n      <td>1</td>\n      <td>-0.75853</td>\n      <td>-0.63434</td>\n      <td>-0.10490</td>\n      <td>-0.10600</td>\n      <td>0.067851</td>\n      <td>0.029939</td>\n      <td>0.003385</td>\n      <td>0.33995</td>\n      <td>1.5064</td>\n      <td>-9.4128</td>\n    </tr>\n    <tr>\n      <th>2</th>\n      <td>0_2</td>\n      <td>0</td>\n      <td>2</td>\n      <td>-0.75853</td>\n      <td>-0.63435</td>\n      <td>-0.10492</td>\n      <td>-0.10597</td>\n      <td>0.007275</td>\n      <td>0.028934</td>\n      <td>-0.005978</td>\n      <td>-0.26429</td>\n      <td>1.5922</td>\n      <td>-8.7267</td>\n    </tr>\n    <tr>\n      <th>3</th>\n      <td>0_3</td>\n      <td>0</td>\n      <td>3</td>\n      <td>-0.75852</td>\n      <td>-0.63436</td>\n      <td>-0.10495</td>\n      <td>-0.10597</td>\n      <td>-0.013053</td>\n      <td>0.019448</td>\n      <td>-0.008974</td>\n      <td>0.42684</td>\n      <td>1.0993</td>\n      <td>-10.0960</td>\n    </tr>\n    <tr>\n      <th>4</th>\n      <td>0_4</td>\n      <td>0</td>\n      <td>4</td>\n      <td>-0.75852</td>\n      <td>-0.63435</td>\n      <td>-0.10495</td>\n      <td>-0.10596</td>\n      <td>0.005135</td>\n      <td>0.007652</td>\n      <td>0.005245</td>\n      <td>-0.50969</td>\n      <td>1.4689</td>\n      <td>-10.4410</td>\n    </tr>\n  </tbody>\n</table>\n</div>"
          },
          "metadata": {}
        }
      ]
    },
    {
      "metadata": {
        "trusted": true,
        "_uuid": "c13bbb57f94f994192d098fe06ff1bddb0a97e5e"
      },
      "cell_type": "code",
      "source": "target.head(2)",
      "execution_count": 5,
      "outputs": [
        {
          "output_type": "execute_result",
          "execution_count": 5,
          "data": {
            "text/plain": "   series_id  group_id        surface\n0          0        13  fine_concrete\n1          1        31       concrete",
            "text/html": "<div>\n<style scoped>\n    .dataframe tbody tr th:only-of-type {\n        vertical-align: middle;\n    }\n\n    .dataframe tbody tr th {\n        vertical-align: top;\n    }\n\n    .dataframe thead th {\n        text-align: right;\n    }\n</style>\n<table border=\"1\" class=\"dataframe\">\n  <thead>\n    <tr style=\"text-align: right;\">\n      <th></th>\n      <th>series_id</th>\n      <th>group_id</th>\n      <th>surface</th>\n    </tr>\n  </thead>\n  <tbody>\n    <tr>\n      <th>0</th>\n      <td>0</td>\n      <td>13</td>\n      <td>fine_concrete</td>\n    </tr>\n    <tr>\n      <th>1</th>\n      <td>1</td>\n      <td>31</td>\n      <td>concrete</td>\n    </tr>\n  </tbody>\n</table>\n</div>"
          },
          "metadata": {}
        }
      ]
    },
    {
      "metadata": {
        "trusted": true,
        "_uuid": "97b8a228c92ad5d881e2cddcf34d16c8ece93e2b"
      },
      "cell_type": "code",
      "source": "#target = target.drop(\"group_id\",axis=1)",
      "execution_count": 6,
      "outputs": []
    },
    {
      "metadata": {
        "trusted": true,
        "_uuid": "a431288b13aa37bc4b0e2d298edf1f2cb87a755f"
      },
      "cell_type": "code",
      "source": "target.head(2)",
      "execution_count": 7,
      "outputs": [
        {
          "output_type": "execute_result",
          "execution_count": 7,
          "data": {
            "text/plain": "   series_id  group_id        surface\n0          0        13  fine_concrete\n1          1        31       concrete",
            "text/html": "<div>\n<style scoped>\n    .dataframe tbody tr th:only-of-type {\n        vertical-align: middle;\n    }\n\n    .dataframe tbody tr th {\n        vertical-align: top;\n    }\n\n    .dataframe thead th {\n        text-align: right;\n    }\n</style>\n<table border=\"1\" class=\"dataframe\">\n  <thead>\n    <tr style=\"text-align: right;\">\n      <th></th>\n      <th>series_id</th>\n      <th>group_id</th>\n      <th>surface</th>\n    </tr>\n  </thead>\n  <tbody>\n    <tr>\n      <th>0</th>\n      <td>0</td>\n      <td>13</td>\n      <td>fine_concrete</td>\n    </tr>\n    <tr>\n      <th>1</th>\n      <td>1</td>\n      <td>31</td>\n      <td>concrete</td>\n    </tr>\n  </tbody>\n</table>\n</div>"
          },
          "metadata": {}
        }
      ]
    },
    {
      "metadata": {
        "trusted": true,
        "_uuid": "a82a4fcfd7b086e5dfd2dabf56bf631c176a6eb1"
      },
      "cell_type": "code",
      "source": "sampl.head(2)",
      "execution_count": 8,
      "outputs": [
        {
          "output_type": "execute_result",
          "execution_count": 8,
          "data": {
            "text/plain": "   series_id   surface\n0          0  concrete\n1          1  concrete",
            "text/html": "<div>\n<style scoped>\n    .dataframe tbody tr th:only-of-type {\n        vertical-align: middle;\n    }\n\n    .dataframe tbody tr th {\n        vertical-align: top;\n    }\n\n    .dataframe thead th {\n        text-align: right;\n    }\n</style>\n<table border=\"1\" class=\"dataframe\">\n  <thead>\n    <tr style=\"text-align: right;\">\n      <th></th>\n      <th>series_id</th>\n      <th>surface</th>\n    </tr>\n  </thead>\n  <tbody>\n    <tr>\n      <th>0</th>\n      <td>0</td>\n      <td>concrete</td>\n    </tr>\n    <tr>\n      <th>1</th>\n      <td>1</td>\n      <td>concrete</td>\n    </tr>\n  </tbody>\n</table>\n</div>"
          },
          "metadata": {}
        }
      ]
    },
    {
      "metadata": {
        "trusted": true,
        "_uuid": "4c3a4a4564428f8c470983f5dbb6cf3d70135aad"
      },
      "cell_type": "code",
      "source": "test.head()",
      "execution_count": 9,
      "outputs": [
        {
          "output_type": "execute_result",
          "execution_count": 9,
          "data": {
            "text/plain": "  row_id          ...            linear_acceleration_Z\n0    0_0          ...                          -5.5439\n1    0_1          ...                          -8.0273\n2    0_2          ...                         -11.2990\n3    0_3          ...                         -12.2270\n4    0_4          ...                         -10.4100\n\n[5 rows x 13 columns]",
            "text/html": "<div>\n<style scoped>\n    .dataframe tbody tr th:only-of-type {\n        vertical-align: middle;\n    }\n\n    .dataframe tbody tr th {\n        vertical-align: top;\n    }\n\n    .dataframe thead th {\n        text-align: right;\n    }\n</style>\n<table border=\"1\" class=\"dataframe\">\n  <thead>\n    <tr style=\"text-align: right;\">\n      <th></th>\n      <th>row_id</th>\n      <th>series_id</th>\n      <th>measurement_number</th>\n      <th>orientation_X</th>\n      <th>orientation_Y</th>\n      <th>orientation_Z</th>\n      <th>orientation_W</th>\n      <th>angular_velocity_X</th>\n      <th>angular_velocity_Y</th>\n      <th>angular_velocity_Z</th>\n      <th>linear_acceleration_X</th>\n      <th>linear_acceleration_Y</th>\n      <th>linear_acceleration_Z</th>\n    </tr>\n  </thead>\n  <tbody>\n    <tr>\n      <th>0</th>\n      <td>0_0</td>\n      <td>0</td>\n      <td>0</td>\n      <td>-0.025773</td>\n      <td>-0.98864</td>\n      <td>-0.14801</td>\n      <td>0.003350</td>\n      <td>-0.006524</td>\n      <td>-0.001071</td>\n      <td>-0.027390</td>\n      <td>0.10043</td>\n      <td>4.2061</td>\n      <td>-5.5439</td>\n    </tr>\n    <tr>\n      <th>1</th>\n      <td>0_1</td>\n      <td>0</td>\n      <td>1</td>\n      <td>-0.025683</td>\n      <td>-0.98862</td>\n      <td>-0.14816</td>\n      <td>0.003439</td>\n      <td>-0.113960</td>\n      <td>0.083987</td>\n      <td>-0.060590</td>\n      <td>-0.70889</td>\n      <td>3.9905</td>\n      <td>-8.0273</td>\n    </tr>\n    <tr>\n      <th>2</th>\n      <td>0_2</td>\n      <td>0</td>\n      <td>2</td>\n      <td>-0.025617</td>\n      <td>-0.98861</td>\n      <td>-0.14826</td>\n      <td>0.003571</td>\n      <td>-0.080518</td>\n      <td>0.114860</td>\n      <td>-0.037177</td>\n      <td>1.45710</td>\n      <td>2.2828</td>\n      <td>-11.2990</td>\n    </tr>\n    <tr>\n      <th>3</th>\n      <td>0_3</td>\n      <td>0</td>\n      <td>3</td>\n      <td>-0.025566</td>\n      <td>-0.98862</td>\n      <td>-0.14817</td>\n      <td>0.003609</td>\n      <td>0.070067</td>\n      <td>0.033820</td>\n      <td>-0.035904</td>\n      <td>0.71096</td>\n      <td>1.8582</td>\n      <td>-12.2270</td>\n    </tr>\n    <tr>\n      <th>4</th>\n      <td>0_4</td>\n      <td>0</td>\n      <td>4</td>\n      <td>-0.025548</td>\n      <td>-0.98866</td>\n      <td>-0.14792</td>\n      <td>0.003477</td>\n      <td>0.152050</td>\n      <td>-0.029016</td>\n      <td>-0.015314</td>\n      <td>3.39960</td>\n      <td>2.7881</td>\n      <td>-10.4100</td>\n    </tr>\n  </tbody>\n</table>\n</div>"
          },
          "metadata": {}
        }
      ]
    },
    {
      "metadata": {
        "trusted": true,
        "_uuid": "bfc230e8283491c2cfe124b6c5c2a08f7560a14a"
      },
      "cell_type": "code",
      "source": "totalt = data.isnull().sum().sort_values(ascending=False)\npercent = (data.isnull().sum()/data.isnull().count()).sort_values(ascending=False)\nmissing_data = pd.concat([totalt, percent], axis=1, keys=['Total', 'Percent'])\nmissing_data.head(5)",
      "execution_count": 10,
      "outputs": [
        {
          "output_type": "execute_result",
          "execution_count": 10,
          "data": {
            "text/plain": "                       Total  Percent\nlinear_acceleration_Z      0      0.0\nlinear_acceleration_Y      0      0.0\nlinear_acceleration_X      0      0.0\nangular_velocity_Z         0      0.0\nangular_velocity_Y         0      0.0",
            "text/html": "<div>\n<style scoped>\n    .dataframe tbody tr th:only-of-type {\n        vertical-align: middle;\n    }\n\n    .dataframe tbody tr th {\n        vertical-align: top;\n    }\n\n    .dataframe thead th {\n        text-align: right;\n    }\n</style>\n<table border=\"1\" class=\"dataframe\">\n  <thead>\n    <tr style=\"text-align: right;\">\n      <th></th>\n      <th>Total</th>\n      <th>Percent</th>\n    </tr>\n  </thead>\n  <tbody>\n    <tr>\n      <th>linear_acceleration_Z</th>\n      <td>0</td>\n      <td>0.0</td>\n    </tr>\n    <tr>\n      <th>linear_acceleration_Y</th>\n      <td>0</td>\n      <td>0.0</td>\n    </tr>\n    <tr>\n      <th>linear_acceleration_X</th>\n      <td>0</td>\n      <td>0.0</td>\n    </tr>\n    <tr>\n      <th>angular_velocity_Z</th>\n      <td>0</td>\n      <td>0.0</td>\n    </tr>\n    <tr>\n      <th>angular_velocity_Y</th>\n      <td>0</td>\n      <td>0.0</td>\n    </tr>\n  </tbody>\n</table>\n</div>"
          },
          "metadata": {}
        }
      ]
    },
    {
      "metadata": {
        "trusted": true,
        "_uuid": "a4bdd12a7223d80e2d4c6c9be217935a5b80d526"
      },
      "cell_type": "code",
      "source": "totalt = test.isnull().sum().sort_values(ascending=False)\npercent = (test.isnull().sum()/data.isnull().count()).sort_values(ascending=False)\nmissing_data = pd.concat([totalt, percent], axis=1, keys=['Total', 'Percent'])\nmissing_data.head(5)",
      "execution_count": 11,
      "outputs": [
        {
          "output_type": "execute_result",
          "execution_count": 11,
          "data": {
            "text/plain": "                       Total  Percent\nlinear_acceleration_Z      0      0.0\nlinear_acceleration_Y      0      0.0\nlinear_acceleration_X      0      0.0\nangular_velocity_Z         0      0.0\nangular_velocity_Y         0      0.0",
            "text/html": "<div>\n<style scoped>\n    .dataframe tbody tr th:only-of-type {\n        vertical-align: middle;\n    }\n\n    .dataframe tbody tr th {\n        vertical-align: top;\n    }\n\n    .dataframe thead th {\n        text-align: right;\n    }\n</style>\n<table border=\"1\" class=\"dataframe\">\n  <thead>\n    <tr style=\"text-align: right;\">\n      <th></th>\n      <th>Total</th>\n      <th>Percent</th>\n    </tr>\n  </thead>\n  <tbody>\n    <tr>\n      <th>linear_acceleration_Z</th>\n      <td>0</td>\n      <td>0.0</td>\n    </tr>\n    <tr>\n      <th>linear_acceleration_Y</th>\n      <td>0</td>\n      <td>0.0</td>\n    </tr>\n    <tr>\n      <th>linear_acceleration_X</th>\n      <td>0</td>\n      <td>0.0</td>\n    </tr>\n    <tr>\n      <th>angular_velocity_Z</th>\n      <td>0</td>\n      <td>0.0</td>\n    </tr>\n    <tr>\n      <th>angular_velocity_Y</th>\n      <td>0</td>\n      <td>0.0</td>\n    </tr>\n  </tbody>\n</table>\n</div>"
          },
          "metadata": {}
        }
      ]
    },
    {
      "metadata": {
        "_uuid": "739c569bf6dd6d001e7e3d6fcabefccd5272b646"
      },
      "cell_type": "markdown",
      "source": "There is no missing data in test and train data"
    },
    {
      "metadata": {
        "trusted": true,
        "_uuid": "380ea10f7bd221169de06c8652f3dbbc559c7ff4"
      },
      "cell_type": "code",
      "source": "data.describe()",
      "execution_count": 12,
      "outputs": [
        {
          "output_type": "execute_result",
          "execution_count": 12,
          "data": {
            "text/plain": "           series_id          ...            linear_acceleration_Z\ncount  487680.000000          ...                    487680.000000\nmean     1904.500000          ...                        -9.364886\nstd      1099.853353          ...                         2.845341\nmin         0.000000          ...                       -75.386000\n25%       952.000000          ...                       -10.193000\n50%      1904.500000          ...                        -9.365300\n75%      2857.000000          ...                        -8.522700\nmax      3809.000000          ...                        65.839000\n\n[8 rows x 12 columns]",
            "text/html": "<div>\n<style scoped>\n    .dataframe tbody tr th:only-of-type {\n        vertical-align: middle;\n    }\n\n    .dataframe tbody tr th {\n        vertical-align: top;\n    }\n\n    .dataframe thead th {\n        text-align: right;\n    }\n</style>\n<table border=\"1\" class=\"dataframe\">\n  <thead>\n    <tr style=\"text-align: right;\">\n      <th></th>\n      <th>series_id</th>\n      <th>measurement_number</th>\n      <th>orientation_X</th>\n      <th>orientation_Y</th>\n      <th>orientation_Z</th>\n      <th>orientation_W</th>\n      <th>angular_velocity_X</th>\n      <th>angular_velocity_Y</th>\n      <th>angular_velocity_Z</th>\n      <th>linear_acceleration_X</th>\n      <th>linear_acceleration_Y</th>\n      <th>linear_acceleration_Z</th>\n    </tr>\n  </thead>\n  <tbody>\n    <tr>\n      <th>count</th>\n      <td>487680.000000</td>\n      <td>487680.000000</td>\n      <td>487680.000000</td>\n      <td>487680.000000</td>\n      <td>487680.000000</td>\n      <td>487680.000000</td>\n      <td>487680.000000</td>\n      <td>487680.000000</td>\n      <td>487680.000000</td>\n      <td>487680.000000</td>\n      <td>487680.000000</td>\n      <td>487680.000000</td>\n    </tr>\n    <tr>\n      <th>mean</th>\n      <td>1904.500000</td>\n      <td>63.500000</td>\n      <td>-0.018050</td>\n      <td>0.075062</td>\n      <td>0.012458</td>\n      <td>-0.003804</td>\n      <td>0.000178</td>\n      <td>0.008338</td>\n      <td>-0.019184</td>\n      <td>0.129281</td>\n      <td>2.886468</td>\n      <td>-9.364886</td>\n    </tr>\n    <tr>\n      <th>std</th>\n      <td>1099.853353</td>\n      <td>36.949327</td>\n      <td>0.685696</td>\n      <td>0.708226</td>\n      <td>0.105972</td>\n      <td>0.104299</td>\n      <td>0.117764</td>\n      <td>0.088677</td>\n      <td>0.229153</td>\n      <td>1.870600</td>\n      <td>2.140067</td>\n      <td>2.845341</td>\n    </tr>\n    <tr>\n      <th>min</th>\n      <td>0.000000</td>\n      <td>0.000000</td>\n      <td>-0.989100</td>\n      <td>-0.989650</td>\n      <td>-0.162830</td>\n      <td>-0.156620</td>\n      <td>-2.371000</td>\n      <td>-0.927860</td>\n      <td>-1.268800</td>\n      <td>-36.067000</td>\n      <td>-121.490000</td>\n      <td>-75.386000</td>\n    </tr>\n    <tr>\n      <th>25%</th>\n      <td>952.000000</td>\n      <td>31.750000</td>\n      <td>-0.705120</td>\n      <td>-0.688980</td>\n      <td>-0.089466</td>\n      <td>-0.106060</td>\n      <td>-0.040752</td>\n      <td>-0.033191</td>\n      <td>-0.090743</td>\n      <td>-0.530833</td>\n      <td>1.957900</td>\n      <td>-10.193000</td>\n    </tr>\n    <tr>\n      <th>50%</th>\n      <td>1904.500000</td>\n      <td>63.500000</td>\n      <td>-0.105960</td>\n      <td>0.237855</td>\n      <td>0.031949</td>\n      <td>-0.018704</td>\n      <td>0.000084</td>\n      <td>0.005412</td>\n      <td>-0.005335</td>\n      <td>0.124980</td>\n      <td>2.879600</td>\n      <td>-9.365300</td>\n    </tr>\n    <tr>\n      <th>75%</th>\n      <td>2857.000000</td>\n      <td>95.250000</td>\n      <td>0.651803</td>\n      <td>0.809550</td>\n      <td>0.122870</td>\n      <td>0.097215</td>\n      <td>0.040527</td>\n      <td>0.048068</td>\n      <td>0.064604</td>\n      <td>0.792263</td>\n      <td>3.798800</td>\n      <td>-8.522700</td>\n    </tr>\n    <tr>\n      <th>max</th>\n      <td>3809.000000</td>\n      <td>127.000000</td>\n      <td>0.989100</td>\n      <td>0.988980</td>\n      <td>0.155710</td>\n      <td>0.154770</td>\n      <td>2.282200</td>\n      <td>1.079100</td>\n      <td>1.387300</td>\n      <td>36.797000</td>\n      <td>73.008000</td>\n      <td>65.839000</td>\n    </tr>\n  </tbody>\n</table>\n</div>"
          },
          "metadata": {}
        }
      ]
    },
    {
      "metadata": {
        "trusted": true,
        "_uuid": "c3d8dcd4ee59b754a2e606bd2d1442603f7102c3"
      },
      "cell_type": "code",
      "source": "target.describe()",
      "execution_count": 13,
      "outputs": [
        {
          "output_type": "execute_result",
          "execution_count": 13,
          "data": {
            "text/plain": "         series_id     group_id\ncount  3810.000000  3810.000000\nmean   1904.500000    37.601312\nstd    1099.996591    20.982743\nmin       0.000000     0.000000\n25%     952.250000    19.000000\n50%    1904.500000    39.000000\n75%    2856.750000    55.000000\nmax    3809.000000    72.000000",
            "text/html": "<div>\n<style scoped>\n    .dataframe tbody tr th:only-of-type {\n        vertical-align: middle;\n    }\n\n    .dataframe tbody tr th {\n        vertical-align: top;\n    }\n\n    .dataframe thead th {\n        text-align: right;\n    }\n</style>\n<table border=\"1\" class=\"dataframe\">\n  <thead>\n    <tr style=\"text-align: right;\">\n      <th></th>\n      <th>series_id</th>\n      <th>group_id</th>\n    </tr>\n  </thead>\n  <tbody>\n    <tr>\n      <th>count</th>\n      <td>3810.000000</td>\n      <td>3810.000000</td>\n    </tr>\n    <tr>\n      <th>mean</th>\n      <td>1904.500000</td>\n      <td>37.601312</td>\n    </tr>\n    <tr>\n      <th>std</th>\n      <td>1099.996591</td>\n      <td>20.982743</td>\n    </tr>\n    <tr>\n      <th>min</th>\n      <td>0.000000</td>\n      <td>0.000000</td>\n    </tr>\n    <tr>\n      <th>25%</th>\n      <td>952.250000</td>\n      <td>19.000000</td>\n    </tr>\n    <tr>\n      <th>50%</th>\n      <td>1904.500000</td>\n      <td>39.000000</td>\n    </tr>\n    <tr>\n      <th>75%</th>\n      <td>2856.750000</td>\n      <td>55.000000</td>\n    </tr>\n    <tr>\n      <th>max</th>\n      <td>3809.000000</td>\n      <td>72.000000</td>\n    </tr>\n  </tbody>\n</table>\n</div>"
          },
          "metadata": {}
        }
      ]
    },
    {
      "metadata": {
        "trusted": true,
        "_uuid": "6001b6cc5925e8223b2f1747f20863cdbd9a41d9"
      },
      "cell_type": "code",
      "source": "test.describe()",
      "execution_count": 14,
      "outputs": [
        {
          "output_type": "execute_result",
          "execution_count": 14,
          "data": {
            "text/plain": "           series_id          ...            linear_acceleration_Z\ncount  488448.000000          ...                    488448.000000\nmean     1907.500000          ...                        -9.359811\nstd      1101.585403          ...                         2.802670\nmin         0.000000          ...                       -83.173000\n25%       953.750000          ...                       -10.125000\n50%      1907.500000          ...                        -9.361700\n75%      2861.250000          ...                        -8.582075\nmax      3815.000000          ...                        59.633000\n\n[8 rows x 12 columns]",
            "text/html": "<div>\n<style scoped>\n    .dataframe tbody tr th:only-of-type {\n        vertical-align: middle;\n    }\n\n    .dataframe tbody tr th {\n        vertical-align: top;\n    }\n\n    .dataframe thead th {\n        text-align: right;\n    }\n</style>\n<table border=\"1\" class=\"dataframe\">\n  <thead>\n    <tr style=\"text-align: right;\">\n      <th></th>\n      <th>series_id</th>\n      <th>measurement_number</th>\n      <th>orientation_X</th>\n      <th>orientation_Y</th>\n      <th>orientation_Z</th>\n      <th>orientation_W</th>\n      <th>angular_velocity_X</th>\n      <th>angular_velocity_Y</th>\n      <th>angular_velocity_Z</th>\n      <th>linear_acceleration_X</th>\n      <th>linear_acceleration_Y</th>\n      <th>linear_acceleration_Z</th>\n    </tr>\n  </thead>\n  <tbody>\n    <tr>\n      <th>count</th>\n      <td>488448.000000</td>\n      <td>488448.000000</td>\n      <td>488448.000000</td>\n      <td>488448.000000</td>\n      <td>488448.000000</td>\n      <td>488448.000000</td>\n      <td>488448.000000</td>\n      <td>488448.000000</td>\n      <td>488448.000000</td>\n      <td>488448.000000</td>\n      <td>488448.000000</td>\n      <td>488448.000000</td>\n    </tr>\n    <tr>\n      <th>mean</th>\n      <td>1907.500000</td>\n      <td>63.500000</td>\n      <td>0.031996</td>\n      <td>0.120651</td>\n      <td>0.018735</td>\n      <td>0.004024</td>\n      <td>0.000401</td>\n      <td>0.013669</td>\n      <td>-0.036101</td>\n      <td>0.125433</td>\n      <td>2.906588</td>\n      <td>-9.359811</td>\n    </tr>\n    <tr>\n      <th>std</th>\n      <td>1101.585403</td>\n      <td>36.949327</td>\n      <td>0.671977</td>\n      <td>0.714522</td>\n      <td>0.108481</td>\n      <td>0.100957</td>\n      <td>0.114485</td>\n      <td>0.089440</td>\n      <td>0.233791</td>\n      <td>1.832639</td>\n      <td>2.094727</td>\n      <td>2.802670</td>\n    </tr>\n    <tr>\n      <th>min</th>\n      <td>0.000000</td>\n      <td>0.000000</td>\n      <td>-0.989720</td>\n      <td>-0.989810</td>\n      <td>-0.154680</td>\n      <td>-0.156270</td>\n      <td>-2.403300</td>\n      <td>-1.193000</td>\n      <td>-1.458200</td>\n      <td>-35.040000</td>\n      <td>-107.480000</td>\n      <td>-83.173000</td>\n    </tr>\n    <tr>\n      <th>25%</th>\n      <td>953.750000</td>\n      <td>31.750000</td>\n      <td>-0.648130</td>\n      <td>-0.744503</td>\n      <td>-0.112660</td>\n      <td>-0.098435</td>\n      <td>-0.037396</td>\n      <td>-0.029865</td>\n      <td>-0.089842</td>\n      <td>-0.486233</td>\n      <td>2.052100</td>\n      <td>-10.125000</td>\n    </tr>\n    <tr>\n      <th>50%</th>\n      <td>1907.500000</td>\n      <td>63.500000</td>\n      <td>0.132910</td>\n      <td>0.397860</td>\n      <td>0.057271</td>\n      <td>0.022654</td>\n      <td>0.001107</td>\n      <td>0.007276</td>\n      <td>-0.008911</td>\n      <td>0.112490</td>\n      <td>2.900300</td>\n      <td>-9.361700</td>\n    </tr>\n    <tr>\n      <th>75%</th>\n      <td>2861.250000</td>\n      <td>95.250000</td>\n      <td>0.575270</td>\n      <td>0.803600</td>\n      <td>0.124770</td>\n      <td>0.083706</td>\n      <td>0.037827</td>\n      <td>0.051112</td>\n      <td>0.057876</td>\n      <td>0.727250</td>\n      <td>3.758000</td>\n      <td>-8.582075</td>\n    </tr>\n    <tr>\n      <th>max</th>\n      <td>3815.000000</td>\n      <td>127.000000</td>\n      <td>0.989320</td>\n      <td>0.988940</td>\n      <td>0.154250</td>\n      <td>0.152510</td>\n      <td>3.396600</td>\n      <td>1.150700</td>\n      <td>0.960280</td>\n      <td>36.628000</td>\n      <td>55.624000</td>\n      <td>59.633000</td>\n    </tr>\n  </tbody>\n</table>\n</div>"
          },
          "metadata": {}
        }
      ]
    },
    {
      "metadata": {
        "trusted": true,
        "_uuid": "397df9d46c66cd5eab36b171661b603c3b4ab4fe"
      },
      "cell_type": "code",
      "source": "f, ax = plt.subplots(1,1, figsize=(16,4))\ng = sns.countplot(target['surface'])\ng.set_title(\"Number of target for each class\")\nplt.show()   ",
      "execution_count": 15,
      "outputs": [
        {
          "output_type": "display_data",
          "data": {
            "text/plain": "<Figure size 1152x288 with 1 Axes>",
            "image/png": "[encoded data removed]"
          },
          "metadata": {}
        }
      ]
    },
    {
      "metadata": {
        "trusted": true,
        "_uuid": "20d703b6ce001c09a776a31a3a95c01c65b3ed1d"
      },
      "cell_type": "code",
      "source": "data.head(1)",
      "execution_count": 16,
      "outputs": [
        {
          "output_type": "execute_result",
          "execution_count": 16,
          "data": {
            "text/plain": "  row_id          ...            linear_acceleration_Z\n0    0_0          ...                          -9.7532\n\n[1 rows x 13 columns]",
            "text/html": "<div>\n<style scoped>\n    .dataframe tbody tr th:only-of-type {\n        vertical-align: middle;\n    }\n\n    .dataframe tbody tr th {\n        vertical-align: top;\n    }\n\n    .dataframe thead th {\n        text-align: right;\n    }\n</style>\n<table border=\"1\" class=\"dataframe\">\n  <thead>\n    <tr style=\"text-align: right;\">\n      <th></th>\n      <th>row_id</th>\n      <th>series_id</th>\n      <th>measurement_number</th>\n      <th>orientation_X</th>\n      <th>orientation_Y</th>\n      <th>orientation_Z</th>\n      <th>orientation_W</th>\n      <th>angular_velocity_X</th>\n      <th>angular_velocity_Y</th>\n      <th>angular_velocity_Z</th>\n      <th>linear_acceleration_X</th>\n      <th>linear_acceleration_Y</th>\n      <th>linear_acceleration_Z</th>\n    </tr>\n  </thead>\n  <tbody>\n    <tr>\n      <th>0</th>\n      <td>0_0</td>\n      <td>0</td>\n      <td>0</td>\n      <td>-0.75853</td>\n      <td>-0.63435</td>\n      <td>-0.10488</td>\n      <td>-0.10597</td>\n      <td>0.10765</td>\n      <td>0.017561</td>\n      <td>0.000767</td>\n      <td>-0.74857</td>\n      <td>2.103</td>\n      <td>-9.7532</td>\n    </tr>\n  </tbody>\n</table>\n</div>"
          },
          "metadata": {}
        }
      ]
    },
    {
      "metadata": {
        "_uuid": "5196ca7d095b14324229f78e1a76e0af735f2bd1"
      },
      "cell_type": "markdown",
      "source": "We have to do Data manupulation, since we cannot directly apply any model and fitting. Lets do some feature Engineering\nWhen Dealing with 3Dimensional problem, formula (x^2 + y^2 + z^2)^0.5 can be used\nAnd to Deal with accelearation and velocity problem, general physis formula can be considered"
    },
    {
      "metadata": {
        "trusted": true,
        "_uuid": "839cfc267c2ca5a8aab619cfd7e265da8c5f3388"
      },
      "cell_type": "code",
      "source": "def feat_eng(data):\n    df = pd.DataFrame()\n    data['totl_anglr_vel'] = (data['angular_velocity_X']**2 + data['angular_velocity_Y']**2 +\n                             data['angular_velocity_Z'])** 0.5\n    data['totl_linr_acc'] = (data['linear_acceleration_X']**2 + data['linear_acceleration_Y']**2 +\n                             data['linear_acceleration_Z'])**0.5\n    data['totl_xyz'] = (data['orientation_X']**2 + data['orientation_Y']**2 +\n                             data['orientation_Z'])**0.5\n    #Lets derive one more column since there is a relationship in velocity and acceleration\n    # v = u + a*t , u is initial velocty. if u = 0, then v = at means t = v/a\n    # but value of acceleration is more and value of velocity is less, lets do a/v relation\n    data['acc_vs_vel'] = data['totl_linr_acc'] / data['totl_anglr_vel']\n    \n    # Deriving more feature, since we are reducing rows now, we should know min,max,mean values\n    for col in data.columns:\n        if col in ['row_id','series_id','measurement_number']:\n            continue\n        df[col + '_mean'] = data.groupby(['series_id'])[col].mean()\n        df[col + '_max'] = data.groupby(['series_id'])[col].max()\n        df[col + '_min'] = data.groupby(['series_id'])[col].min()\n        df[col + '_std'] = data.groupby(['series_id'])[col].std()\n        df[col + '_maxtoMin'] = df[col + '_max'] / df[col + '_min']\n        df[col + '_mean_abs_chg'] = data.groupby(['series_id'])[col].apply(lambda x: np.mean(np.abs(np.diff(x))))\n        df[col + '_abs_min'] = data.groupby(['series_id'])[col].apply(lambda x: np.min(np.abs(x)))\n        df[col + '_abs_max'] = data.groupby(['series_id'])[col].apply(lambda x: np.max(np.abs(x)))\n        df[col + '_abs_avg'] = (df[col + '_abs_min'] + df[col + '_abs_max'])/2\n    return df\n    ",
      "execution_count": 17,
      "outputs": []
    },
    {
      "metadata": {
        "trusted": true,
        "_uuid": "da872f84dbe19df5250f319ec34750279798b4bf"
      },
      "cell_type": "code",
      "source": "data = feat_eng(data)\ntest = feat_eng(test)",
      "execution_count": 18,
      "outputs": []
    },
    {
      "metadata": {
        "trusted": true,
        "_uuid": "35b15c545c9bea8e3e023d32ea3112ef7bbe016f"
      },
      "cell_type": "code",
      "source": "data.head()",
      "execution_count": 19,
      "outputs": [
        {
          "output_type": "execute_result",
          "execution_count": 19,
          "data": {
            "text/plain": "           orientation_X_mean         ...          acc_vs_vel_abs_avg\nseries_id                             ...                            \n0                   -0.758666         ...                  117.043154\n1                   -0.958606         ...                   32.055941\n2                   -0.512057         ...                   32.803013\n3                   -0.939169         ...                   57.648417\n4                   -0.891301         ...                         NaN\n\n[5 rows x 126 columns]",
            "text/html": "<div>\n<style scoped>\n    .dataframe tbody tr th:only-of-type {\n        vertical-align: middle;\n    }\n\n    .dataframe tbody tr th {\n        vertical-align: top;\n    }\n\n    .dataframe thead th {\n        text-align: right;\n    }\n</style>\n<table border=\"1\" class=\"dataframe\">\n  <thead>\n    <tr style=\"text-align: right;\">\n      <th></th>\n      <th>orientation_X_mean</th>\n      <th>orientation_X_max</th>\n      <th>orientation_X_min</th>\n      <th>orientation_X_std</th>\n      <th>orientation_X_maxtoMin</th>\n      <th>orientation_X_mean_abs_chg</th>\n      <th>orientation_X_abs_min</th>\n      <th>orientation_X_abs_max</th>\n      <th>orientation_X_abs_avg</th>\n      <th>orientation_Y_mean</th>\n      <th>orientation_Y_max</th>\n      <th>orientation_Y_min</th>\n      <th>orientation_Y_std</th>\n      <th>orientation_Y_maxtoMin</th>\n      <th>orientation_Y_mean_abs_chg</th>\n      <th>orientation_Y_abs_min</th>\n      <th>orientation_Y_abs_max</th>\n      <th>orientation_Y_abs_avg</th>\n      <th>orientation_Z_mean</th>\n      <th>orientation_Z_max</th>\n      <th>orientation_Z_min</th>\n      <th>orientation_Z_std</th>\n      <th>orientation_Z_maxtoMin</th>\n      <th>orientation_Z_mean_abs_chg</th>\n      <th>orientation_Z_abs_min</th>\n      <th>orientation_Z_abs_max</th>\n      <th>orientation_Z_abs_avg</th>\n      <th>orientation_W_mean</th>\n      <th>orientation_W_max</th>\n      <th>orientation_W_min</th>\n      <th>orientation_W_std</th>\n      <th>orientation_W_maxtoMin</th>\n      <th>orientation_W_mean_abs_chg</th>\n      <th>orientation_W_abs_min</th>\n      <th>orientation_W_abs_max</th>\n      <th>orientation_W_abs_avg</th>\n      <th>angular_velocity_X_mean</th>\n      <th>angular_velocity_X_max</th>\n      <th>angular_velocity_X_min</th>\n      <th>angular_velocity_X_std</th>\n      <th>...</th>\n      <th>linear_acceleration_Z_mean_abs_chg</th>\n      <th>linear_acceleration_Z_abs_min</th>\n      <th>linear_acceleration_Z_abs_max</th>\n      <th>linear_acceleration_Z_abs_avg</th>\n      <th>totl_anglr_vel_mean</th>\n      <th>totl_anglr_vel_max</th>\n      <th>totl_anglr_vel_min</th>\n      <th>totl_anglr_vel_std</th>\n      <th>totl_anglr_vel_maxtoMin</th>\n      <th>totl_anglr_vel_mean_abs_chg</th>\n      <th>totl_anglr_vel_abs_min</th>\n      <th>totl_anglr_vel_abs_max</th>\n      <th>totl_anglr_vel_abs_avg</th>\n      <th>totl_linr_acc_mean</th>\n      <th>totl_linr_acc_max</th>\n      <th>totl_linr_acc_min</th>\n      <th>totl_linr_acc_std</th>\n      <th>totl_linr_acc_maxtoMin</th>\n      <th>totl_linr_acc_mean_abs_chg</th>\n      <th>totl_linr_acc_abs_min</th>\n      <th>totl_linr_acc_abs_max</th>\n      <th>totl_linr_acc_abs_avg</th>\n      <th>totl_xyz_mean</th>\n      <th>totl_xyz_max</th>\n      <th>totl_xyz_min</th>\n      <th>totl_xyz_std</th>\n      <th>totl_xyz_maxtoMin</th>\n      <th>totl_xyz_mean_abs_chg</th>\n      <th>totl_xyz_abs_min</th>\n      <th>totl_xyz_abs_max</th>\n      <th>totl_xyz_abs_avg</th>\n      <th>acc_vs_vel_mean</th>\n      <th>acc_vs_vel_max</th>\n      <th>acc_vs_vel_min</th>\n      <th>acc_vs_vel_std</th>\n      <th>acc_vs_vel_maxtoMin</th>\n      <th>acc_vs_vel_mean_abs_chg</th>\n      <th>acc_vs_vel_abs_min</th>\n      <th>acc_vs_vel_abs_max</th>\n      <th>acc_vs_vel_abs_avg</th>\n    </tr>\n    <tr>\n      <th>series_id</th>\n      <th></th>\n      <th></th>\n      <th></th>\n      <th></th>\n      <th></th>\n      <th></th>\n      <th></th>\n      <th></th>\n      <th></th>\n      <th></th>\n      <th></th>\n      <th></th>\n      <th></th>\n      <th></th>\n      <th></th>\n      <th></th>\n      <th></th>\n      <th></th>\n      <th></th>\n      <th></th>\n      <th></th>\n      <th></th>\n      <th></th>\n      <th></th>\n      <th></th>\n      <th></th>\n      <th></th>\n      <th></th>\n      <th></th>\n      <th></th>\n      <th></th>\n      <th></th>\n      <th></th>\n      <th></th>\n      <th></th>\n      <th></th>\n      <th></th>\n      <th></th>\n      <th></th>\n      <th></th>\n      <th></th>\n      <th></th>\n      <th></th>\n      <th></th>\n      <th></th>\n      <th></th>\n      <th></th>\n      <th></th>\n      <th></th>\n      <th></th>\n      <th></th>\n      <th></th>\n      <th></th>\n      <th></th>\n      <th></th>\n      <th></th>\n      <th></th>\n      <th></th>\n      <th></th>\n      <th></th>\n      <th></th>\n      <th></th>\n      <th></th>\n      <th></th>\n      <th></th>\n      <th></th>\n      <th></th>\n      <th></th>\n      <th></th>\n      <th></th>\n      <th></th>\n      <th></th>\n      <th></th>\n      <th></th>\n      <th></th>\n      <th></th>\n      <th></th>\n      <th></th>\n      <th></th>\n      <th></th>\n      <th></th>\n    </tr>\n  </thead>\n  <tbody>\n    <tr>\n      <th>0</th>\n      <td>-0.758666</td>\n      <td>-0.75822</td>\n      <td>-0.75953</td>\n      <td>0.000363</td>\n      <td>0.998275</td>\n      <td>0.000015</td>\n      <td>0.75822</td>\n      <td>0.75953</td>\n      <td>0.758875</td>\n      <td>-0.634008</td>\n      <td>-0.63306</td>\n      <td>-0.63456</td>\n      <td>0.000471</td>\n      <td>0.997636</td>\n      <td>0.000018</td>\n      <td>0.63306</td>\n      <td>0.63456</td>\n      <td>0.633810</td>\n      <td>-0.105474</td>\n      <td>-0.104610</td>\n      <td>-0.106140</td>\n      <td>0.000432</td>\n      <td>0.985585</td>\n      <td>0.000051</td>\n      <td>0.104610</td>\n      <td>0.106140</td>\n      <td>0.105375</td>\n      <td>-0.106470</td>\n      <td>-0.105590</td>\n      <td>-0.107050</td>\n      <td>0.000389</td>\n      <td>0.986362</td>\n      <td>0.000042</td>\n      <td>0.105590</td>\n      <td>0.107050</td>\n      <td>0.106320</td>\n      <td>-0.002481</td>\n      <td>0.107650</td>\n      <td>-0.16041</td>\n      <td>0.052800</td>\n      <td>...</td>\n      <td>0.810443</td>\n      <td>6.2681</td>\n      <td>12.512</td>\n      <td>9.39005</td>\n      <td>0.128290</td>\n      <td>0.228377</td>\n      <td>0.016577</td>\n      <td>0.046995</td>\n      <td>13.776727</td>\n      <td>NaN</td>\n      <td>0.016577</td>\n      <td>0.228377</td>\n      <td>0.122477</td>\n      <td>2.777849</td>\n      <td>4.674147</td>\n      <td>0.721793</td>\n      <td>0.977110</td>\n      <td>6.475742</td>\n      <td>NaN</td>\n      <td>0.721793</td>\n      <td>4.674147</td>\n      <td>2.697970</td>\n      <td>0.933845</td>\n      <td>0.934380</td>\n      <td>0.933377</td>\n      <td>0.000304</td>\n      <td>1.001075</td>\n      <td>0.000036</td>\n      <td>0.933377</td>\n      <td>0.934380</td>\n      <td>0.933879</td>\n      <td>29.978968</td>\n      <td>228.042411</td>\n      <td>6.043898</td>\n      <td>30.330393</td>\n      <td>37.731015</td>\n      <td>NaN</td>\n      <td>6.043898</td>\n      <td>228.042411</td>\n      <td>117.043154</td>\n    </tr>\n    <tr>\n      <th>1</th>\n      <td>-0.958606</td>\n      <td>-0.95837</td>\n      <td>-0.95896</td>\n      <td>0.000151</td>\n      <td>0.999385</td>\n      <td>0.000023</td>\n      <td>0.95837</td>\n      <td>0.95896</td>\n      <td>0.958665</td>\n      <td>0.241867</td>\n      <td>0.24270</td>\n      <td>0.24074</td>\n      <td>0.000499</td>\n      <td>1.008142</td>\n      <td>0.000070</td>\n      <td>0.24074</td>\n      <td>0.24270</td>\n      <td>0.241720</td>\n      <td>0.031650</td>\n      <td>0.032341</td>\n      <td>0.030504</td>\n      <td>0.000508</td>\n      <td>1.060222</td>\n      <td>0.000048</td>\n      <td>0.030504</td>\n      <td>0.032341</td>\n      <td>0.031423</td>\n      <td>-0.146876</td>\n      <td>-0.145870</td>\n      <td>-0.148090</td>\n      <td>0.000521</td>\n      <td>0.985009</td>\n      <td>0.000103</td>\n      <td>0.145870</td>\n      <td>0.148090</td>\n      <td>0.146980</td>\n      <td>0.004605</td>\n      <td>0.283420</td>\n      <td>-0.25480</td>\n      <td>0.092309</td>\n      <td>...</td>\n      <td>1.625696</td>\n      <td>2.7449</td>\n      <td>16.928</td>\n      <td>9.83645</td>\n      <td>0.249509</td>\n      <td>0.386577</td>\n      <td>0.019391</td>\n      <td>0.089971</td>\n      <td>19.935499</td>\n      <td>NaN</td>\n      <td>0.019391</td>\n      <td>0.386577</td>\n      <td>0.202984</td>\n      <td>3.214436</td>\n      <td>6.175414</td>\n      <td>0.758170</td>\n      <td>1.392089</td>\n      <td>8.145159</td>\n      <td>NaN</td>\n      <td>0.758170</td>\n      <td>6.175414</td>\n      <td>3.466792</td>\n      <td>1.004528</td>\n      <td>1.004888</td>\n      <td>1.004061</td>\n      <td>0.000228</td>\n      <td>1.000824</td>\n      <td>0.000023</td>\n      <td>1.004061</td>\n      <td>1.004888</td>\n      <td>1.004474</td>\n      <td>14.176321</td>\n      <td>60.797417</td>\n      <td>3.314465</td>\n      <td>11.735877</td>\n      <td>18.343054</td>\n      <td>NaN</td>\n      <td>3.314465</td>\n      <td>60.797417</td>\n      <td>32.055941</td>\n    </tr>\n    <tr>\n      <th>2</th>\n      <td>-0.512057</td>\n      <td>-0.50944</td>\n      <td>-0.51434</td>\n      <td>0.001377</td>\n      <td>0.990473</td>\n      <td>0.000041</td>\n      <td>0.50944</td>\n      <td>0.51434</td>\n      <td>0.511890</td>\n      <td>-0.846171</td>\n      <td>-0.84490</td>\n      <td>-0.84779</td>\n      <td>0.000785</td>\n      <td>0.996591</td>\n      <td>0.000024</td>\n      <td>0.84490</td>\n      <td>0.84779</td>\n      <td>0.846345</td>\n      <td>-0.129371</td>\n      <td>-0.128520</td>\n      <td>-0.130300</td>\n      <td>0.000541</td>\n      <td>0.986339</td>\n      <td>0.000059</td>\n      <td>0.128520</td>\n      <td>0.130300</td>\n      <td>0.129410</td>\n      <td>-0.071082</td>\n      <td>-0.070378</td>\n      <td>-0.071535</td>\n      <td>0.000278</td>\n      <td>0.983826</td>\n      <td>0.000044</td>\n      <td>0.070378</td>\n      <td>0.071535</td>\n      <td>0.070957</td>\n      <td>0.002646</td>\n      <td>0.141920</td>\n      <td>-0.15271</td>\n      <td>0.060168</td>\n      <td>...</td>\n      <td>0.893457</td>\n      <td>5.7442</td>\n      <td>12.499</td>\n      <td>9.12160</td>\n      <td>0.183400</td>\n      <td>0.311160</td>\n      <td>0.032987</td>\n      <td>0.058695</td>\n      <td>9.432933</td>\n      <td>NaN</td>\n      <td>0.032987</td>\n      <td>0.311160</td>\n      <td>0.172073</td>\n      <td>2.957224</td>\n      <td>5.521865</td>\n      <td>0.400419</td>\n      <td>1.443413</td>\n      <td>13.790228</td>\n      <td>NaN</td>\n      <td>0.400419</td>\n      <td>5.521865</td>\n      <td>2.961142</td>\n      <td>0.921325</td>\n      <td>0.921914</td>\n      <td>0.920665</td>\n      <td>0.000378</td>\n      <td>1.001356</td>\n      <td>0.000042</td>\n      <td>0.920665</td>\n      <td>0.921914</td>\n      <td>0.921290</td>\n      <td>18.434759</td>\n      <td>62.823610</td>\n      <td>2.782415</td>\n      <td>13.314597</td>\n      <td>22.578809</td>\n      <td>NaN</td>\n      <td>2.782415</td>\n      <td>62.823610</td>\n      <td>32.803013</td>\n    </tr>\n    <tr>\n      <th>3</th>\n      <td>-0.939169</td>\n      <td>-0.93884</td>\n      <td>-0.93968</td>\n      <td>0.000227</td>\n      <td>0.999106</td>\n      <td>0.000026</td>\n      <td>0.93884</td>\n      <td>0.93968</td>\n      <td>0.939260</td>\n      <td>0.310140</td>\n      <td>0.31147</td>\n      <td>0.30943</td>\n      <td>0.000453</td>\n      <td>1.006593</td>\n      <td>0.000036</td>\n      <td>0.30943</td>\n      <td>0.31147</td>\n      <td>0.310450</td>\n      <td>0.038955</td>\n      <td>0.039799</td>\n      <td>0.037922</td>\n      <td>0.000449</td>\n      <td>1.049496</td>\n      <td>0.000066</td>\n      <td>0.037922</td>\n      <td>0.039799</td>\n      <td>0.038861</td>\n      <td>-0.142319</td>\n      <td>-0.139340</td>\n      <td>-0.144370</td>\n      <td>0.001371</td>\n      <td>0.965159</td>\n      <td>0.000195</td>\n      <td>0.139340</td>\n      <td>0.144370</td>\n      <td>0.141855</td>\n      <td>0.000624</td>\n      <td>0.519130</td>\n      <td>-0.40152</td>\n      <td>0.179544</td>\n      <td>...</td>\n      <td>2.667135</td>\n      <td>0.5591</td>\n      <td>19.845</td>\n      <td>10.20205</td>\n      <td>0.214821</td>\n      <td>0.505898</td>\n      <td>0.035536</td>\n      <td>0.100825</td>\n      <td>14.236064</td>\n      <td>NaN</td>\n      <td>0.035536</td>\n      <td>0.505898</td>\n      <td>0.270717</td>\n      <td>4.891249</td>\n      <td>11.504129</td>\n      <td>0.216616</td>\n      <td>2.437826</td>\n      <td>53.108485</td>\n      <td>NaN</td>\n      <td>0.216616</td>\n      <td>11.504129</td>\n      <td>5.860372</td>\n      <td>1.008554</td>\n      <td>1.008685</td>\n      <td>1.008410</td>\n      <td>0.000062</td>\n      <td>1.000273</td>\n      <td>0.000020</td>\n      <td>1.008410</td>\n      <td>1.008685</td>\n      <td>1.008547</td>\n      <td>26.692052</td>\n      <td>113.910293</td>\n      <td>1.386540</td>\n      <td>21.219546</td>\n      <td>82.154322</td>\n      <td>NaN</td>\n      <td>1.386540</td>\n      <td>113.910293</td>\n      <td>57.648417</td>\n    </tr>\n    <tr>\n      <th>4</th>\n      <td>-0.891301</td>\n      <td>-0.88673</td>\n      <td>-0.89689</td>\n      <td>0.002955</td>\n      <td>0.988672</td>\n      <td>0.000080</td>\n      <td>0.88673</td>\n      <td>0.89689</td>\n      <td>0.891810</td>\n      <td>0.428144</td>\n      <td>0.43740</td>\n      <td>0.41646</td>\n      <td>0.006165</td>\n      <td>1.050281</td>\n      <td>0.000165</td>\n      <td>0.41646</td>\n      <td>0.43740</td>\n      <td>0.426930</td>\n      <td>0.060056</td>\n      <td>0.061771</td>\n      <td>0.058247</td>\n      <td>0.000985</td>\n      <td>1.060501</td>\n      <td>0.000034</td>\n      <td>0.058247</td>\n      <td>0.061771</td>\n      <td>0.060009</td>\n      <td>-0.136460</td>\n      <td>-0.135380</td>\n      <td>-0.137320</td>\n      <td>0.000541</td>\n      <td>0.985872</td>\n      <td>0.000048</td>\n      <td>0.135380</td>\n      <td>0.137320</td>\n      <td>0.136350</td>\n      <td>0.006969</td>\n      <td>0.080904</td>\n      <td>-0.10407</td>\n      <td>0.044773</td>\n      <td>...</td>\n      <td>0.603799</td>\n      <td>7.4490</td>\n      <td>10.975</td>\n      <td>9.21200</td>\n      <td>NaN</td>\n      <td>NaN</td>\n      <td>NaN</td>\n      <td>NaN</td>\n      <td>NaN</td>\n      <td>NaN</td>\n      <td>NaN</td>\n      <td>NaN</td>\n      <td>NaN</td>\n      <td>2.317052</td>\n      <td>3.831081</td>\n      <td>0.078011</td>\n      <td>0.862224</td>\n      <td>49.109307</td>\n      <td>NaN</td>\n      <td>0.078011</td>\n      <td>3.831081</td>\n      <td>1.954546</td>\n      <td>1.018738</td>\n      <td>1.019500</td>\n      <td>1.017889</td>\n      <td>0.000478</td>\n      <td>1.001583</td>\n      <td>0.000014</td>\n      <td>1.017889</td>\n      <td>1.019500</td>\n      <td>1.018694</td>\n      <td>NaN</td>\n      <td>NaN</td>\n      <td>NaN</td>\n      <td>NaN</td>\n      <td>NaN</td>\n      <td>NaN</td>\n      <td>NaN</td>\n      <td>NaN</td>\n      <td>NaN</td>\n    </tr>\n  </tbody>\n</table>\n</div>"
          },
          "metadata": {}
        }
      ]
    },
    {
      "metadata": {
        "trusted": true,
        "_uuid": "d860de8e308eb3f290ec8b117138a29b7297c67a"
      },
      "cell_type": "code",
      "source": "# Filling missing data by zeroes\ndata.fillna(0,inplace=True)\ndata.replace(-np.inf,0,inplace=True)\ndata.replace(np.inf,0,inplace=True)\ntest.fillna(0,inplace=True)\ntest.replace(-np.inf,0,inplace=True)\ntest.replace(np.inf,0,inplace=True)",
      "execution_count": 20,
      "outputs": []
    },
    {
      "metadata": {
        "trusted": true,
        "_uuid": "47a5ac7c0189bd91b8ddda57557f18e78ef0cd9c"
      },
      "cell_type": "code",
      "source": "#Label Encoding\ntarget['surface'] = le.fit_transform(target['surface'])",
      "execution_count": 21,
      "outputs": []
    },
    {
      "metadata": {
        "trusted": true,
        "_uuid": "ffc836028e31ba704b301305afc08fc4166e8dee"
      },
      "cell_type": "code",
      "source": "from sklearn.model_selection import StratifiedKFold\nfrom sklearn.ensemble import RandomForestClassifier\nimport gc\nfolds = StratifiedKFold(n_splits=5, shuffle=True, random_state=1337)",
      "execution_count": 22,
      "outputs": []
    },
    {
      "metadata": {
        "trusted": true,
        "_uuid": "1bde524f57f7e5b8c6250c3178147445adb6682e"
      },
      "cell_type": "code",
      "source": "predicted = np.zeros((test.shape[0],9))\nmeasured= np.zeros((data.shape[0]))\nscore = 0\nbalanced_cv_sum = 0\nfor times, (trn_idx, val_idx) in enumerate(folds.split(data.values,target['surface'].values)):\n    model = RandomForestClassifier(n_estimators=500)\n    model.fit(data.iloc[trn_idx],target['surface'][trn_idx])\n    measured[val_idx] = model.predict(data.iloc[val_idx])\n    predicted += model.predict_proba(test)/folds.n_splits\n    score += model.score(data.iloc[val_idx],target['surface'][val_idx])\n    print(\"Fold: {} score: {}\".format(times,model.score(data.iloc[val_idx],target['surface'][val_idx])))\n    cm = confusion_matrix(model.predict(data.iloc[val_idx]), target['surface'].iloc[val_idx])\n    sns.heatmap(cm, annot=True, cmap=\"YlOrBr\")\n    balscore = balanced_cv(cm)\n    print('balanced cv score', balscore)\n    balanced_cv_sum +=balscore\n    gc.collect()\nprint('Avg Accuracy', score / folds.n_splits)\nprint('Avg Balanced Accuracy', balanced_cv_sum / folds.n_splits)\n    ",
      "execution_count": null,
      "outputs": []
    },
    {
      "metadata": {
        "trusted": true,
        "_uuid": "a7b987ad134006f8e162eacac0ca4aaab64c88df"
      },
      "cell_type": "code",
      "source": "sampl['surface'] = le.inverse_transform(predicted.argmax(axis=1))\nsampl.to_csv('submission.csv', index=False)\nsampl.head()",
      "execution_count": null,
      "outputs": []
    }
  ],
  "metadata": {
    "kernelspec": {
      "display_name": "Python 3",
      "language": "python",
      "name": "python3"
    },
    "language_info": {
      "name": "python",
      "version": "3.6.6",
      "mimetype": "text/x-python",
      "codemirror_mode": {
        "name": "ipython",
        "version": 3
      },
      "pygments_lexer": "ipython3",
      "nbconvert_exporter": "python",
      "file_extension": ".py"
    }
  },
  "nbformat": 4,
  "nbformat_minor": 1
}