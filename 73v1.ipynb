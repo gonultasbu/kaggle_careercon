{
 "cells": [
  {
   "cell_type": "code",
   "execution_count": 1,
   "metadata": {
    "_cell_guid": "b1076dfc-b9ad-4769-8c92-a6c4dae69d19",
    "_uuid": "8f2839f25d086af736a60e9eeb907d3b93b6e0e5"
   },
   "outputs": [],
   "source": [
    "# TODO Test Featuretools\n",
    "# TODO Test LSTM for Feature Extraction\n",
    "# Test both weighted and unweighted class approaches for better CV-LB estimation.\n",
    "import numpy as np\n",
    "import pandas as pd\n",
    "import os\n",
    "from sklearn import preprocessing\n",
    "from sklearn.metrics import accuracy_score\n",
    "import matplotlib.pyplot as plt\n",
    "import seaborn as sns\n",
    "from scipy import stats\n",
    "from scipy.stats import norm\n",
    "from sklearn.preprocessing import StandardScaler\n",
    "from matplotlib import rcParams\n",
    "%matplotlib inline\n",
    "le = preprocessing.LabelEncoder()\n",
    "import re\n",
    "import warnings\n",
    "from sklearn.metrics import accuracy_score, confusion_matrix\n",
    "import featuretools as ft \n",
    "import xgboost as xgb\n",
    "from xgboost import XGBClassifier\n",
    "import lightgbm as lgb\n",
    "from lightgbm import LGBMClassifier\n",
    "from sklearn.model_selection import train_test_split"
   ]
  },
  {
   "cell_type": "code",
   "execution_count": 2,
   "metadata": {},
   "outputs": [
    {
     "data": {
      "text/plain": [
       "'\\ndef plot_confusion_matrix(truth, pred, classes, normalize=False, title=\\'\\'):\\n    cm = confusion_matrix(truth, pred)\\n    if normalize:\\n        cm = cm.astype(\\'float\\') / cm.sum(axis=1)[:, np.newaxis]\\n    \\n    plt.figure(figsize=(10, 10))\\n    plt.imshow(cm, interpolation=\\'nearest\\', cmap=plt.cm.Blues)\\n    plt.title(\\'Confusion matrix\\', size=15)\\n    plt.colorbar(fraction=0.046, pad=0.04)\\n    tick_marks = np.arange(len(classes))\\n    plt.xticks(tick_marks, classes, rotation=45)\\n    plt.yticks(tick_marks, classes)\\n\\n    fmt = \\'.2f\\' if normalize else \\'d\\'\\n    thresh = cm.max() / 2.\\n    for i, j in itertools.product(range(cm.shape[0]), range(cm.shape[1])):\\n        plt.text(j, i, format(cm[i, j], fmt),\\n                 horizontalalignment=\"center\",\\n                 color=\"white\" if cm[i, j] > thresh else \"black\")\\n\\n    plt.ylabel(\\'True label\\')\\n    plt.xlabel(\\'Predicted label\\')\\n    plt.grid(False)\\n    plt.tight_layout()\\n'"
      ]
     },
     "execution_count": 2,
     "metadata": {},
     "output_type": "execute_result"
    }
   ],
   "source": [
    "'''\n",
    "def plot_confusion_matrix(truth, pred, classes, normalize=False, title=''):\n",
    "    cm = confusion_matrix(truth, pred)\n",
    "    if normalize:\n",
    "        cm = cm.astype('float') / cm.sum(axis=1)[:, np.newaxis]\n",
    "    \n",
    "    plt.figure(figsize=(10, 10))\n",
    "    plt.imshow(cm, interpolation='nearest', cmap=plt.cm.Blues)\n",
    "    plt.title('Confusion matrix', size=15)\n",
    "    plt.colorbar(fraction=0.046, pad=0.04)\n",
    "    tick_marks = np.arange(len(classes))\n",
    "    plt.xticks(tick_marks, classes, rotation=45)\n",
    "    plt.yticks(tick_marks, classes)\n",
    "\n",
    "    fmt = '.2f' if normalize else 'd'\n",
    "    thresh = cm.max() / 2.\n",
    "    for i, j in itertools.product(range(cm.shape[0]), range(cm.shape[1])):\n",
    "        plt.text(j, i, format(cm[i, j], fmt),\n",
    "                 horizontalalignment=\"center\",\n",
    "                 color=\"white\" if cm[i, j] > thresh else \"black\")\n",
    "\n",
    "    plt.ylabel('True label')\n",
    "    plt.xlabel('Predicted label')\n",
    "    plt.grid(False)\n",
    "    plt.tight_layout()\n",
    "'''"
   ]
  },
  {
   "cell_type": "code",
   "execution_count": 3,
   "metadata": {
    "_uuid": "f9d2f8541d8a53344730cadb5a2b9752559d17fc"
   },
   "outputs": [
    {
     "data": {
      "text/plain": [
       "'\\ndef lb_cv(conf_mat):\\n    assert len(conf_mat.shape) == 2\\n    rows, columns = conf_mat.shape\\n    intra_class_scores = np.zeros((1, columns))\\n    column_sums = np.sum(conf_mat, axis=0)\\n    for c in range(columns):\\n        intra_class_scores[0][c] = float(conf_mat[c][c])/column_sums[c]\\n        \\n    balanced_score = np.mean(intra_class_scores)\\n    return balanced_score\\n'"
      ]
     },
     "execution_count": 3,
     "metadata": {},
     "output_type": "execute_result"
    }
   ],
   "source": [
    "def balanced_cv(conf_mat):\n",
    "    assert len(conf_mat.shape) == 2\n",
    "    rows, columns = conf_mat.shape\n",
    "    intra_class_scores = np.zeros((1, columns))\n",
    "    column_sums = np.sum(conf_mat, axis=0)\n",
    "    for c in range(columns):\n",
    "        intra_class_scores[0][c] = float(conf_mat[c][c])/column_sums[c]\n",
    "        \n",
    "    balanced_score = np.mean(intra_class_scores)\n",
    "    return balanced_score\n",
    "'''\n",
    "def lb_cv(conf_mat):\n",
    "    assert len(conf_mat.shape) == 2\n",
    "    rows, columns = conf_mat.shape\n",
    "    intra_class_scores = np.zeros((1, columns))\n",
    "    column_sums = np.sum(conf_mat, axis=0)\n",
    "    for c in range(columns):\n",
    "        intra_class_scores[0][c] = float(conf_mat[c][c])/column_sums[c]\n",
    "        \n",
    "    balanced_score = np.mean(intra_class_scores)\n",
    "    return balanced_score\n",
    "'''"
   ]
  },
  {
   "cell_type": "code",
   "execution_count": 4,
   "metadata": {
    "_cell_guid": "79c7e3d0-c299-4dcb-8224-4455121ee9b0",
    "_uuid": "d629ff2d2480ee46fbb7e2d37f6b5fab8052498a"
   },
   "outputs": [],
   "source": [
    "data = pd.read_csv('X_train.csv')\n",
    "sampl = pd.read_csv('sample_submission.csv')\n",
    "test = pd.read_csv('X_test.csv')\n",
    "target = pd.read_csv('y_train.csv')"
   ]
  },
  {
   "cell_type": "code",
   "execution_count": 5,
   "metadata": {
    "_uuid": "b09576a89afcccb0ace8841e1b4a14142054ed1b"
   },
   "outputs": [],
   "source": [
    "# data.head()"
   ]
  },
  {
   "cell_type": "code",
   "execution_count": 6,
   "metadata": {
    "_uuid": "97b8a228c92ad5d881e2cddcf34d16c8ece93e2b"
   },
   "outputs": [],
   "source": [
    "# target = target.drop(\"group_id\",axis=1)"
   ]
  },
  {
   "cell_type": "code",
   "execution_count": 7,
   "metadata": {
    "_uuid": "a431288b13aa37bc4b0e2d298edf1f2cb87a755f"
   },
   "outputs": [],
   "source": [
    "# target.head(2)"
   ]
  },
  {
   "cell_type": "code",
   "execution_count": 8,
   "metadata": {
    "_uuid": "a82a4fcfd7b086e5dfd2dabf56bf631c176a6eb1"
   },
   "outputs": [],
   "source": [
    "# sampl.head(2)"
   ]
  },
  {
   "cell_type": "code",
   "execution_count": 9,
   "metadata": {
    "_uuid": "4c3a4a4564428f8c470983f5dbb6cf3d70135aad"
   },
   "outputs": [],
   "source": [
    "# test.head()"
   ]
  },
  {
   "cell_type": "code",
   "execution_count": 10,
   "metadata": {
    "_uuid": "bfc230e8283491c2cfe124b6c5c2a08f7560a14a"
   },
   "outputs": [],
   "source": [
    "totalt = data.isnull().sum().sort_values(ascending=False)\n",
    "percent = (data.isnull().sum()/data.isnull().count()).sort_values(ascending=False)\n",
    "missing_data = pd.concat([totalt, percent], axis=1, keys=['Total', 'Percent'])\n",
    "# missing_data.head(5)"
   ]
  },
  {
   "cell_type": "code",
   "execution_count": 11,
   "metadata": {
    "_uuid": "a4bdd12a7223d80e2d4c6c9be217935a5b80d526"
   },
   "outputs": [],
   "source": [
    "totalt = test.isnull().sum().sort_values(ascending=False)\n",
    "percent = (test.isnull().sum()/data.isnull().count()).sort_values(ascending=False)\n",
    "missing_data = pd.concat([totalt, percent], axis=1, keys=['Total', 'Percent'])\n",
    "# missing_data.head(5)"
   ]
  },
  {
   "cell_type": "markdown",
   "metadata": {
    "_uuid": "739c569bf6dd6d001e7e3d6fcabefccd5272b646"
   },
   "source": [
    "There is no missing data in test and train data"
   ]
  },
  {
   "cell_type": "code",
   "execution_count": 12,
   "metadata": {
    "_uuid": "380ea10f7bd221169de06c8652f3dbbc559c7ff4"
   },
   "outputs": [],
   "source": [
    "# data.describe()"
   ]
  },
  {
   "cell_type": "code",
   "execution_count": 13,
   "metadata": {
    "_uuid": "c3d8dcd4ee59b754a2e606bd2d1442603f7102c3"
   },
   "outputs": [],
   "source": [
    "# target.describe()"
   ]
  },
  {
   "cell_type": "code",
   "execution_count": 14,
   "metadata": {
    "_uuid": "6001b6cc5925e8223b2f1747f20863cdbd9a41d9"
   },
   "outputs": [],
   "source": [
    "# test.describe()"
   ]
  },
  {
   "cell_type": "code",
   "execution_count": 15,
   "metadata": {
    "_uuid": "397df9d46c66cd5eab36b171661b603c3b4ab4fe"
   },
   "outputs": [
    {
     "data": {
      "image/png": "[encoded data removed]",
      "text/plain": [
       "<Figure size 432x288 with 1 Axes>"
      ]
     },
     "metadata": {},
     "output_type": "display_data"
    }
   ],
   "source": [
    "sns.set(style='darkgrid')\n",
    "sns.countplot(y = 'surface',\n",
    "              data = target,\n",
    "              order = target['surface'].value_counts().index)\n",
    "plt.show()"
   ]
  },
  {
   "cell_type": "code",
   "execution_count": 16,
   "metadata": {
    "_uuid": "20d703b6ce001c09a776a31a3a95c01c65b3ed1d"
   },
   "outputs": [
    {
     "name": "stdout",
     "output_type": "stream",
     "text": [
      "Index(['row_id', 'series_id', 'measurement_number', 'orientation_X',\n",
      "       'orientation_Y', 'orientation_Z', 'orientation_W', 'angular_velocity_X',\n",
      "       'angular_velocity_Y', 'angular_velocity_Z', 'linear_acceleration_X',\n",
      "       'linear_acceleration_Y', 'linear_acceleration_Z'],\n",
      "      dtype='object')\n"
     ]
    }
   ],
   "source": [
    "data.head()"
   ]
  },
  {
   "cell_type": "code",
   "execution_count": 17,
   "metadata": {
    "_uuid": "839cfc267c2ca5a8aab619cfd7e265da8c5f3388"
   },
   "outputs": [],
   "source": [
    "def feat_eng(data):\n",
    "    df = pd.DataFrame()\n",
    "    data['totl_anglr_vel'] = (data['angular_velocity_X']**2 + data['angular_velocity_Y']**2 +\n",
    "                             data['angular_velocity_Z'])** 0.5\n",
    "    data['totl_linr_acc'] = (data['linear_acceleration_X']**2 + data['linear_acceleration_Y']**2 +\n",
    "                             data['linear_acceleration_Z'])**0.5\n",
    "    data['totl_xyz'] = (data['orientation_X']**2 + data['orientation_Y']**2 +\n",
    "                             data['orientation_Z'])**0.5\n",
    "    #Lets derive one more column since there is a relationship in velocity and acceleration\n",
    "    # v = u + a*t , u is initial velocty. if u = 0, then v = at means t = v/a\n",
    "    # but value of acceleration is more and value of velocity is less, lets do a/v relation\n",
    "    data['acc_vs_vel'] = data['totl_linr_acc'] / data['totl_anglr_vel']\n",
    "    \n",
    "    # Deriving more feature, since we are reducing rows now, we should know min,max,mean values\n",
    "    for col in data.columns:\n",
    "        if col in ['row_id','series_id','measurement_number']:\n",
    "            continue\n",
    "        df[col + '_mean'] = data.groupby(['series_id'])[col].mean()\n",
    "        df[col + '_max'] = data.groupby(['series_id'])[col].max()\n",
    "        df[col + '_min'] = data.groupby(['series_id'])[col].min()\n",
    "        df[col + '_std'] = data.groupby(['series_id'])[col].std()\n",
    "        df[col + '_maxtoMin'] = df[col + '_max'] / df[col + '_min']\n",
    "        df[col + '_mean_abs_chg'] = data.groupby(['series_id'])[col].apply(lambda x: np.mean(np.abs(np.diff(x))))\n",
    "        df[col + '_abs_min'] = data.groupby(['series_id'])[col].apply(lambda x: np.min(np.abs(x)))\n",
    "        df[col + '_abs_max'] = data.groupby(['series_id'])[col].apply(lambda x: np.max(np.abs(x)))\n",
    "        df[col + '_abs_avg'] = (df[col + '_abs_min'] + df[col + '_abs_max'])/2\n",
    "    return df\n",
    "    "
   ]
  },
  {
   "cell_type": "code",
   "execution_count": 18,
   "metadata": {
    "_uuid": "da872f84dbe19df5250f319ec34750279798b4bf"
   },
   "outputs": [],
   "source": [
    "data = feat_eng(data)\n",
    "test = feat_eng(test)"
   ]
  },
  {
   "cell_type": "code",
   "execution_count": 19,
   "metadata": {
    "_uuid": "35b15c545c9bea8e3e023d32ea3112ef7bbe016f"
   },
   "outputs": [
    {
     "data": {
      "text/html": [
       "<div>\n",
       "<style scoped>\n",
       "    .dataframe tbody tr th:only-of-type {\n",
       "        vertical-align: middle;\n",
       "    }\n",
       "\n",
       "    .dataframe tbody tr th {\n",
       "        vertical-align: top;\n",
       "    }\n",
       "\n",
       "    .dataframe thead th {\n",
       "        text-align: right;\n",
       "    }\n",
       "</style>\n",
       "<table border=\"1\" class=\"dataframe\">\n",
       "  <thead>\n",
       "    <tr style=\"text-align: right;\">\n",
       "      <th></th>\n",
       "      <th>orientation_X_mean</th>\n",
       "      <th>orientation_X_max</th>\n",
       "      <th>orientation_X_min</th>\n",
       "      <th>orientation_X_std</th>\n",
       "      <th>orientation_X_maxtoMin</th>\n",
       "      <th>orientation_X_mean_abs_chg</th>\n",
       "      <th>orientation_X_abs_min</th>\n",
       "      <th>orientation_X_abs_max</th>\n",
       "      <th>orientation_X_abs_avg</th>\n",
       "      <th>orientation_Y_mean</th>\n",
       "      <th>...</th>\n",
       "      <th>totl_xyz_abs_avg</th>\n",
       "      <th>acc_vs_vel_mean</th>\n",
       "      <th>acc_vs_vel_max</th>\n",
       "      <th>acc_vs_vel_min</th>\n",
       "      <th>acc_vs_vel_std</th>\n",
       "      <th>acc_vs_vel_maxtoMin</th>\n",
       "      <th>acc_vs_vel_mean_abs_chg</th>\n",
       "      <th>acc_vs_vel_abs_min</th>\n",
       "      <th>acc_vs_vel_abs_max</th>\n",
       "      <th>acc_vs_vel_abs_avg</th>\n",
       "    </tr>\n",
       "    <tr>\n",
       "      <th>series_id</th>\n",
       "      <th></th>\n",
       "      <th></th>\n",
       "      <th></th>\n",
       "      <th></th>\n",
       "      <th></th>\n",
       "      <th></th>\n",
       "      <th></th>\n",
       "      <th></th>\n",
       "      <th></th>\n",
       "      <th></th>\n",
       "      <th></th>\n",
       "      <th></th>\n",
       "      <th></th>\n",
       "      <th></th>\n",
       "      <th></th>\n",
       "      <th></th>\n",
       "      <th></th>\n",
       "      <th></th>\n",
       "      <th></th>\n",
       "      <th></th>\n",
       "      <th></th>\n",
       "    </tr>\n",
       "  </thead>\n",
       "  <tbody>\n",
       "    <tr>\n",
       "      <th>0</th>\n",
       "      <td>-0.758666</td>\n",
       "      <td>-0.75822</td>\n",
       "      <td>-0.75953</td>\n",
       "      <td>0.000363</td>\n",
       "      <td>0.998275</td>\n",
       "      <td>0.000015</td>\n",
       "      <td>0.75822</td>\n",
       "      <td>0.75953</td>\n",
       "      <td>0.758875</td>\n",
       "      <td>-0.634008</td>\n",
       "      <td>...</td>\n",
       "      <td>0.933879</td>\n",
       "      <td>29.978968</td>\n",
       "      <td>228.042411</td>\n",
       "      <td>6.043898</td>\n",
       "      <td>30.330393</td>\n",
       "      <td>37.731015</td>\n",
       "      <td>NaN</td>\n",
       "      <td>6.043898</td>\n",
       "      <td>228.042411</td>\n",
       "      <td>117.043154</td>\n",
       "    </tr>\n",
       "    <tr>\n",
       "      <th>1</th>\n",
       "      <td>-0.958606</td>\n",
       "      <td>-0.95837</td>\n",
       "      <td>-0.95896</td>\n",
       "      <td>0.000151</td>\n",
       "      <td>0.999385</td>\n",
       "      <td>0.000023</td>\n",
       "      <td>0.95837</td>\n",
       "      <td>0.95896</td>\n",
       "      <td>0.958665</td>\n",
       "      <td>0.241867</td>\n",
       "      <td>...</td>\n",
       "      <td>1.004474</td>\n",
       "      <td>14.176321</td>\n",
       "      <td>60.797417</td>\n",
       "      <td>3.314465</td>\n",
       "      <td>11.735877</td>\n",
       "      <td>18.343054</td>\n",
       "      <td>NaN</td>\n",
       "      <td>3.314465</td>\n",
       "      <td>60.797417</td>\n",
       "      <td>32.055941</td>\n",
       "    </tr>\n",
       "    <tr>\n",
       "      <th>2</th>\n",
       "      <td>-0.512057</td>\n",
       "      <td>-0.50944</td>\n",
       "      <td>-0.51434</td>\n",
       "      <td>0.001377</td>\n",
       "      <td>0.990473</td>\n",
       "      <td>0.000041</td>\n",
       "      <td>0.50944</td>\n",
       "      <td>0.51434</td>\n",
       "      <td>0.511890</td>\n",
       "      <td>-0.846171</td>\n",
       "      <td>...</td>\n",
       "      <td>0.921290</td>\n",
       "      <td>18.434759</td>\n",
       "      <td>62.823610</td>\n",
       "      <td>2.782415</td>\n",
       "      <td>13.314597</td>\n",
       "      <td>22.578809</td>\n",
       "      <td>NaN</td>\n",
       "      <td>2.782415</td>\n",
       "      <td>62.823610</td>\n",
       "      <td>32.803013</td>\n",
       "    </tr>\n",
       "    <tr>\n",
       "      <th>3</th>\n",
       "      <td>-0.939169</td>\n",
       "      <td>-0.93884</td>\n",
       "      <td>-0.93968</td>\n",
       "      <td>0.000227</td>\n",
       "      <td>0.999106</td>\n",
       "      <td>0.000026</td>\n",
       "      <td>0.93884</td>\n",
       "      <td>0.93968</td>\n",
       "      <td>0.939260</td>\n",
       "      <td>0.310140</td>\n",
       "      <td>...</td>\n",
       "      <td>1.008547</td>\n",
       "      <td>26.692052</td>\n",
       "      <td>113.910293</td>\n",
       "      <td>1.386540</td>\n",
       "      <td>21.219546</td>\n",
       "      <td>82.154322</td>\n",
       "      <td>NaN</td>\n",
       "      <td>1.386540</td>\n",
       "      <td>113.910293</td>\n",
       "      <td>57.648417</td>\n",
       "    </tr>\n",
       "    <tr>\n",
       "      <th>4</th>\n",
       "      <td>-0.891301</td>\n",
       "      <td>-0.88673</td>\n",
       "      <td>-0.89689</td>\n",
       "      <td>0.002955</td>\n",
       "      <td>0.988672</td>\n",
       "      <td>0.000080</td>\n",
       "      <td>0.88673</td>\n",
       "      <td>0.89689</td>\n",
       "      <td>0.891810</td>\n",
       "      <td>0.428144</td>\n",
       "      <td>...</td>\n",
       "      <td>1.018694</td>\n",
       "      <td>NaN</td>\n",
       "      <td>NaN</td>\n",
       "      <td>NaN</td>\n",
       "      <td>NaN</td>\n",
       "      <td>NaN</td>\n",
       "      <td>NaN</td>\n",
       "      <td>NaN</td>\n",
       "      <td>NaN</td>\n",
       "      <td>NaN</td>\n",
       "    </tr>\n",
       "  </tbody>\n",
       "</table>\n",
       "<p>5 rows × 126 columns</p>\n",
       "</div>"
      ],
      "text/plain": [
       "           orientation_X_mean  orientation_X_max  orientation_X_min  \\\n",
       "series_id                                                             \n",
       "0                   -0.758666           -0.75822           -0.75953   \n",
       "1                   -0.958606           -0.95837           -0.95896   \n",
       "2                   -0.512057           -0.50944           -0.51434   \n",
       "3                   -0.939169           -0.93884           -0.93968   \n",
       "4                   -0.891301           -0.88673           -0.89689   \n",
       "\n",
       "           orientation_X_std  orientation_X_maxtoMin  \\\n",
       "series_id                                              \n",
       "0                   0.000363                0.998275   \n",
       "1                   0.000151                0.999385   \n",
       "2                   0.001377                0.990473   \n",
       "3                   0.000227                0.999106   \n",
       "4                   0.002955                0.988672   \n",
       "\n",
       "           orientation_X_mean_abs_chg  orientation_X_abs_min  \\\n",
       "series_id                                                      \n",
       "0                            0.000015                0.75822   \n",
       "1                            0.000023                0.95837   \n",
       "2                            0.000041                0.50944   \n",
       "3                            0.000026                0.93884   \n",
       "4                            0.000080                0.88673   \n",
       "\n",
       "           orientation_X_abs_max  orientation_X_abs_avg  orientation_Y_mean  \\\n",
       "series_id                                                                     \n",
       "0                        0.75953               0.758875           -0.634008   \n",
       "1                        0.95896               0.958665            0.241867   \n",
       "2                        0.51434               0.511890           -0.846171   \n",
       "3                        0.93968               0.939260            0.310140   \n",
       "4                        0.89689               0.891810            0.428144   \n",
       "\n",
       "           ...  totl_xyz_abs_avg  acc_vs_vel_mean  acc_vs_vel_max  \\\n",
       "series_id  ...                                                      \n",
       "0          ...          0.933879        29.978968      228.042411   \n",
       "1          ...          1.004474        14.176321       60.797417   \n",
       "2          ...          0.921290        18.434759       62.823610   \n",
       "3          ...          1.008547        26.692052      113.910293   \n",
       "4          ...          1.018694              NaN             NaN   \n",
       "\n",
       "           acc_vs_vel_min  acc_vs_vel_std  acc_vs_vel_maxtoMin  \\\n",
       "series_id                                                        \n",
       "0                6.043898       30.330393            37.731015   \n",
       "1                3.314465       11.735877            18.343054   \n",
       "2                2.782415       13.314597            22.578809   \n",
       "3                1.386540       21.219546            82.154322   \n",
       "4                     NaN             NaN                  NaN   \n",
       "\n",
       "           acc_vs_vel_mean_abs_chg  acc_vs_vel_abs_min  acc_vs_vel_abs_max  \\\n",
       "series_id                                                                    \n",
       "0                              NaN            6.043898          228.042411   \n",
       "1                              NaN            3.314465           60.797417   \n",
       "2                              NaN            2.782415           62.823610   \n",
       "3                              NaN            1.386540          113.910293   \n",
       "4                              NaN                 NaN                 NaN   \n",
       "\n",
       "           acc_vs_vel_abs_avg  \n",
       "series_id                      \n",
       "0                  117.043154  \n",
       "1                   32.055941  \n",
       "2                   32.803013  \n",
       "3                   57.648417  \n",
       "4                         NaN  \n",
       "\n",
       "[5 rows x 126 columns]"
      ]
     },
     "execution_count": 19,
     "metadata": {},
     "output_type": "execute_result"
    }
   ],
   "source": [
    "data.head()\n",
    "print(data.columns)"
   ]
  },
  {
   "cell_type": "code",
   "execution_count": 20,
   "metadata": {
    "_uuid": "d860de8e308eb3f290ec8b117138a29b7297c67a"
   },
   "outputs": [],
   "source": [
    "# Filling missing data by zeroes\n",
    "data.fillna(0,inplace=True)\n",
    "data.replace(-np.inf,0,inplace=True)\n",
    "data.replace(np.inf,0,inplace=True)\n",
    "test.fillna(0,inplace=True)\n",
    "test.replace(-np.inf,0,inplace=True)\n",
    "test.replace(np.inf,0,inplace=True)"
   ]
  },
  {
   "cell_type": "code",
   "execution_count": 21,
   "metadata": {
    "_uuid": "47a5ac7c0189bd91b8ddda57557f18e78ef0cd9c"
   },
   "outputs": [],
   "source": [
    "#Label Encoding\n",
    "target['surface'] = le.fit_transform(target['surface'])"
   ]
  },
  {
   "cell_type": "code",
   "execution_count": 22,
   "metadata": {
    "_uuid": "ffc836028e31ba704b301305afc08fc4166e8dee"
   },
   "outputs": [],
   "source": [
    "from sklearn.model_selection import StratifiedKFold\n",
    "from sklearn.ensemble import RandomForestClassifier\n",
    "import gc\n",
    "folds = StratifiedKFold(n_splits=5, shuffle=True)"
   ]
  },
  {
   "cell_type": "code",
   "execution_count": 23,
   "metadata": {
    "_uuid": "1bde524f57f7e5b8c6250c3178147445adb6682e"
   },
   "outputs": [
    {
     "name": "stdout",
     "output_type": "stream",
     "text": [
      "Fold: 0 score: 0.8838120104438643\n",
      "balanced cv score 0.8524281229897841\n",
      "Fold: 1 score: 0.8823529411764706\n",
      "balanced cv score 0.829238336339172\n",
      "Fold: 2 score: 0.884514435695538\n",
      "balanced cv score 0.8143911890769411\n",
      "Fold: 3 score: 0.8802631578947369\n",
      "balanced cv score 0.8080229273254044\n",
      "Fold: 4 score: 0.8731836195508587\n",
      "balanced cv score 0.8023518696178832\n",
      "Avg Accuracy 0.8808252329522936\n",
      "Avg Balanced Accuracy 0.821286489069837\n"
     ]
    },
    {
     "data": {
      "image/png": "[encoded data removed]",
      "text/plain": [
       "<Figure size 432x288 with 2 Axes>"
      ]
     },
     "metadata": {},
     "output_type": "display_data"
    },
    {
     "data": {
      "image/png": "[encoded data removed]",
      "text/plain": [
       "<Figure size 432x288 with 2 Axes>"
      ]
     },
     "metadata": {},
     "output_type": "display_data"
    },
    {
     "data": {
      "image/png": "[encoded data removed]",
      "text/plain": [
       "<Figure size 432x288 with 2 Axes>"
      ]
     },
     "metadata": {},
     "output_type": "display_data"
    },
    {
     "data": {
      "image/png": "[encoded data removed]",
      "text/plain": [
       "<Figure size 432x288 with 2 Axes>"
      ]
     },
     "metadata": {},
     "output_type": "display_data"
    },
    {
     "data": {
      "image/png": "[encoded data removed]",
      "text/plain": [
       "<Figure size 432x288 with 2 Axes>"
      ]
     },
     "metadata": {},
     "output_type": "display_data"
    }
   ],
   "source": [
    "predicted = np.zeros((test.shape[0],9))\n",
    "# measured= np.zeros((data.shape[0]))\n",
    "score = 0\n",
    "balanced_cv_sum = 0\n",
    "# Balanced model training gives slightly worse results on pubLB.\n",
    "model = RandomForestClassifier(n_estimators=200)\n",
    "# model = XGBClassifier(tree_method='gpu_hist')\n",
    "# model = LGBMClassifier(device='gpu')\n",
    "for times, (trn_idx, val_idx) in enumerate(folds.split(data.values,target['surface'].values)):\n",
    "    model.fit(data.iloc[trn_idx],target['surface'][trn_idx])\n",
    "    # measured[val_idx] = model.predict(data.iloc[val_idx])\n",
    "    # predicted += model.predict_proba(test)/folds.n_splits\n",
    "    score += model.score(data.iloc[val_idx],target['surface'][val_idx])\n",
    "    print(\"Fold: {} score: {}\".format(times,model.score(data.iloc[val_idx],target['surface'][val_idx])))\n",
    "    cm = confusion_matrix(model.predict(data.iloc[val_idx]), target['surface'].iloc[val_idx])\n",
    "    plt.figure()\n",
    "    sns.heatmap(cm, annot=True, cmap=\"YlOrBr\")\n",
    "    balscore = balanced_cv(cm)\n",
    "    print('balanced cv score', balscore)\n",
    "    balanced_cv_sum +=balscore\n",
    "    gc.collect()\n",
    "print('Avg Accuracy', score / folds.n_splits)\n",
    "print('Avg Balanced Accuracy', balanced_cv_sum / folds.n_splits)\n",
    "    "
   ]
  },
  {
   "cell_type": "code",
   "execution_count": 24,
   "metadata": {
    "_uuid": "a7b987ad134006f8e162eacac0ca4aaab64c88df"
   },
   "outputs": [],
   "source": [
    "model.fit(data, target['surface'])\n",
    "predicted = model.predict_proba(test)\n",
    "sampl['surface'] = le.inverse_transform(predicted.argmax(axis=1))\n",
    "sampl.to_csv('submission.csv', index=False)\n",
    "# sampl.head()"
   ]
  },
  {
   "cell_type": "code",
   "execution_count": 25,
   "metadata": {},
   "outputs": [
    {
     "data": {
      "text/plain": [
       "'\\niter_count = 20\\nrobust_predicted = 0\\nfor iteration in range(iter_count):\\n    rand_tr_set, rand_test_set = train_test_split(test,train_size=0.8)\\n    robust_predicted += model.predict_proba(rand_tr_set)/iter_count\\n    \\nprint(robust_predicted)\\n'"
      ]
     },
     "execution_count": 25,
     "metadata": {},
     "output_type": "execute_result"
    }
   ],
   "source": [
    "#Robust model\n",
    "'''\n",
    "iter_count = 20\n",
    "robust_predicted = 0\n",
    "for iteration in range(iter_count):\n",
    "    rand_tr_set, rand_test_set = train_test_split(test,train_size=0.8)\n",
    "    robust_predicted += model.predict_proba(rand_tr_set)/iter_count\n",
    "    \n",
    "print(robust_predicted)\n",
    "'''"
   ]
  }
 ],
 "metadata": {
  "kernelspec": {
   "display_name": "Python 3",
   "language": "python",
   "name": "python3"
  },
  "language_info": {
   "codemirror_mode": {
    "name": "ipython",
    "version": 3
   },
   "file_extension": ".py",
   "mimetype": "text/x-python",
   "name": "python",
   "nbconvert_exporter": "python",
   "pygments_lexer": "ipython3",
   "version": "3.6.8"
  }
 },
 "nbformat": 4,
 "nbformat_minor": 1
}
