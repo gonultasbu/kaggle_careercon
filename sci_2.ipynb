{
 "cells": [
  {
   "cell_type": "code",
   "execution_count": 1,
   "metadata": {
    "_cell_guid": "b1076dfc-b9ad-4769-8c92-a6c4dae69d19",
    "_uuid": "8f2839f25d086af736a60e9eeb907d3b93b6e0e5"
   },
   "outputs": [],
   "source": [
    "import os\n",
    "import numpy as np\n",
    "import pandas as pd\n",
    "import matplotlib.pyplot as plt\n",
    "import seaborn as sns\n",
    "%matplotlib inline\n",
    "from sklearn.preprocessing import LabelEncoder, MinMaxScaler\n",
    "from sklearn.model_selection import cross_val_score, StratifiedKFold\n",
    "from sklearn.metrics import accuracy_score, confusion_matrix\n",
    "from scipy import stats\n",
    "import math\n",
    "from sklearn.linear_model import LogisticRegression, Ridge, Lasso, ElasticNet\n",
    "from sklearn.naive_bayes import GaussianNB\n",
    "from sklearn.neighbors import KNeighborsClassifier\n",
    "from sklearn.tree import DecisionTreeClassifier, ExtraTreeClassifier\n",
    "from sklearn.ensemble import RandomForestClassifier, AdaBoostClassifier, BaggingClassifier, ExtraTreesClassifier, GradientBoostingClassifier, VotingClassifier\n",
    "import lightgbm as lgb\n",
    "import xgboost as xgb\n",
    "import gc\n",
    "import itertools\n",
    "from tsfresh.feature_extraction.feature_calculators import kurtosis, skewness, mean_abs_change, mean_change, sample_entropy, abs_energy, absolute_sum_of_changes, quantile\n",
    "from tsfresh.feature_selection.selection import select_features\n",
    "from sklearn.cluster import KMeans\n",
    "from scipy.spatial.distance import euclidean\n",
    "from tqdm import tqdm"
   ]
  },
  {
   "cell_type": "code",
   "execution_count": 2,
   "metadata": {
    "_cell_guid": "79c7e3d0-c299-4dcb-8224-4455121ee9b0",
    "_uuid": "d629ff2d2480ee46fbb7e2d37f6b5fab8052498a"
   },
   "outputs": [],
   "source": [
    "train = pd.read_csv(\"X_train.csv\")\n",
    "test = pd.read_csv(\"X_test.csv\")\n",
    "label = pd.read_csv(\"y_train.csv\")\n",
    "sub = pd.read_csv(\"sample_submission.csv\")"
   ]
  },
  {
   "cell_type": "code",
   "execution_count": 3,
   "metadata": {
    "_uuid": "6a45c58333cad54e5c1d0660e62a43a8adcbf955"
   },
   "outputs": [],
   "source": [
    "def reduce_mem_usage(df):\n",
    "    # iterate through all the columns of a dataframe and modify the data type\n",
    "    #   to reduce memory usage.        \n",
    "    \n",
    "    start_mem = df.memory_usage().sum() / 1024**2\n",
    "    print('Memory usage of dataframe is {:.2f} MB'.format(start_mem))\n",
    "\n",
    "    for col in df.columns:\n",
    "        col_type = df[col].dtype\n",
    "\n",
    "        if col_type != object:\n",
    "            c_min = df[col].min()\n",
    "            c_max = df[col].max()\n",
    "            if str(col_type)[:3] == 'int':\n",
    "                if c_min > np.iinfo(np.int8).min and c_max < np.iinfo(np.int8).max:\n",
    "                    df[col] = df[col].astype(np.int8)\n",
    "                elif c_min > np.iinfo(np.int16).min and c_max < np.iinfo(np.int16).max:\n",
    "                    df[col] = df[col].astype(np.int16)\n",
    "                elif c_min > np.iinfo(np.int32).min and c_max < np.iinfo(np.int32).max:\n",
    "                    df[col] = df[col].astype(np.int32)\n",
    "                elif c_min > np.iinfo(np.int64).min and c_max < np.iinfo(np.int64).max:\n",
    "                    df[col] = df[col].astype(np.int64)  \n",
    "            else:\n",
    "                if c_min > np.finfo(np.float16).min and c_max < np.finfo(np.float16).max:\n",
    "                    df[col] = df[col].astype(np.float16)\n",
    "                elif c_min > np.finfo(np.float32).min and c_max < np.finfo(np.float32).max:\n",
    "                    df[col] = df[col].astype(np.float32)\n",
    "                else:\n",
    "                    df[col] = df[col].astype(np.float64)\n",
    "\n",
    "    end_mem = df.memory_usage().sum() / 1024**2\n",
    "    print('Memory usage after optimization is: {:.2f} MB'.format(end_mem))\n",
    "    print('Decreased by {:.1f}%'.format(100 * (start_mem - end_mem) / start_mem))\n",
    "\n",
    "    return df\n",
    "\n",
    "def plot_confusion_matrix(truth, pred, classes, normalize=False, title=''):\n",
    "    cm = confusion_matrix(truth, pred)\n",
    "    if normalize:\n",
    "        cm = cm.astype('float') / cm.sum(axis=1)[:, np.newaxis]\n",
    "    \n",
    "    plt.figure(figsize=(10, 10))\n",
    "    plt.imshow(cm, interpolation='nearest', cmap=plt.cm.Blues)\n",
    "    plt.title('Confusion matrix', size=15)\n",
    "    plt.colorbar(fraction=0.046, pad=0.04)\n",
    "    tick_marks = np.arange(len(classes))\n",
    "    plt.xticks(tick_marks, classes, rotation=45)\n",
    "    plt.yticks(tick_marks, classes)\n",
    "\n",
    "    fmt = '.2f' if normalize else 'd'\n",
    "    thresh = cm.max() / 2.\n",
    "    for i, j in itertools.product(range(cm.shape[0]), range(cm.shape[1])):\n",
    "        plt.text(j, i, format(cm[i, j], fmt),\n",
    "                 horizontalalignment=\"center\",\n",
    "                 color=\"white\" if cm[i, j] > thresh else \"black\")\n",
    "\n",
    "    plt.ylabel('True label')\n",
    "    plt.xlabel('Predicted label')\n",
    "    plt.grid(False)\n",
    "    plt.tight_layout()"
   ]
  },
  {
   "cell_type": "code",
   "execution_count": 4,
   "metadata": {
    "_uuid": "c90a25a9ff9dff71684c023a46b968ba9b32fe0b"
   },
   "outputs": [
    {
     "name": "stdout",
     "output_type": "stream",
     "text": [
      "Memory usage of dataframe is 48.37 MB\n",
      "Memory usage after optimization is: 14.88 MB\n",
      "Decreased by 69.2%\n",
      "Memory usage of dataframe is 48.45 MB\n",
      "Memory usage after optimization is: 14.91 MB\n",
      "Decreased by 69.2%\n"
     ]
    }
   ],
   "source": [
    "train = reduce_mem_usage(train)\n",
    "test = reduce_mem_usage(test)"
   ]
  },
  {
   "cell_type": "code",
   "execution_count": 5,
   "metadata": {},
   "outputs": [],
   "source": [
    "train_ts_groups = train.groupby(['series_id'])\n",
    "test_ts_groups = test.groupby(['series_id'])\n",
    "ttgf = train_ts_groups.first()[['row_id', 'orientation_X', 'orientation_Y', 'orientation_Z', 'orientation_W']]\n",
    "ttgl = train_ts_groups.last()[['row_id', 'orientation_X', 'orientation_Y', 'orientation_Z', 'orientation_W']]\n",
    "ts_tgf = test_ts_groups.first()[['row_id', 'orientation_X', 'orientation_Y', 'orientation_Z', 'orientation_W']]\n",
    "ts_tgl = test_ts_groups.last()[['row_id', 'orientation_X', 'orientation_Y', 'orientation_Z', 'orientation_W']]"
   ]
  },
  {
   "cell_type": "code",
   "execution_count": 330,
   "metadata": {},
   "outputs": [],
   "source": [
    "# print(ts_tgf)"
   ]
  },
  {
   "cell_type": "code",
   "execution_count": 6,
   "metadata": {},
   "outputs": [],
   "source": [
    "ttgf_dropped=ttgf.drop(columns=['row_id'])\n",
    "ttgl_dropped=ttgl.drop(columns=['row_id'])\n",
    "ttgf_dropped.columns=['orientation_X0', 'orientation_Y0', 'orientation_Z0', 'orientation_W0']\n",
    "ttgl_dropped.columns=['orientation_X127', 'orientation_Y127', 'orientation_Z127', 'orientation_W127']\n",
    "new_df = ttgf_dropped.join(ttgl_dropped,on='series_id')\n",
    "# chain_df = new_df.join(label.drop(columns=['series_id']), on='series_id')\n",
    "# print(chain_df.loc[chain_df['group_id']==0].sort_values(by='orientation_X0',ascending=True))\n",
    "# print(new_df)"
   ]
  },
  {
   "cell_type": "code",
   "execution_count": 12,
   "metadata": {},
   "outputs": [],
   "source": [
    "ts_tgf_dropped=ts_tgf.drop(columns=['row_id'])\n",
    "ts_tgl_dropped=ts_tgl.drop(columns=['row_id'])\n",
    "ts_tgf_dropped.columns=['orientation_X0', 'orientation_Y0', 'orientation_Z0', 'orientation_W0']\n",
    "ts_tgl_dropped.columns=['orientation_X127', 'orientation_Y127', 'orientation_Z127', 'orientation_W127']\n",
    "new_ts_df = ts_tgf_dropped.join(ts_tgl_dropped,on='series_id')\n",
    "# print(new_ts_df)"
   ]
  },
  {
   "cell_type": "code",
   "execution_count": 7,
   "metadata": {},
   "outputs": [
    {
     "name": "stderr",
     "output_type": "stream",
     "text": [
      "100%|██████████████████████████████████████████████████████████████████████████████| 3810/3810 [22:45<00:00,  2.82it/s]\n"
     ]
    }
   ],
   "source": [
    "# Find the matching point for each point.\n",
    "pairs_matrix = np.zeros((new_df.shape[0],3)) \n",
    "for c_1 in tqdm(range((new_df.shape[0]))):\n",
    "    min_dist = float(\"inf\")\n",
    "    for c_2 in range(new_df.shape[0]):\n",
    "        if c_1 == c_2 : continue\n",
    "        p1 = [new_df['orientation_X0'].iloc[c_2],new_df['orientation_Y0'].iloc[c_2], new_df['orientation_Z0'].iloc[c_2], new_df['orientation_W0'].iloc[c_2]]\n",
    "        p2 = [new_df['orientation_X127'].iloc[c_1],new_df['orientation_Y127'].iloc[c_1], new_df['orientation_Z127'].iloc[c_1], new_df['orientation_W127'].iloc[c_1]]\n",
    "        pair_dist = euclidean(p2, p1)\n",
    "        if pair_dist < min_dist:\n",
    "            min_dist = pair_dist\n",
    "            pairs_matrix[c_1,0] = pair_dist\n",
    "            pairs_matrix[c_1,1] = c_2"
   ]
  },
  {
   "cell_type": "code",
   "execution_count": 334,
   "metadata": {},
   "outputs": [],
   "source": [
    "# print(pairs_matrix)"
   ]
  },
  {
   "cell_type": "code",
   "execution_count": 335,
   "metadata": {},
   "outputs": [],
   "source": [
    "# print(label['group_id'].iloc[3664])"
   ]
  },
  {
   "cell_type": "code",
   "execution_count": 8,
   "metadata": {},
   "outputs": [],
   "source": [
    "pairs_matrix_groups = pairs_matrix\n",
    "# Find a good threshold.\n",
    "chain_thresh = 0.7e-03\n",
    "pairs_matrix_groups[:,2] = float('inf')\n",
    "sample_num = 0\n",
    "group_num = 0\n",
    "while (np.nonzero(pairs_matrix_groups[:,2]==float('inf'))[0].size != 0):\n",
    "    if (pairs_matrix_groups[int(sample_num),2] != float('inf')):\n",
    "        sample_num = np.nonzero(pairs_matrix_groups[:,2]==float('inf'))[0][0]\n",
    "    if (pairs_matrix_groups[int(sample_num),0]>chain_thresh): \n",
    "        group_num += 1\n",
    "    pairs_matrix_groups[int(sample_num),2] = group_num\n",
    "    sample_num = pairs_matrix_groups[int(sample_num),1] "
   ]
  },
  {
   "cell_type": "code",
   "execution_count": 14,
   "metadata": {},
   "outputs": [
    {
     "data": {
      "text/plain": [
       "358.0"
      ]
     },
     "execution_count": 14,
     "metadata": {},
     "output_type": "execute_result"
    }
   ],
   "source": [
    "max(pairs_matrix_groups[:,2])"
   ]
  },
  {
   "cell_type": "code",
   "execution_count": 9,
   "metadata": {},
   "outputs": [],
   "source": [
    "pmg_df = pd.DataFrame(pairs_matrix_groups, columns=['distance', 'nearest_point', 'group_id'], \n",
    "                      index=range(pairs_matrix_groups.shape[0]))\n",
    "pmg_df['series_id']=pmg_df.index\n",
    "pmg_df = pmg_df[['series_id', 'group_id','distance', 'nearest_point']]\n",
    "pmg_df.to_csv('pmg_df.csv', index=False)"
   ]
  },
  {
   "cell_type": "code",
   "execution_count": 16,
   "metadata": {},
   "outputs": [
    {
     "data": {
      "text/html": [
       "<div>\n",
       "<style scoped>\n",
       "    .dataframe tbody tr th:only-of-type {\n",
       "        vertical-align: middle;\n",
       "    }\n",
       "\n",
       "    .dataframe tbody tr th {\n",
       "        vertical-align: top;\n",
       "    }\n",
       "\n",
       "    .dataframe thead th {\n",
       "        text-align: right;\n",
       "    }\n",
       "</style>\n",
       "<table border=\"1\" class=\"dataframe\">\n",
       "  <thead>\n",
       "    <tr style=\"text-align: right;\">\n",
       "      <th></th>\n",
       "      <th>series_id</th>\n",
       "      <th>group_id</th>\n",
       "      <th>distance</th>\n",
       "      <th>nearest_point</th>\n",
       "    </tr>\n",
       "  </thead>\n",
       "  <tbody>\n",
       "    <tr>\n",
       "      <th>0</th>\n",
       "      <td>0</td>\n",
       "      <td>0.0</td>\n",
       "      <td>0.000488</td>\n",
       "      <td>475.0</td>\n",
       "    </tr>\n",
       "    <tr>\n",
       "      <th>1</th>\n",
       "      <td>1</td>\n",
       "      <td>0.0</td>\n",
       "      <td>0.000000</td>\n",
       "      <td>517.0</td>\n",
       "    </tr>\n",
       "    <tr>\n",
       "      <th>2</th>\n",
       "      <td>2</td>\n",
       "      <td>3.0</td>\n",
       "      <td>0.000000</td>\n",
       "      <td>243.0</td>\n",
       "    </tr>\n",
       "    <tr>\n",
       "      <th>3</th>\n",
       "      <td>3</td>\n",
       "      <td>0.0</td>\n",
       "      <td>0.000000</td>\n",
       "      <td>1422.0</td>\n",
       "    </tr>\n",
       "    <tr>\n",
       "      <th>4</th>\n",
       "      <td>4</td>\n",
       "      <td>20.0</td>\n",
       "      <td>0.000244</td>\n",
       "      <td>95.0</td>\n",
       "    </tr>\n",
       "  </tbody>\n",
       "</table>\n",
       "</div>"
      ],
      "text/plain": [
       "   series_id  group_id  distance  nearest_point\n",
       "0          0       0.0  0.000488          475.0\n",
       "1          1       0.0  0.000000          517.0\n",
       "2          2       3.0  0.000000          243.0\n",
       "3          3       0.0  0.000000         1422.0\n",
       "4          4      20.0  0.000244           95.0"
      ]
     },
     "execution_count": 16,
     "metadata": {},
     "output_type": "execute_result"
    }
   ],
   "source": [
    "pmg_df.head()"
   ]
  },
  {
   "cell_type": "code",
   "execution_count": 17,
   "metadata": {},
   "outputs": [
    {
     "data": {
      "text/html": [
       "<div>\n",
       "<style scoped>\n",
       "    .dataframe tbody tr th:only-of-type {\n",
       "        vertical-align: middle;\n",
       "    }\n",
       "\n",
       "    .dataframe tbody tr th {\n",
       "        vertical-align: top;\n",
       "    }\n",
       "\n",
       "    .dataframe thead th {\n",
       "        text-align: right;\n",
       "    }\n",
       "</style>\n",
       "<table border=\"1\" class=\"dataframe\">\n",
       "  <thead>\n",
       "    <tr style=\"text-align: right;\">\n",
       "      <th></th>\n",
       "      <th>series_id</th>\n",
       "      <th>group_id</th>\n",
       "      <th>surface</th>\n",
       "    </tr>\n",
       "  </thead>\n",
       "  <tbody>\n",
       "    <tr>\n",
       "      <th>0</th>\n",
       "      <td>0</td>\n",
       "      <td>13</td>\n",
       "      <td>fine_concrete</td>\n",
       "    </tr>\n",
       "    <tr>\n",
       "      <th>1</th>\n",
       "      <td>1</td>\n",
       "      <td>31</td>\n",
       "      <td>concrete</td>\n",
       "    </tr>\n",
       "    <tr>\n",
       "      <th>2</th>\n",
       "      <td>2</td>\n",
       "      <td>20</td>\n",
       "      <td>concrete</td>\n",
       "    </tr>\n",
       "    <tr>\n",
       "      <th>3</th>\n",
       "      <td>3</td>\n",
       "      <td>31</td>\n",
       "      <td>concrete</td>\n",
       "    </tr>\n",
       "    <tr>\n",
       "      <th>4</th>\n",
       "      <td>4</td>\n",
       "      <td>22</td>\n",
       "      <td>soft_tiles</td>\n",
       "    </tr>\n",
       "  </tbody>\n",
       "</table>\n",
       "</div>"
      ],
      "text/plain": [
       "   series_id  group_id        surface\n",
       "0          0        13  fine_concrete\n",
       "1          1        31       concrete\n",
       "2          2        20       concrete\n",
       "3          3        31       concrete\n",
       "4          4        22     soft_tiles"
      ]
     },
     "execution_count": 17,
     "metadata": {},
     "output_type": "execute_result"
    }
   ],
   "source": [
    "label.head()"
   ]
  },
  {
   "cell_type": "code",
   "execution_count": 13,
   "metadata": {},
   "outputs": [
    {
     "name": "stderr",
     "output_type": "stream",
     "text": [
      "100%|██████████████████████████████████████████████████████████████████████████████| 3816/3816 [23:08<00:00,  2.78it/s]\n"
     ]
    }
   ],
   "source": [
    "pairs_ts_matrix = np.zeros((new_ts_df.shape[0],3))\n",
    "for c_1 in tqdm(range((new_ts_df.shape[0]))):\n",
    "    min_dist = float(\"inf\")\n",
    "    for c_2 in range(new_ts_df.shape[0]):\n",
    "        if c_1 == c_2 : continue\n",
    "        p1 = [new_ts_df['orientation_X0'].iloc[c_2],new_ts_df['orientation_Y0'].iloc[c_2], new_ts_df['orientation_Z0'].iloc[c_2], new_ts_df['orientation_W0'].iloc[c_2]]\n",
    "        p2 = [new_ts_df['orientation_X127'].iloc[c_1],new_ts_df['orientation_Y127'].iloc[c_1], new_ts_df['orientation_Z127'].iloc[c_1], new_ts_df['orientation_W127'].iloc[c_1]]\n",
    "        pair_dist = euclidean(p2, p1)\n",
    "        if pair_dist < min_dist:\n",
    "            min_dist = pair_dist\n",
    "            pairs_ts_matrix[c_1,0] = pair_dist\n",
    "            pairs_ts_matrix[c_1,1] = c_2"
   ]
  },
  {
   "cell_type": "code",
   "execution_count": 14,
   "metadata": {},
   "outputs": [],
   "source": [
    "pairs_ts_matrix_groups = pairs_ts_matrix\n",
    "pairs_ts_matrix_groups[:,2] = float('inf')\n",
    "sample_num = 0\n",
    "group_num = 0\n",
    "while (np.nonzero(pairs_ts_matrix_groups[:,2]==float('inf'))[0].size != 0):\n",
    "    if (pairs_ts_matrix_groups[int(sample_num),2] != float('inf')):\n",
    "        sample_num = np.nonzero(pairs_ts_matrix_groups[:,2]==float('inf'))[0][0]\n",
    "    if (pairs_ts_matrix_groups[int(sample_num),0]>chain_thresh): \n",
    "        group_num += 1\n",
    "    pairs_ts_matrix_groups[int(sample_num),2] = group_num\n",
    "    sample_num = pairs_ts_matrix_groups[int(sample_num),1] "
   ]
  },
  {
   "cell_type": "code",
   "execution_count": null,
   "metadata": {},
   "outputs": [],
   "source": [
    "max(pairs_ts_matrix_groups[:,2])"
   ]
  },
  {
   "cell_type": "code",
   "execution_count": 15,
   "metadata": {},
   "outputs": [],
   "source": [
    "pmg_ts_df = pd.DataFrame(pairs_ts_matrix_groups, columns=['distance', 'nearest_point', 'group_id'], \n",
    "                      index=range(pairs_ts_matrix_groups.shape[0]))\n",
    "pmg_ts_df['series_id']=pmg_ts_df.index\n",
    "pmg_ts_df = pmg_ts_df[['series_id', 'group_id','distance', 'nearest_point']]\n",
    "pmg_ts_df.to_csv('pmg_ts_df.csv', index=False)"
   ]
  },
  {
   "cell_type": "code",
   "execution_count": 24,
   "metadata": {
    "_uuid": "1ace2a8295eb589ba7adbcfd563f384735f92d72"
   },
   "outputs": [],
   "source": [
    "# This is a dictionary consisting of the weights of the distributions for each target class from the below discussion thread.\n",
    "# https://www.kaggle.com/c/career-con-2019/discussion/85204#latest-496648\n",
    "\n",
    "def create_valid_set(label):\n",
    "    # Lets try creating a validation set of 10% of the total size.\n",
    "    ldict = {\n",
    "        'concrete': 0.16,\n",
    "        'soft_pvc': 0.18,\n",
    "        'wood': 0.06,\n",
    "        'tiled': 0.03,\n",
    "        'fine_concrete': 0.10,\n",
    "        'hard_tiles_large_space': 0.12,\n",
    "        'soft_tiles': 0.23,\n",
    "        'carpet': 0.05,\n",
    "        'hard_tiles': 0.07,\n",
    "    }\n",
    "    score = 0\n",
    "    print(\"Required count of target classes for the Valid Set :: \")\n",
    "    for key, value in ldict.items():\n",
    "        score += value\n",
    "        print(key, int(value * 380)) # Multiplying by 380 i.e 10% of 3810 for our validation size of 10%.\n",
    "        ldict[key] = int(value * 380)\n",
    "    print(\"\\nTotal Weights of class :: \", score)\n",
    "    \n",
    "    # Grouping surface with group_id and the count attached to each surface.\n",
    "    ser = label.groupby(['surface'])['group_id'].value_counts()\n",
    "    ser = pd.DataFrame(ser)\n",
    "    ser.columns = ['count']\n",
    "    \n",
    "    # Maually creating the valid set using the counts using the required count and the count we have in the train set.\n",
    "    # This dictionary consists of the group_id for the required valid set. \n",
    "    cv_set = {\n",
    "        'concrete': [0],\n",
    "        'soft_pvc': [69],\n",
    "        'wood': [2],\n",
    "        'tiled': [28],\n",
    "        'fine_concrete': [36],\n",
    "        'hard_tiles_large_space': [16],\n",
    "        'soft_tiles': [4, 17],\n",
    "        'carpet': [52],\n",
    "        'hard_tiles': [27],\n",
    "    }\n",
    "\n",
    "    cv_size = 0\n",
    "    for key, value in cv_set.items():\n",
    "        print(key)\n",
    "        for i in value:\n",
    "            cv_size += label[label['group_id'] == i].shape[0]\n",
    "            print(\"\\nGot shape :: \", label[label['group_id'] == i].shape[0])\n",
    "        print(\"Expected shape :: \", ldict[key])\n",
    "    \n",
    "    val_df = pd.DataFrame()\n",
    "    for key, value in cv_set.items():\n",
    "        for i in value:\n",
    "            val_df = pd.concat([val_df, label[label['group_id'] == i]])\n",
    "    print(\"Valid Set Size :: \", val_df.shape[0])\n",
    "    \n",
    "    # We have only 1 group_id for the hard_tiles and it consists of only 21 records.\n",
    "    # So we have added the same group_id in the train as well as valid set. GROUP_ID = 27(for \"hard_tiles\")\n",
    "    hard_tiles_index = label[(label['surface'] == 'hard_tiles') & (label['group_id'] == 27)].index\n",
    "    \n",
    "    # Therefore train set = Total Set series_id - Valid Set series_id + Hard_Tiles.index\n",
    "    trn_series_id_list = list(set(label.series_id.unique()) - set(val_df.series_id.unique())) + hard_tiles_index.tolist()\n",
    "    \n",
    "    print(\"Train Set Distribution\")\n",
    "    print(label['surface'].iloc[trn_series_id_list].value_counts())\n",
    "    \n",
    "    print(\"Valid Set Distribution\")\n",
    "    print(label['surface'].iloc[val_df.index].value_counts())\n",
    "    \n",
    "    trn_df = label.iloc[trn_series_id_list]\n",
    "    \n",
    "    trn_df.set_index(['series_id'], inplace=True)\n",
    "    val_df.set_index(['series_id'], inplace=True)\n",
    "    \n",
    "    return trn_df, val_df"
   ]
  },
  {
   "cell_type": "code",
   "execution_count": null,
   "metadata": {
    "_uuid": "7208ace91874fbdaa56c8d18f8d2b786d166b9f8"
   },
   "outputs": [],
   "source": [
    "def FE(data):\n",
    "    df = pd.DataFrame()\n",
    "    data['totl_anglr_vel'] = (data['angular_velocity_X']**2 + data['angular_velocity_Y']**2 +\n",
    "                             data['angular_velocity_Z']**2)** 0.5\n",
    "    data['totl_linr_acc'] = (data['linear_acceleration_X']**2 + data['linear_acceleration_Y']**2 +\n",
    "                             data['linear_acceleration_Z']**2)**0.5\n",
    "    data['totl_xyz'] = (data['orientation_X']**2 + data['orientation_Y']**2 +\n",
    "                        data['orientation_Z']**2)**0.5\n",
    "    data['z_planar_anglr_vel'] = (data['angular_velocity_X']**2 + data['angular_velocity_Y']**2)**0.5\n",
    "    data['z_planar_linr_acc'] = (data['linear_acceleration_X']**2 + data['linear_acceleration_Y']**2)**0.5\n",
    "    #Lets derive one more column since there is a relationship in velocity and acceleration\n",
    "    # v = u + a*t , u is initial velocty. if u = 0, then v = at means t = v/a\n",
    "    # but value of acceleration is more and value of velocity is less, lets do a/v relation\n",
    "    # data['acc_vs_vel'] = data['totl_linr_acc'] / data['totl_anglr_vel']\n",
    "    \n",
    "    # Deriving more feature, since we are reducing rows now, we should know min,max,mean values\n",
    "    for col in data.columns:\n",
    "        if col in ['row_id','series_id','measurement_number']:\n",
    "            continue\n",
    "        df[col + '_mean'] = data.groupby(['series_id'])[col].mean()\n",
    "        df[col + '_median'] = data.groupby(['series_id'])[col].median()\n",
    "        # df[col + '_max'] = data.groupby(['series_id'])[col].max()\n",
    "        df[col + '_min'] = data.groupby(['series_id'])[col].min()\n",
    "        df[col + '_std'] = data.groupby(['series_id'])[col].std()\n",
    "        df[col + '_maxtoMin'] = data.groupby(['series_id'])[col].max() / data.groupby(['series_id'])[col].min()\n",
    "        df[col + '_mean_abs_chg'] = data.groupby(['series_id'])[col].apply(lambda x: mean_abs_change(x))\n",
    "        df[col + '_abs_min'] = data.groupby(['series_id'])[col].apply(lambda x: np.min(np.abs(x)))\n",
    "        # df[col + '_abs_max'] = data.groupby(['series_id'])[col].apply(lambda x: np.max(np.abs(x)))\n",
    "        df[col + '_kurtosis'] = data.groupby(['series_id'])[col].apply(lambda x: kurtosis(x))\n",
    "        df[col + '_skewness'] = data.groupby(['series_id'])[col].apply(lambda x: skewness(x))\n",
    "        # df[col + '_abs_avg'] = (df[col + '_abs_min'] + df[col + '_abs_max'])/2\n",
    "        # df[\"diff_\"+col] = df[col]-df[col].shift(1)\n",
    "        # df[\"ma_\"+col] = np.square(abs(df[col]-df[col].rolling(8).mean()))\n",
    "    return df"
   ]
  },
  {
   "cell_type": "code",
   "execution_count": null,
   "metadata": {
    "_uuid": "33bf57ffea4f94c55e4a1b6ed4a20edb16860f00",
    "scrolled": true
   },
   "outputs": [],
   "source": [
    "trn_df, val_df = create_valid_set(label)\n",
    "train = FE(train)\n",
    "test = FE(test)"
   ]
  },
  {
   "cell_type": "code",
   "execution_count": null,
   "metadata": {
    "_uuid": "fb4f15b66c7ede4b10705fe41cb686692dcc38ad"
   },
   "outputs": [],
   "source": [
    "le = LabelEncoder()\n",
    "label['surface'] = le.fit_transform(label['surface'])"
   ]
  },
  {
   "cell_type": "code",
   "execution_count": null,
   "metadata": {
    "_uuid": "d253b11bb301c8a32d2282eeb0a141ecdb9ca43a"
   },
   "outputs": [],
   "source": [
    "train.fillna(0,inplace=True)\n",
    "train.replace(-np.inf,0,inplace=True)\n",
    "train.replace(np.inf,0,inplace=True)\n",
    "test.fillna(0,inplace=True)\n",
    "test.replace(-np.inf,0,inplace=True)\n",
    "test.replace(np.inf,0,inplace=True)"
   ]
  },
  {
   "cell_type": "code",
   "execution_count": null,
   "metadata": {
    "_uuid": "b825724ca37bfb1d95b2aa1b49471d5354c61ee7"
   },
   "outputs": [],
   "source": [
    "train_groups = pd.DataFrame(pmg_df['group_id'])\n",
    "x_train = train.iloc[trn_df.index]\n",
    "y_train = label['surface'].iloc[trn_df.index]\n",
    "\n",
    "x_val = train.iloc[val_df.index]\n",
    "y_val = label['surface'].iloc[val_df.index]\n",
    "\n",
    "# print(x_train.shape, y_train.shape, x_val.shape, y_val.shape)"
   ]
  },
  {
   "cell_type": "code",
   "execution_count": 352,
   "metadata": {},
   "outputs": [
    {
     "name": "stdout",
     "output_type": "stream",
     "text": [
      "(3810, 9)\n",
      "(3810, 1)\n"
     ]
    }
   ],
   "source": [
    "rand.fit(x_train, y_train)\n",
    "train_probs = rand.predict_proba(train)\n",
    "print(train_probs.shape)\n",
    "print(train_groups.shape)\n",
    "preds_groups_df = pd.DataFrame(train_probs).join(train_groups)"
   ]
  },
  {
   "cell_type": "code",
   "execution_count": 354,
   "metadata": {},
   "outputs": [
    {
     "name": "stdout",
     "output_type": "stream",
     "text": [
      "Indices Int64Index([  22,  159,  379,  425,  463,  474,  497,  505,  585,  592,  706,\n",
      "             822,  864,  887,  892, 1071, 1126, 1194, 1197, 1217, 1219, 1225,\n",
      "            1255, 1256, 1401, 1532, 1547, 1553, 1589, 1696],\n",
      "           dtype='int64')\n",
      "Prediction 6\n"
     ]
    }
   ],
   "source": [
    "g_id = 9\n",
    "full_train_predictions = np.zeros((train_probs.shape[0]))\n",
    "# print(\"Indices\", preds_groups_df[preds_groups_df['group_id']==g_id].index)\n",
    "# print(\"Prediction\",preds_groups_df[preds_groups_df['group_id']==g_id].mean()[[0,1,2,3,4,5,6,7,8]].idxmax())\n",
    "# full_train_predictions[preds_groups_df[preds_groups_df['group_id']==g_id].index] = preds_groups_df[preds_groups_df['group_id']==g_id].mean()[[1,2,3,4,5,6,7,8]].idxmax()\n",
    "print(preds_groups_df[preds_groups_df['group_id']==g_id].mean()[[0,1,2,3,4,5,6,7,8]])"
   ]
  },
  {
   "cell_type": "code",
   "execution_count": 355,
   "metadata": {},
   "outputs": [
    {
     "name": "stdout",
     "output_type": "stream",
     "text": [
      "['concrete' 'concrete' 'concrete' ... 'fine_concrete' 'soft_pvc'\n",
      " 'soft_pvc']\n"
     ]
    }
   ],
   "source": [
    "full_train_predictions = np.zeros((train_probs.shape[0]), dtype='int32')\n",
    "for g_id in range(preds_groups_df['group_id'].nunique()):\n",
    "    group_indices = preds_groups_df[preds_groups_df['group_id']==g_id].index\n",
    "    predicted_value = preds_groups_df[preds_groups_df['group_id']==g_id].mean()[[0,1,2,3,4,5,6,7,8]].idxmax()\n",
    "    full_train_predictions[group_indices] = int(predicted_value)"
   ]
  },
  {
   "cell_type": "code",
   "execution_count": 379,
   "metadata": {},
   "outputs": [
    {
     "name": "stdout",
     "output_type": "stream",
     "text": [
      "Grouped CV Acc: 0.5068870523415978\n",
      "Standard CV Acc: 0.628099173553719\n"
     ]
    }
   ],
   "source": [
    "print(\"Grouped CV Acc:\", accuracy_score(le.inverse_transform(full_train_predictions[val_df.index]),le.inverse_transform(label['surface'].iloc[val_df.index])))\n",
    "print(\"Standard CV Acc:\", accuracy_score(le.inverse_transform(label['surface'].iloc[val_df.index]), le.inverse_transform(rand.predict(train.iloc[val_df.index]))))"
   ]
  },
  {
   "cell_type": "code",
   "execution_count": 152,
   "metadata": {
    "_uuid": "a049655f72a99c5be96897d5ad626739681d51f9"
   },
   "outputs": [],
   "source": [
    "def lb_dist(model):\n",
    "    model.fit(x_train, y_train)\n",
    "    print(\"Train Acc :: \", accuracy_score(y_train, model.predict(x_train)))\n",
    "    print(\"Valid Acc :: \", accuracy_score(y_val, model.predict(x_val)))\n",
    "    print(\"CV Accuracy :: \", cross_val_score(rand, train, label['surface'], cv=5).mean())\n",
    "\n",
    "    return model"
   ]
  },
  {
   "cell_type": "code",
   "execution_count": 315,
   "metadata": {
    "_uuid": "3ef09df140c7a7d4253af8dae521fd3ff299fcf9"
   },
   "outputs": [
    {
     "name": "stdout",
     "output_type": "stream",
     "text": [
      "Train Acc ::  1.0\n",
      "Valid Acc ::  0.628099173553719\n",
      "CV Accuracy ::  0.827198389531631\n"
     ]
    }
   ],
   "source": [
    "rand = RandomForestClassifier(n_estimators=200, random_state=1337)\n",
    "rand = lb_dist(rand)"
   ]
  },
  {
   "cell_type": "code",
   "execution_count": 116,
   "metadata": {},
   "outputs": [],
   "source": [
    "# Analyzing the predicted probabilities.\n",
    "# np.savetxt(\"test_probs.txt\",model.predict_proba(test), fmt='%.2f')"
   ]
  },
  {
   "cell_type": "markdown",
   "metadata": {
    "_uuid": "756522b8c1c07d3b1960943f1f7fd300205a8d7f"
   },
   "source": [
    "Well those three lines state my pain of matching local CV to LeaderBoard.\n",
    "\n",
    "Lets understand what those 3 lines say:\n",
    "1. Our Classifier is overfitting like HELL.\n",
    "2. Cross Validation is also misleading as : \n",
    "            a. Test Distribution is different from the Train Distribution.\n",
    "            b. In CV some splits might end up not even considering the \"hard_tiles\" class as it has only 21 records.\n",
    "            c. The \"hard_tiles\" and \"soft_tiles\" hold quite a lot in the leaderboard.\n",
    "\n",
    "So we must find features which could help us classifying classes like  :  \"hard_tiles\", \"soft_tiles\", \"tiled\", \"wood\" as they have very different Train and LeaderBoard distributions."
   ]
  },
  {
   "cell_type": "markdown",
   "metadata": {
    "_uuid": "d24db68c164b414f6a266c0605b2166f1a62cf6e"
   },
   "source": [
    "**Lets check Confusion Matrix and see how our Classifier is doing.**"
   ]
  },
  {
   "cell_type": "code",
   "execution_count": 117,
   "metadata": {
    "_uuid": "9424f772f6e17d5dbfadef1d55901eb941c614ae"
   },
   "outputs": [
    {
     "data": {
      "image/png": "[encoded data removed]",
      "text/plain": [
       "<Figure size 720x720 with 2 Axes>"
      ]
     },
     "metadata": {},
     "output_type": "display_data"
    }
   ],
   "source": [
    "plot_confusion_matrix(y_val, rand.predict(x_val), classes=le.classes_)"
   ]
  },
  {
   "cell_type": "markdown",
   "metadata": {
    "_uuid": "015c6fb3cc2dda8bd6e0b66a4fa7dde6b7299990"
   },
   "source": [
    "**Understanding the Confusion Matrix**\n",
    "\n",
    "This plot states so much that is very valuable in what to do next to **increase our SCORE.**\n",
    "\n",
    "What I learnt from this plot : \n",
    "\n",
    "**1. The diagonal in confusion matrix should always look bright i.e more populated in the whole matrix which means that the True Labels and the Predicted Labels must be same (or we should maximise that).**\n",
    "\n",
    "Example of a **Good Confusion Matrix **\n",
    "\n",
    "<img src=\"https://scikit-learn.org/stable/_images/sphx_glr_plot_confusion_matrix_002.png\" />\n",
    "\n",
    "**2. Worst Classified Classes are :**\n",
    "\n",
    "        a. Carpet - 1 correctly classified out of 11.\n",
    "        b. Concrete - 57 out of 57 (Might be Overfit).\n",
    "        c. Fine_Concrete - 0 out of 36 (WHAT!!!)\n",
    "        d. Hard_Tiles - 21 out of 21 (Might be Overfit).\n",
    "        e. Hard_Tiles_Large_Space - 0 out of 45 (WHAT!!!)\n",
    "        f. Soft_PVC - 66 out of 70 (GREAT) \n",
    "        g. Soft_Tiles - 53 ou tof 69 (I can live with that.)\n",
    "        h. Tiled - 33 out of 36 (GREAT)\n",
    "        i. Wood - 0 out of 18 (You kidding?)\n",
    "\n",
    "\n",
    "**This Confusion Matrix reveals the major faults in our RandomForestClassifier.**\n",
    "\n",
    "**So fixing these faults would/should mean an increase in score. (FOR SURE)**"
   ]
  },
  {
   "cell_type": "code",
   "execution_count": 118,
   "metadata": {
    "_uuid": "9db770e28130ca7e6619e1b86017b0c7d689bdc3"
   },
   "outputs": [
    {
     "name": "stdout",
     "output_type": "stream",
     "text": [
      "Accuracy Score ::  0.9658792650918635\n"
     ]
    },
    {
     "data": {
      "image/png": "[encoded data removed]",
      "text/plain": [
       "<Figure size 720x720 with 2 Axes>"
      ]
     },
     "metadata": {},
     "output_type": "display_data"
    }
   ],
   "source": [
    "print(\"Accuracy Score :: \", accuracy_score(label['surface'], rand.predict(train)))\n",
    "plot_confusion_matrix(label['surface'], rand.predict(train), classes=le.classes_)"
   ]
  },
  {
   "cell_type": "markdown",
   "metadata": {
    "_uuid": "4eccb76228734881304e7f4be07fb964259b3710"
   },
   "source": [
    "**We can see that the Classifier is clearly overfitting by getting 96% in local CV and check the matrix!!**\n",
    "\n",
    "**That is one clean and bright diagonal.** (Just if I had that for the Leaderboard  **** *******__*******  )"
   ]
  },
  {
   "cell_type": "code",
   "execution_count": 119,
   "metadata": {
    "_uuid": "658aae6e5cc9e3a15e9a3c736b5adc5b4ec237fa"
   },
   "outputs": [],
   "source": [
    "folds = StratifiedKFold(n_splits=5, shuffle=True, random_state=1337)\n",
    "predicted = np.zeros((test.shape[0],9))\n",
    "measured= np.zeros((train.shape[0]))\n",
    "score = 0"
   ]
  },
  {
   "cell_type": "code",
   "execution_count": 120,
   "metadata": {
    "_uuid": "625879332dd2e0eee83c213550473b33a8eea7d3"
   },
   "outputs": [
    {
     "ename": "ValueError",
     "evalue": "Number of features of the model must match the input. Model n_features is 136 and input n_features is 135 ",
     "output_type": "error",
     "traceback": [
      "\u001b[1;31m---------------------------------------------------------------------------\u001b[0m",
      "\u001b[1;31mValueError\u001b[0m                                Traceback (most recent call last)",
      "\u001b[1;32m<ipython-input-120-38345c23b3d9>\u001b[0m in \u001b[0;36m<module>\u001b[1;34m\u001b[0m\n\u001b[0;32m      3\u001b[0m     \u001b[0mmodel\u001b[0m\u001b[1;33m.\u001b[0m\u001b[0mfit\u001b[0m\u001b[1;33m(\u001b[0m\u001b[0mtrain\u001b[0m\u001b[1;33m.\u001b[0m\u001b[0miloc\u001b[0m\u001b[1;33m[\u001b[0m\u001b[0mtrn_idx\u001b[0m\u001b[1;33m]\u001b[0m\u001b[1;33m,\u001b[0m \u001b[0mlabel\u001b[0m\u001b[1;33m[\u001b[0m\u001b[1;34m'surface'\u001b[0m\u001b[1;33m]\u001b[0m\u001b[1;33m[\u001b[0m\u001b[0mtrn_idx\u001b[0m\u001b[1;33m]\u001b[0m\u001b[1;33m)\u001b[0m\u001b[1;33m\u001b[0m\u001b[1;33m\u001b[0m\u001b[0m\n\u001b[0;32m      4\u001b[0m     \u001b[0mmeasured\u001b[0m\u001b[1;33m[\u001b[0m\u001b[0mval_idx\u001b[0m\u001b[1;33m]\u001b[0m \u001b[1;33m=\u001b[0m \u001b[0mmodel\u001b[0m\u001b[1;33m.\u001b[0m\u001b[0mpredict\u001b[0m\u001b[1;33m(\u001b[0m\u001b[0mtrain\u001b[0m\u001b[1;33m.\u001b[0m\u001b[0miloc\u001b[0m\u001b[1;33m[\u001b[0m\u001b[0mval_idx\u001b[0m\u001b[1;33m]\u001b[0m\u001b[1;33m)\u001b[0m\u001b[1;33m\u001b[0m\u001b[1;33m\u001b[0m\u001b[0m\n\u001b[1;32m----> 5\u001b[1;33m     \u001b[0mpredicted\u001b[0m \u001b[1;33m+=\u001b[0m \u001b[0mmodel\u001b[0m\u001b[1;33m.\u001b[0m\u001b[0mpredict_proba\u001b[0m\u001b[1;33m(\u001b[0m\u001b[0mtest\u001b[0m\u001b[1;33m)\u001b[0m\u001b[1;33m/\u001b[0m\u001b[0mfolds\u001b[0m\u001b[1;33m.\u001b[0m\u001b[0mn_splits\u001b[0m\u001b[1;33m\u001b[0m\u001b[1;33m\u001b[0m\u001b[0m\n\u001b[0m\u001b[0;32m      6\u001b[0m     \u001b[0mscore\u001b[0m \u001b[1;33m+=\u001b[0m \u001b[0mmodel\u001b[0m\u001b[1;33m.\u001b[0m\u001b[0mscore\u001b[0m\u001b[1;33m(\u001b[0m\u001b[0mtrain\u001b[0m\u001b[1;33m.\u001b[0m\u001b[0miloc\u001b[0m\u001b[1;33m[\u001b[0m\u001b[0mval_idx\u001b[0m\u001b[1;33m]\u001b[0m\u001b[1;33m,\u001b[0m \u001b[0mlabel\u001b[0m\u001b[1;33m[\u001b[0m\u001b[1;34m'surface'\u001b[0m\u001b[1;33m]\u001b[0m\u001b[1;33m[\u001b[0m\u001b[0mval_idx\u001b[0m\u001b[1;33m]\u001b[0m\u001b[1;33m)\u001b[0m\u001b[1;33m\u001b[0m\u001b[1;33m\u001b[0m\u001b[0m\n\u001b[0;32m      7\u001b[0m     \u001b[0mprint\u001b[0m\u001b[1;33m(\u001b[0m\u001b[1;34m\"Fold: {} score: {}\"\u001b[0m\u001b[1;33m.\u001b[0m\u001b[0mformat\u001b[0m\u001b[1;33m(\u001b[0m\u001b[0mtimes\u001b[0m\u001b[1;33m,\u001b[0m \u001b[0mmodel\u001b[0m\u001b[1;33m.\u001b[0m\u001b[0mscore\u001b[0m\u001b[1;33m(\u001b[0m\u001b[0mtrain\u001b[0m\u001b[1;33m.\u001b[0m\u001b[0miloc\u001b[0m\u001b[1;33m[\u001b[0m\u001b[0mval_idx\u001b[0m\u001b[1;33m]\u001b[0m\u001b[1;33m,\u001b[0m \u001b[0mlabel\u001b[0m\u001b[1;33m[\u001b[0m\u001b[1;34m'surface'\u001b[0m\u001b[1;33m]\u001b[0m\u001b[1;33m[\u001b[0m\u001b[0mval_idx\u001b[0m\u001b[1;33m]\u001b[0m\u001b[1;33m)\u001b[0m\u001b[1;33m)\u001b[0m\u001b[1;33m)\u001b[0m\u001b[1;33m\u001b[0m\u001b[1;33m\u001b[0m\u001b[0m\n",
      "\u001b[1;32mc:\\users\\mert\\anaconda3\\envs\\ml_env\\lib\\site-packages\\sklearn\\ensemble\\forest.py\u001b[0m in \u001b[0;36mpredict_proba\u001b[1;34m(self, X)\u001b[0m\n\u001b[0;32m    581\u001b[0m         \u001b[0mcheck_is_fitted\u001b[0m\u001b[1;33m(\u001b[0m\u001b[0mself\u001b[0m\u001b[1;33m,\u001b[0m \u001b[1;34m'estimators_'\u001b[0m\u001b[1;33m)\u001b[0m\u001b[1;33m\u001b[0m\u001b[1;33m\u001b[0m\u001b[0m\n\u001b[0;32m    582\u001b[0m         \u001b[1;31m# Check data\u001b[0m\u001b[1;33m\u001b[0m\u001b[1;33m\u001b[0m\u001b[1;33m\u001b[0m\u001b[0m\n\u001b[1;32m--> 583\u001b[1;33m         \u001b[0mX\u001b[0m \u001b[1;33m=\u001b[0m \u001b[0mself\u001b[0m\u001b[1;33m.\u001b[0m\u001b[0m_validate_X_predict\u001b[0m\u001b[1;33m(\u001b[0m\u001b[0mX\u001b[0m\u001b[1;33m)\u001b[0m\u001b[1;33m\u001b[0m\u001b[1;33m\u001b[0m\u001b[0m\n\u001b[0m\u001b[0;32m    584\u001b[0m \u001b[1;33m\u001b[0m\u001b[0m\n\u001b[0;32m    585\u001b[0m         \u001b[1;31m# Assign chunk of trees to jobs\u001b[0m\u001b[1;33m\u001b[0m\u001b[1;33m\u001b[0m\u001b[1;33m\u001b[0m\u001b[0m\n",
      "\u001b[1;32mc:\\users\\mert\\anaconda3\\envs\\ml_env\\lib\\site-packages\\sklearn\\ensemble\\forest.py\u001b[0m in \u001b[0;36m_validate_X_predict\u001b[1;34m(self, X)\u001b[0m\n\u001b[0;32m    360\u001b[0m                                  \"call `fit` before exploiting the model.\")\n\u001b[0;32m    361\u001b[0m \u001b[1;33m\u001b[0m\u001b[0m\n\u001b[1;32m--> 362\u001b[1;33m         \u001b[1;32mreturn\u001b[0m \u001b[0mself\u001b[0m\u001b[1;33m.\u001b[0m\u001b[0mestimators_\u001b[0m\u001b[1;33m[\u001b[0m\u001b[1;36m0\u001b[0m\u001b[1;33m]\u001b[0m\u001b[1;33m.\u001b[0m\u001b[0m_validate_X_predict\u001b[0m\u001b[1;33m(\u001b[0m\u001b[0mX\u001b[0m\u001b[1;33m,\u001b[0m \u001b[0mcheck_input\u001b[0m\u001b[1;33m=\u001b[0m\u001b[1;32mTrue\u001b[0m\u001b[1;33m)\u001b[0m\u001b[1;33m\u001b[0m\u001b[1;33m\u001b[0m\u001b[0m\n\u001b[0m\u001b[0;32m    363\u001b[0m \u001b[1;33m\u001b[0m\u001b[0m\n\u001b[0;32m    364\u001b[0m     \u001b[1;33m@\u001b[0m\u001b[0mproperty\u001b[0m\u001b[1;33m\u001b[0m\u001b[1;33m\u001b[0m\u001b[0m\n",
      "\u001b[1;32mc:\\users\\mert\\anaconda3\\envs\\ml_env\\lib\\site-packages\\sklearn\\tree\\tree.py\u001b[0m in \u001b[0;36m_validate_X_predict\u001b[1;34m(self, X, check_input)\u001b[0m\n\u001b[0;32m    386\u001b[0m                              \u001b[1;34m\"match the input. Model n_features is %s and \"\u001b[0m\u001b[1;33m\u001b[0m\u001b[1;33m\u001b[0m\u001b[0m\n\u001b[0;32m    387\u001b[0m                              \u001b[1;34m\"input n_features is %s \"\u001b[0m\u001b[1;33m\u001b[0m\u001b[1;33m\u001b[0m\u001b[0m\n\u001b[1;32m--> 388\u001b[1;33m                              % (self.n_features_, n_features))\n\u001b[0m\u001b[0;32m    389\u001b[0m \u001b[1;33m\u001b[0m\u001b[0m\n\u001b[0;32m    390\u001b[0m         \u001b[1;32mreturn\u001b[0m \u001b[0mX\u001b[0m\u001b[1;33m\u001b[0m\u001b[1;33m\u001b[0m\u001b[0m\n",
      "\u001b[1;31mValueError\u001b[0m: Number of features of the model must match the input. Model n_features is 136 and input n_features is 135 "
     ]
    }
   ],
   "source": [
    "for times, (trn_idx, val_idx) in enumerate(folds.split(train.values, label['surface'].values)):\n",
    "    model = RandomForestClassifier(n_estimators=500, random_state=1337)\n",
    "    model.fit(train.iloc[trn_idx], label['surface'][trn_idx])\n",
    "    measured[val_idx] = model.predict(train.iloc[val_idx])\n",
    "    predicted += model.predict_proba(test)/folds.n_splits\n",
    "    score += model.score(train.iloc[val_idx], label['surface'][val_idx])\n",
    "    print(\"Fold: {} score: {}\".format(times, model.score(train.iloc[val_idx], label['surface'][val_idx])))\n",
    "    importances = model.feature_importances_\n",
    "    indices = np.argsort(importances)\n",
    "    features = train.columns\n",
    "\n",
    "    hm = 30\n",
    "    plt.figure(figsize=(7, 10))\n",
    "    plt.title('Feature Importances')\n",
    "    plt.barh(range(len(indices[:hm])), importances[indices][:hm], color='b', align='center')\n",
    "    plt.yticks(range(len(indices[:hm])), [features[i] for i in indices])\n",
    "    plt.xlabel('Relative Importance')\n",
    "    plt.show()\n",
    "    gc.collect()\n"
   ]
  },
  {
   "cell_type": "markdown",
   "metadata": {
    "_uuid": "b96c859884a46e5fa2a84200c01500505be6bd98"
   },
   "source": [
    "**Submitting our Predictions**"
   ]
  },
  {
   "cell_type": "code",
   "execution_count": null,
   "metadata": {
    "_uuid": "3ee3fe46c226e02e084fba1584b7e5f5f2cba9e6"
   },
   "outputs": [],
   "source": [
    "sub['surface'] = le.inverse_transform(predicted.argmax(axis=1))\n",
    "sub.to_csv('rand_sub_10.csv', index=False)\n",
    "sub.head()"
   ]
  },
  {
   "cell_type": "markdown",
   "metadata": {
    "_uuid": "d00890b432bf289bf42f7f81097917c6cf6b4801"
   },
   "source": [
    "**This submission scores 0.71 on LeaderBoard and we got a Validation Accuracy of 0.64. I think that might be good enough.**"
   ]
  },
  {
   "cell_type": "markdown",
   "metadata": {
    "_uuid": "51fb7c8508922d8123fdcf653340c14d027bbb54"
   },
   "source": [
    "**Checking our predictions for the Test Set**"
   ]
  },
  {
   "cell_type": "code",
   "execution_count": null,
   "metadata": {
    "_uuid": "40588c6294da12084ceb31bdcab5d9cc3286287c"
   },
   "outputs": [],
   "source": [
    "sub.surface.value_counts()"
   ]
  },
  {
   "cell_type": "markdown",
   "metadata": {
    "_uuid": "552a3c3e176142ffe1366645b79ea7b0b54123c5"
   },
   "source": [
    "This was my first kernel, so please spare me and everybody is welcome for their suggestions in the comments.\n",
    "\n",
    "** **CONCLUSION** :: Understanding the confusion matrix and solving the problem of the imbalance in the target classes is defintly the way to go for increasing the Accuracy Score.**"
   ]
  },
  {
   "cell_type": "markdown",
   "metadata": {
    "_uuid": "ddf640cc053f85507b207d60f80bd63cdec04bfe"
   },
   "source": [
    "References :: \n",
    "\n",
    "Feature Engineering : \n",
    "\n",
    "1. https://www.kaggle.com/prashantkikani/help-humanity-by-helping-robots/\n",
    "\n",
    "2. https://www.kaggle.com/jesucristo/my-best-helping-robots-0-72\n",
    "\n",
    "LeaderBoard Probing\n",
    "\n",
    "1. https://www.kaggle.com/c/career-con-2019/discussion/84760\n",
    "\n",
    "2. https://www.kaggle.com/c/career-con-2019/discussion/85204\n",
    " \n",
    "\n"
   ]
  },
  {
   "cell_type": "markdown",
   "metadata": {
    "_uuid": "67c418fc00b691f6d3beee357600d11ca4dba262"
   },
   "source": [
    "**Thanks** for your time and **UPVOTE** if you liked it and decide to try the same. "
   ]
  },
  {
   "cell_type": "code",
   "execution_count": null,
   "metadata": {
    "_uuid": "1900fcdaa4c9319d5a52b1db04f82fcb27fff57a"
   },
   "outputs": [],
   "source": []
  }
 ],
 "metadata": {
  "kernelspec": {
   "display_name": "Python 3",
   "language": "python",
   "name": "python3"
  },
  "language_info": {
   "codemirror_mode": {
    "name": "ipython",
    "version": 3
   },
   "file_extension": ".py",
   "mimetype": "text/x-python",
   "name": "python",
   "nbconvert_exporter": "python",
   "pygments_lexer": "ipython3",
   "version": "3.6.8"
  }
 },
 "nbformat": 4,
 "nbformat_minor": 1
}
